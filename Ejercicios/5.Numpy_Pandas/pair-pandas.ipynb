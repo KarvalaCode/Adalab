{
 "cells": [
  {
   "cell_type": "markdown",
   "metadata": {},
   "source": [
    "# Pair programming Intro a Pandas\n",
    "El objetivo de la clase de hoy será crear unos cuántos DataFrames y Series a través de los siguientes\n",
    "## Ejercicios:\n",
    "1. ¿Qué diferencia hay entre una Serie y un DataFrame?\n",
    "Una serie es unidimensional y un DataFrame es bidimensional"
   ]
  },
  {
   "cell_type": "markdown",
   "metadata": {},
   "source": [
    "2. Momento de trabajar con Series. Contesta a las siguientes preguntas:\n",
    "Crea dos listas:\n",
    "- Una que se llame \"valores\" que tenga 7 números aleatorios.\n",
    "- Otra que se llame \"indices\" que tenga 7 strings que se llamen como los días de la semana.\n",
    "- A partir de estas dos listas crea una Serie donde la variable \"valores\" sean los valores de la Serie\n",
    "y la variable indices sean los índices de la Serie.\n",
    "- A partir de las dos listas anteriores crea un diccionario usando un bucle for. Para hacer esto\n",
    "tenemos el método zip que nos permite iterar por dos listas a la vez. Más informción sobre este\n",
    "método [aquí](https://www.programiz.com/python-programming/methods/built-in/zip)\n",
    "- Crea una Serie con el diccionario creado en el punto anterior.\n",
    "- ¿Qué forma tiene esta última Serie?\n",
    "- ¿Qué tipo de datos tiene?\n",
    "- ¿Qué tamaño tiene?\n",
    "- ¿Cuáles son los índices de la Serie?\n",
    "- ¿Y los values?\n",
    "- Extrae el valor para el índice \"lunes\"\n",
    "- Extrae el valor para el índice \"lunes\", \"martes\" y \"miércoles\".\n",
    "- Extrae el valor para el índice \"lunes\" y \"domingo\"."
   ]
  },
  {
   "cell_type": "code",
   "execution_count": 14,
   "metadata": {},
   "outputs": [],
   "source": [
    "import pandas as pd\n",
    "import numpy as np"
   ]
  },
  {
   "cell_type": "code",
   "execution_count": 2,
   "metadata": {},
   "outputs": [
    {
     "name": "stdout",
     "output_type": "stream",
     "text": [
      "Lunes        1\n",
      "Martes       8\n",
      "Miercoles    5\n",
      "Jueves       6\n",
      "Viernes      9\n",
      "Sábado       2\n",
      "Domingo      3\n",
      "dtype: int64\n"
     ]
    },
    {
     "data": {
      "text/plain": [
       "{'Lunes': 1,\n",
       " 'Martes': 8,\n",
       " 'Miercoles': 5,\n",
       " 'Jueves': 6,\n",
       " 'Viernes': 9,\n",
       " 'Sábado': 2,\n",
       " 'Domingo': 3}"
      ]
     },
     "execution_count": 2,
     "metadata": {},
     "output_type": "execute_result"
    }
   ],
   "source": [
    "# Crea dos listas:\n",
    "# Una que se llame \"valores\" que tenga 7 números aleatorios.\n",
    "valores = [1,8,5,6,9,2,3]\n",
    "\n",
    "# Otra que se llame \"indices\" que tenga 7 strings que se llamen como los días de la semana.\n",
    "indices =  [\"Lunes\",\"Martes\",\"Miercoles\",\"Jueves\",\"Viernes\", \"Sábado\", \"Domingo\"]\n",
    "\n",
    "# A partir de estas dos listas crea una Serie donde la variable \"valores\" sean los valores de la Serie y la variable indices sean los índices de la Serie.\n",
    "semana = pd.Series(valores, index=indices)\n",
    "print(semana)\n",
    "# A partir de las dos listas anteriores crea un diccionario usando un bucle for. Para hacer esto tenemos el método zip que nos permite iterar por dos listas a la vez. Más informción sobre este método aquí.\n",
    "\n",
    "result = dict(zip(indices, valores))\n",
    "result"
   ]
  },
  {
   "cell_type": "code",
   "execution_count": 4,
   "metadata": {},
   "outputs": [
    {
     "data": {
      "text/plain": [
       "7"
      ]
     },
     "execution_count": 4,
     "metadata": {},
     "output_type": "execute_result"
    }
   ],
   "source": [
    "# Crea una Serie con el diccionario creado en el punto anterior.\n",
    "# ¿Qué forma tiene esta última Serie?\n",
    "semana2 = pd.Series(result)\n",
    "semana2\n",
    "# ¿Qué tipo de datos tiene?\n",
    "    # int64\n",
    "# ¿Qué tamaño tiene?\n",
    "    #7\n",
    "semana2.size"
   ]
  },
  {
   "cell_type": "code",
   "execution_count": 8,
   "metadata": {},
   "outputs": [
    {
     "name": "stdout",
     "output_type": "stream",
     "text": [
      "indices: Index(['Lunes', 'Martes', 'Miercoles', 'Jueves', 'Viernes', 'Sábado',\n",
      "       'Domingo'],\n",
      "      dtype='object')\n",
      "valores: [1 8 5 6 9 2 3]\n"
     ]
    }
   ],
   "source": [
    "# ¿Cuáles son los índices de la Serie?\n",
    "print(f\"indices: {semana2.index}\")\n",
    "# ¿Y los values?\n",
    "print(f\"valores: {semana2.values}\")"
   ]
  },
  {
   "cell_type": "code",
   "execution_count": 9,
   "metadata": {},
   "outputs": [
    {
     "name": "stdout",
     "output_type": "stream",
     "text": [
      "valor lunes: 1\n"
     ]
    }
   ],
   "source": [
    "# Extrae el valor para el índice \"lunes\"\n",
    "print(f\"valor lunes: {semana2['Lunes']}\")"
   ]
  },
  {
   "cell_type": "code",
   "execution_count": 12,
   "metadata": {},
   "outputs": [
    {
     "name": "stdout",
     "output_type": "stream",
     "text": [
      "valor lunes, martes, miercoles:\n",
      " Lunes        1\n",
      "Martes       8\n",
      "Miercoles    5\n",
      "dtype: int64\n"
     ]
    }
   ],
   "source": [
    "# Extrae el valor para el índice \"lunes\", \"martes\" y \"miércoles\".\n",
    "print(f\"valor lunes, martes, miercoles:\\n {semana2[['Lunes','Martes','Miercoles']]}\")"
   ]
  },
  {
   "cell_type": "code",
   "execution_count": 13,
   "metadata": {},
   "outputs": [
    {
     "name": "stdout",
     "output_type": "stream",
     "text": [
      "valor lunes y domingo:\n",
      " Lunes      1\n",
      "Domingo    3\n",
      "dtype: int64\n"
     ]
    }
   ],
   "source": [
    "# Extrae el valor para el índice \"lunes\" y \"domingo\".\n",
    "print(f\"valor lunes y domingo:\\n {semana2[[0, -1]]}\")"
   ]
  },
  {
   "cell_type": "markdown",
   "metadata": {},
   "source": [
    "3. Es el turno de los DataFrames\n",
    "- Crea un array de dos dimensiones con 4 filas y 3 columnas.\n",
    "- Convierte el array en un DataFrame donde las columnas se llamen \"España\", \"Francia\" e \"Italia\".\n",
    "- Descarga el archivo \"medallas\" y carga el DataFrame.\n",
    "- Usando el loc extrae todas las columnas de la fila de Tailandia.\n",
    "- Usando el loc extrae todas las columnas de China e Irán.\n",
    "- Usando el loc extrae solo las columnas de \"Oro\", \"Plata\" y \"Bronce\" de China e Irán.\n",
    "- Usando el iloc extrae la información de la India. \n",
    "- Devolved todas las columnas.\n",
    "- Usando el iloc extrae todas las columnas de los paises que estén en posición impar. La\n",
    "primera que nos tendría que salir es Japón y la última Corea del Norte.\n",
    "- Utilizando el código del ejercicio anterior, selecciona unicamente las columnas \"Oro\", \"Plata\" y\n",
    "\"Bronce\".\n",
    "- Contesta a las siguientes preguntas:\n",
    "- ¿Qué país consiguió más de 200 medallas de oro?\n",
    "- ¿Qué país consiguió más de 200 medallas de oro y más de 1000 de plata?\n",
    "- ¿Qué país consiguió más de 200 medallas de oro o más de 700 de bronce?\n",
    "- Crea una nueva columma que se llame \"total\" que sea el resultado de la suma de todas las\n",
    "medallas obtenidas por cada país.\n"
   ]
  },
  {
   "cell_type": "code",
   "execution_count": 16,
   "metadata": {},
   "outputs": [
    {
     "name": "stdout",
     "output_type": "stream",
     "text": [
      "array 4x3:\n",
      " [[4.68724220e-310 0.00000000e+000 1.03977794e-312]\n",
      " [9.54898106e-313 1.10343781e-312 1.01855798e-312]\n",
      " [1.23075756e-312 1.10343781e-312 1.03977794e-312]\n",
      " [9.76118064e-313 1.08221785e-312 1.90979621e-312]]\n"
     ]
    }
   ],
   "source": [
    "# Crea un array de dos dimensiones con 4 filas y 3 columnas.\n",
    "array1 = np.empty((4,3))\n",
    "print(f\"array 4x3:\\n {array1}\")"
   ]
  },
  {
   "cell_type": "code",
   "execution_count": 17,
   "metadata": {},
   "outputs": [
    {
     "name": "stdout",
     "output_type": "stream",
     "text": [
      "df medallas:\n",
      "           España        Francia         Italia\n",
      "0  4.687242e-310   0.000000e+00  1.039778e-312\n",
      "1  9.548981e-313  1.103438e-312  1.018558e-312\n",
      "2  1.230758e-312  1.103438e-312  1.039778e-312\n",
      "3  9.761181e-313  1.082218e-312  1.909796e-312\n"
     ]
    }
   ],
   "source": [
    "# Convierte el array en un DataFrame donde las columnas se llamen \"España\", \"Francia\" e \"Italia\".\n",
    "nombre_columnas = [\"España\", \"Francia\", \"Italia\"]\n",
    "df_medallas = pd.DataFrame(array1, columns=nombre_columnas)\n",
    "print(f\"df medallas:\\n {df_medallas}\")"
   ]
  },
  {
   "cell_type": "code",
   "execution_count": 36,
   "metadata": {},
   "outputs": [
    {
     "name": "stdout",
     "output_type": "stream",
     "text": [
      "df medallas2:\n",
      "                  Unnamed: 0   Oro  Plata  Bronce\n",
      "País                                            \n",
      "China                     1  1473    994     720\n",
      "Japón                     2  1032   1037     985\n",
      "Corea del Sur             3   745    663     827\n",
      "Irán                      4   179    181     197\n",
      "Kazajistán                5   155    158     224\n",
      "India                     6   154    202     315\n",
      "Tailandia                 7   132    175     278\n",
      "Indonesia                 8   112    131     240\n",
      "China Taipéi              9    99    144     276\n",
      "Corea del Norte          10    91    120     235\n"
     ]
    }
   ],
   "source": [
    "# Descarga el archivo \"medallas\" y carga el DataFrame.\n",
    "df_medallas2 = pd.read_csv('medallas.csv', index_col=1)\n",
    "print(f\"df medallas2:\\n {df_medallas2}\")\n"
   ]
  },
  {
   "cell_type": "code",
   "execution_count": 44,
   "metadata": {},
   "outputs": [
    {
     "name": "stdout",
     "output_type": "stream",
     "text": [
      "medallas Tailandia:\n",
      " Unnamed: 0      7\n",
      "Oro           132\n",
      "Plata         175\n",
      "Bronce        278\n",
      "Name: Tailandia, dtype: int64\n"
     ]
    }
   ],
   "source": [
    "# Usando el loc extrae todas las columnas de la fila de Tailandia.\n",
    "df_Thai = df_medallas2.loc['Tailandia',]\n",
    "print(f\"medallas Tailandia:\\n {df_Thai}\")"
   ]
  },
  {
   "cell_type": "code",
   "execution_count": 43,
   "metadata": {},
   "outputs": [
    {
     "name": "stdout",
     "output_type": "stream",
     "text": [
      "medallas China e Irán:\n",
      "        Unnamed: 0   Oro  Plata  Bronce\n",
      "País                                  \n",
      "China           1  1473    994     720\n",
      "Irán            4   179    181     197\n"
     ]
    }
   ],
   "source": [
    "# Usando el loc extrae todas las columnas de China e Irán.['Oro', 'Plata', 'Bronce']\n",
    "df_Ch_I = df_medallas2.loc[['China', 'Irán'],]\n",
    "print(f\"medallas China e Irán:\\n {df_Ch_I}\")"
   ]
  },
  {
   "cell_type": "code",
   "execution_count": 46,
   "metadata": {},
   "outputs": [
    {
     "name": "stdout",
     "output_type": "stream",
     "text": [
      "medallas China e Irán:\n",
      "         Oro  Plata  Bronce\n",
      "País                      \n",
      "China  1473    994     720\n",
      "Irán    179    181     197\n"
     ]
    }
   ],
   "source": [
    "# Usando el loc extrae solo las columnas de \"Oro\", \"Plata\" y \"Bronce\" de China e Irán.\n",
    "df_Ch_I2 = df_medallas2.loc[['China', 'Irán'],['Oro', 'Plata', 'Bronce']]\n",
    "print(f\"medallas China e Irán:\\n {df_Ch_I2}\")"
   ]
  },
  {
   "cell_type": "code",
   "execution_count": 49,
   "metadata": {},
   "outputs": [
    {
     "name": "stdout",
     "output_type": "stream",
     "text": [
      "Index(['China', 'Japón', 'Corea del Sur', 'Irán', 'Kazajistán', 'India',\n",
      "       'Tailandia', 'Indonesia', 'China Taipéi', 'Corea del Norte'],\n",
      "      dtype='object', name='País')\n",
      "medallas India:\n",
      " Unnamed: 0      6\n",
      "Oro           154\n",
      "Plata         202\n",
      "Bronce        315\n",
      "Name: India, dtype: int64\n"
     ]
    }
   ],
   "source": [
    "# - Usando el iloc extrae la información de la India. Devolved todas las columnas.\n",
    "print(df_medallas2.index)\n",
    "df_Ind = df_medallas2.iloc[5,]\n",
    "print(f\"medallas India:\\n {df_Ind}\")"
   ]
  },
  {
   "cell_type": "code",
   "execution_count": 56,
   "metadata": {},
   "outputs": [
    {
     "name": "stdout",
     "output_type": "stream",
     "text": [
      "impares:\n",
      "                  Unnamed: 0   Oro  Plata  Bronce\n",
      "País                                            \n",
      "Japón                     2  1032   1037     985\n",
      "Irán                      4   179    181     197\n",
      "India                     6   154    202     315\n",
      "Indonesia                 8   112    131     240\n",
      "Corea del Norte          10    91    120     235\n"
     ]
    }
   ],
   "source": [
    "# Usando el iloc extrae todas las columnas de los paises que estén en posición impar. La primera que nos tendría que salir es Japón y la última Corea del Norte.\n",
    "df_impares = df_medallas2.iloc[1::2,]\n",
    "print(f\"impares:\\n {df_impares}\")"
   ]
  },
  {
   "cell_type": "code",
   "execution_count": 57,
   "metadata": {},
   "outputs": [
    {
     "name": "stdout",
     "output_type": "stream",
     "text": [
      "impares:\n",
      "                   Oro  Plata  Bronce\n",
      "País                                \n",
      "Japón            1032   1037     985\n",
      "Irán              179    181     197\n",
      "India             154    202     315\n",
      "Indonesia         112    131     240\n",
      "Corea del Norte    91    120     235\n"
     ]
    }
   ],
   "source": [
    "# Utilizando el código del ejercicio anterior, selecciona unicamente las columnas \"Oro\", \"Plata\" y \"Bronce\".\n",
    "\n",
    "df_impares2 = df_medallas2.iloc[1::2,1:4]\n",
    "print(f\"impares:\\n {df_impares2}\")"
   ]
  },
  {
   "cell_type": "code",
   "execution_count": 59,
   "metadata": {},
   "outputs": [
    {
     "name": "stdout",
     "output_type": "stream",
     "text": [
      "más 200 oros:\n",
      "                Unnamed: 0   Oro  Plata  Bronce\n",
      "País                                          \n",
      "China                   1  1473    994     720\n",
      "Japón                   2  1032   1037     985\n",
      "Corea del Sur           3   745    663     827\n"
     ]
    }
   ],
   "source": [
    "# ¿Qué país consiguió más de 200 medallas de oro?\n",
    "df_oro = df_medallas2.loc[df_medallas2['Oro'] > 200]\n",
    "print(f\"más 200 oros:\\n {df_oro}\")\n"
   ]
  },
  {
   "cell_type": "code",
   "execution_count": 60,
   "metadata": {},
   "outputs": [
    {
     "name": "stdout",
     "output_type": "stream",
     "text": [
      "más 200 oros y 1000 plata:\n",
      "        Unnamed: 0   Oro  Plata  Bronce\n",
      "País                                  \n",
      "Japón           2  1032   1037     985\n"
     ]
    }
   ],
   "source": [
    "# ¿Qué país consiguió más de 200 medallas de oro y más de 1000 de plata?\n",
    "df_oro_plata = df_medallas2.loc[(df_medallas2['Oro'] > 200) & (df_medallas2['Plata'] > 1000)]\n",
    "print(f\"más 200 oros y 1000 plata:\\n {df_oro_plata}\")"
   ]
  },
  {
   "cell_type": "code",
   "execution_count": 61,
   "metadata": {},
   "outputs": [
    {
     "name": "stdout",
     "output_type": "stream",
     "text": [
      "más 200 oros y 700 bronce:\n",
      "                Unnamed: 0   Oro  Plata  Bronce\n",
      "País                                          \n",
      "China                   1  1473    994     720\n",
      "Japón                   2  1032   1037     985\n",
      "Corea del Sur           3   745    663     827\n"
     ]
    }
   ],
   "source": [
    "# ¿Qué país consiguió más de 200 medallas de oro o más de 700 de bronce?  \n",
    "df_oro_bronce = df_medallas2.loc[(df_medallas2['Oro'] > 200) | (df_medallas2['Bronce'] > 700)]\n",
    "print(f\"más 200 oros y 700 bronce:\\n {df_oro_bronce}\")"
   ]
  },
  {
   "cell_type": "code",
   "execution_count": 63,
   "metadata": {},
   "outputs": [
    {
     "name": "stdout",
     "output_type": "stream",
     "text": [
      "medallas total: \n",
      "                 Unnamed: 0   Oro  Plata  Bronce  Total\n",
      "País                                                   \n",
      "China                     1  1473    994     720   3187\n",
      "Japón                     2  1032   1037     985   3054\n",
      "Corea del Sur             3   745    663     827   2235\n",
      "Irán                      4   179    181     197    557\n",
      "Kazajistán                5   155    158     224    537\n",
      "India                     6   154    202     315    671\n",
      "Tailandia                 7   132    175     278    585\n",
      "Indonesia                 8   112    131     240    483\n",
      "China Taipéi              9    99    144     276    519\n",
      "Corea del Norte          10    91    120     235    446\n"
     ]
    }
   ],
   "source": [
    "# Crea una nueva columma que se llame \"total\" que sea el resultado de la suma de todas las medallas obtenidas por cada país.\n",
    "df_medallas2['Total'] = df_medallas2['Oro'] + df_medallas2['Plata'] + df_medallas2['Bronce']\n",
    "print(f\"medallas total: \\n{df_medallas2}\")"
   ]
  }
 ],
 "metadata": {
  "kernelspec": {
   "display_name": "base",
   "language": "python",
   "name": "python3"
  },
  "language_info": {
   "codemirror_mode": {
    "name": "ipython",
    "version": 3
   },
   "file_extension": ".py",
   "mimetype": "text/x-python",
   "name": "python",
   "nbconvert_exporter": "python",
   "pygments_lexer": "ipython3",
   "version": "3.9.7"
  }
 },
 "nbformat": 4,
 "nbformat_minor": 2
}
