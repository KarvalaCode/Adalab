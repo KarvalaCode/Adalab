{
 "cells": [
  {
   "cell_type": "code",
   "execution_count": 2,
   "metadata": {},
   "outputs": [],
   "source": [
    "# antes de empezar importamos la librería de NumPy para poder trabajar con todos sus métodos. \n",
    "import numpy as np"
   ]
  },
  {
   "cell_type": "markdown",
   "metadata": {},
   "source": [
    "## Creación y Indexación:"
   ]
  },
  {
   "cell_type": "markdown",
   "metadata": {},
   "source": [
    "1. Crea un array 1D con 50 valores aleatorio del 10 al 99. Accede a los elementos en las posiciones múltiplos de 5."
   ]
  },
  {
   "cell_type": "code",
   "execution_count": 2,
   "metadata": {},
   "outputs": [
    {
     "name": "stdout",
     "output_type": "stream",
     "text": [
      "[65 86 94 85 86 35 96 42 56 14 22 78 26 20 87 65 39 40 84 68 30 39 62 19\n",
      " 32 62 36 74 16 52 75 27 74 53 39 62 27 29 77 79 60 86 47 61 77 14 99 77\n",
      " 92 18]\n",
      "------------\n",
      "[86 14 87 68 32 52 39 79 77 18]\n",
      "------------\n",
      "[35 22 65 30 62 75 62 60 14]\n"
     ]
    }
   ],
   "source": [
    "ej_1=np.random.randint(10,100,50)\n",
    "print(ej_1)\n",
    "print('------------')\n",
    "#No estamos seguras de si se refiere a empezar en el índice 5 o la quinta posición empezando desde el 0\n",
    "print(ej_1[4::5])\n",
    "print('------------')\n",
    "print(ej_1[5::5])"
   ]
  },
  {
   "cell_type": "markdown",
   "metadata": {},
   "source": [
    "2. Crea un array 1D con 30 valores del 1 al 20 (ambos incluidos). Utiliza indexación para obtener los elementos en las posiciones impares"
   ]
  },
  {
   "cell_type": "code",
   "execution_count": 3,
   "metadata": {},
   "outputs": [
    {
     "name": "stdout",
     "output_type": "stream",
     "text": [
      "[ 5 17  3  7 11  5 20  9  9 19 10 13 12  1  4 10 14  7 12 20 13 19  5 18\n",
      "  3 20  5  5  4  3]\n",
      "------------\n",
      "[ 5  3 11 20  9 10 12  4 14 12 13  5  3  5  4]\n",
      "------------\n",
      "[17  7  5  9 19 13  1 10  7 20 19 18 20  5  3]\n"
     ]
    }
   ],
   "source": [
    "ej_2=np.random.randint(1,21,30)\n",
    "print(ej_2)\n",
    "print('------------')\n",
    "#No estamos seguras de si se refiere a empezar en el índice 1 o los impares empezando desde el 0\n",
    "print(ej_2[::2])\n",
    "print('------------')\n",
    "print(ej_2[1::2])"
   ]
  },
  {
   "cell_type": "markdown",
   "metadata": {},
   "source": [
    "3. Crea un array 2D de forma (4, 6) con números aleatorios decimales (no deben estar comprendidos solo entre 0 y 1). Accede a la última fila de la matriz. Los decimales deben estar redondeados a 2 decimales."
   ]
  },
  {
   "cell_type": "code",
   "execution_count": 4,
   "metadata": {},
   "outputs": [
    {
     "name": "stdout",
     "output_type": "stream",
     "text": [
      "[[1.42789943 1.9287918  2.84757049 2.3499436  1.57453353 1.73363141]\n",
      " [2.22624438 1.78514555 2.6842512  0.56310741 1.90792523 1.99065792]\n",
      " [0.31089404 1.96358424 2.03875218 0.02050651 2.44474874 1.30846626]\n",
      " [1.29277462 2.20209694 1.5280483  0.34516307 2.67254111 1.59215749]]\n",
      "------------\n",
      "[[1.29 2.2  1.53 0.35 2.67 1.59]]\n"
     ]
    }
   ],
   "source": [
    "ej_3=np.random.rand(4,6)*3\n",
    "print(ej_3)\n",
    "print('------------')\n",
    "print(np.round(ej_3[-1:],2))\n"
   ]
  },
  {
   "cell_type": "markdown",
   "metadata": {},
   "source": [
    "4.Crea un array NumPy 2D de forma (6, 4) con valores decimales entre 0 y 1. Accede a la segunda columna de la matriz. Los números deben estar redondeados a 2 decimales."
   ]
  },
  {
   "cell_type": "code",
   "execution_count": 5,
   "metadata": {},
   "outputs": [
    {
     "name": "stdout",
     "output_type": "stream",
     "text": [
      "[[0.50382509 0.93717007 0.12064993 0.35057281]\n",
      " [0.13642962 0.30133511 0.65464393 0.16062915]\n",
      " [0.30460139 0.29424969 0.16112472 0.41681008]\n",
      " [0.54334922 0.11717939 0.35419709 0.31225108]\n",
      " [0.78893138 0.26499806 0.22978128 0.99832667]\n",
      " [0.9013206  0.00975691 0.61346036 0.04391613]]\n",
      "------------\n",
      "[0.94 0.3  0.29 0.12 0.26 0.01]\n"
     ]
    }
   ],
   "source": [
    "ej_4=np.random.rand(6,4)\n",
    "print(ej_4)\n",
    "print('------------')\n",
    "print(np.round(ej_4[:,1],2))\n",
    "#print(ej_4[:,1])"
   ]
  },
  {
   "cell_type": "markdown",
   "metadata": {},
   "source": [
    "5. Crea un array 1D con 30 valores enteros aleatorios entre -50 y 50. Extrae los valores negativos."
   ]
  },
  {
   "cell_type": "code",
   "execution_count": 6,
   "metadata": {},
   "outputs": [
    {
     "name": "stdout",
     "output_type": "stream",
     "text": [
      "[-22 -30 -39  21 -40 -44 -20 -50 -25 -36  14  13 -14  16  14 -48 -31  44\n",
      "   1  30 -38 -41 -19 -43 -48  38 -23  41 -36  37]\n",
      "------------\n",
      "[-22 -30 -39 -40 -44 -20 -50 -25 -36 -14 -48 -31 -38 -41 -19 -43 -48 -23\n",
      " -36]\n"
     ]
    }
   ],
   "source": [
    "ej_5=np.random.randint(-50,51,30)\n",
    "print(ej_5)\n",
    "print('------------')\n",
    "\n",
    "print(ej_5[ej_5<0])\n"
   ]
  },
  {
   "cell_type": "markdown",
   "metadata": {},
   "source": [
    "6. Crea un array 1D con 10 valores entre 0 y 1. Redondea los decimales a 2. Obtén los elementos cuyo valor es mayor que 0.5. ¿En que posición/es están esos elementos?"
   ]
  },
  {
   "cell_type": "code",
   "execution_count": 7,
   "metadata": {},
   "outputs": [
    {
     "name": "stdout",
     "output_type": "stream",
     "text": [
      "[0.49 0.94 0.6  0.89 0.77 0.27 0.12 0.23 0.9  0.74]\n",
      "------------\n",
      "(array([1, 2, 3, 4, 8, 9]),)\n"
     ]
    }
   ],
   "source": [
    "ej_6=np.random.rand(10)\n",
    "print(np.round(ej_6,2))\n",
    "print('------------')\n",
    "print(np.where(ej_6>0.5))"
   ]
  },
  {
   "cell_type": "markdown",
   "metadata": {},
   "source": [
    "7. Crea un array 1D con 40 valores del 1 al 100 (ambos incluidos). Obtén los elementos que son divisibles por 3 y por 4."
   ]
  },
  {
   "cell_type": "code",
   "execution_count": 8,
   "metadata": {},
   "outputs": [
    {
     "name": "stdout",
     "output_type": "stream",
     "text": [
      "[84 77 39 11  5 21 91 68  4 56 72 47 11 36 63 89  1 48 89 80  3 61 11 94\n",
      " 58 84 45 88 52 34 92  1  4 33 84  1 46 14 94 52]\n",
      "------------\n",
      "[84 72 36 48 84 84]\n"
     ]
    }
   ],
   "source": [
    "ej_7=np.random.randint(1,101,40)\n",
    "print(ej_7)\n",
    "print('------------')\n",
    "#No estamos seguras de si se refiere a empezar en el índice 5 o la quinta posición empezando desde el 0\n",
    "div_3=ej_7%3\n",
    "div_4=ej_7%4\n",
    "print(ej_7[(div_3==0) & (div_4==0)])\n"
   ]
  },
  {
   "cell_type": "markdown",
   "metadata": {},
   "source": [
    "BONUS+: Crea un array 1D de 50 elementos con números enteros entre 0 y 100 (ambos incluidos). Reemplaza los elementos en posiciones múltiplos de 3 por 0."
   ]
  },
  {
   "cell_type": "code",
   "execution_count": 7,
   "metadata": {},
   "outputs": [
    {
     "name": "stdout",
     "output_type": "stream",
     "text": [
      "[50 53 60 63  5 32 17 50 63 60  7 73 83  6 18 40 17 36 38 84 50 48 49 22\n",
      " 15 53 10 64 20 36 46 80 62 32 86 35 88 50 12  1 67 72 73 89 12 93 98 95\n",
      " 86  8]\n",
      "[ 0 53 60  0  5 32  0 50 63  0  7 73  0  6 18  0 17 36  0 84 50  0 49 22\n",
      "  0 53 10  0 20 36  0 80 62  0 86 35  0 50 12  0 67 72  0 89 12  0 98 95\n",
      "  0  8]\n"
     ]
    }
   ],
   "source": [
    "ej_bon=np.random.randint(1,101,50)\n",
    "print(ej_bon)\n",
    "for x in range (0,50,3):\n",
    "    ej_bon[x]=0\n",
    "print(ej_bon)"
   ]
  },
  {
   "cell_type": "markdown",
   "metadata": {},
   "source": [
    "Bonus: Crea un array 3D de forma (2, 3, 5) con números enteros entre 0 y 100 (ambos incluidos). Reemplaza los valores múltiplos de 3 por 0."
   ]
  },
  {
   "cell_type": "code",
   "execution_count": 11,
   "metadata": {},
   "outputs": [
    {
     "name": "stdout",
     "output_type": "stream",
     "text": [
      "[[[ 4 55  7 43 58]\n",
      "  [13 29 82 93 83]\n",
      "  [64 15 99 24 29]]\n",
      "\n",
      " [[90  8 53 12 60]\n",
      "  [28 37 71 67 41]\n",
      "  [85 48 25 63 23]]]\n",
      "-----------\n",
      "[[[ 4 55  7 43 58]\n",
      "  [13 29 82  0 83]\n",
      "  [64  0  0  0 29]]\n",
      "\n",
      " [[ 0  8 53  0  0]\n",
      "  [28 37 71 67 41]\n",
      "  [85  0 25  0 23]]]\n"
     ]
    }
   ],
   "source": [
    "ej_bon2=np.random.randint(1,101,(2,3,5))\n",
    "print(ej_bon2)\n",
    "print('-----------')\n",
    "print(np.where(ej_bon2%3==0,0,ej_bon2))\n",
    "\n",
    "\n"
   ]
  },
  {
   "cell_type": "code",
   "execution_count": 4,
   "metadata": {},
   "outputs": [
    {
     "name": "stdout",
     "output_type": "stream",
     "text": [
      "[ 0 26 23  0 73 76  0 55 80  0 98 88  0 80  2  0 62 75  0  2 57  0 23 25\n",
      "  0 33 86  0 81 77  0 21 51  0 19 18  0 83 76  0  2 11  0 28 77  0 66 44\n",
      "  0 13]\n"
     ]
    }
   ],
   "source": []
  },
  {
   "cell_type": "markdown",
   "metadata": {},
   "source": [
    "## Reshape y Transpose:"
   ]
  },
  {
   "cell_type": "markdown",
   "metadata": {},
   "source": [
    "- Ejercicios con reshape"
   ]
  },
  {
   "cell_type": "markdown",
   "metadata": {},
   "source": [
    "1. Crea un array 3D de forma (2, 3, 4) con valores aleatorios entre 1 y 100 (ambos inclusive). Utiliza reshape para convertirlo en un array 2D. Deberás pensar en la forma que es correcta para hacer este cambio."
   ]
  },
  {
   "cell_type": "code",
   "execution_count": 9,
   "metadata": {},
   "outputs": [
    {
     "name": "stdout",
     "output_type": "stream",
     "text": [
      "[[[ 31  56 100  43]\n",
      "  [ 33  22  67  91]\n",
      "  [ 40   1  18  85]]\n",
      "\n",
      " [[ 38  19  81  52]\n",
      "  [ 82  99  77  71]\n",
      "  [100  71   8   2]]]\n",
      "-------------\n",
      "[[ 31  56 100  43  33  22]\n",
      " [ 67  91  40   1  18  85]\n",
      " [ 38  19  81  52  82  99]\n",
      " [ 77  71 100  71   8   2]]\n"
     ]
    }
   ],
   "source": [
    "ej_1=np.random.randint(1,101,(2,3,4))\n",
    "print(ej_1)\n",
    "print('-------------')\n",
    "print(np.reshape(ej_1,(4,6)))"
   ]
  },
  {
   "cell_type": "markdown",
   "metadata": {},
   "source": [
    "2. Crea un array 3D de forma (3, 4, 5) con valores enteros del 1 al 60 (sin incluir). Utiliza reshape para convertirlo en un array 2D."
   ]
  },
  {
   "cell_type": "code",
   "execution_count": 10,
   "metadata": {},
   "outputs": [
    {
     "name": "stdout",
     "output_type": "stream",
     "text": [
      "[[[51 39 55  9 48]\n",
      "  [51  3 21 35 59]\n",
      "  [ 2  6 33 31 43]\n",
      "  [48 15 37  4 37]]\n",
      "\n",
      " [[28 46 38 41 21]\n",
      "  [ 4  2 37 14  5]\n",
      "  [55  3 28  6 36]\n",
      "  [50 15  6 46 27]]\n",
      "\n",
      " [[24 26 24  5 32]\n",
      "  [20 45 34 57 23]\n",
      "  [38 47 33 42  2]\n",
      "  [20 17 12 48  8]]]\n",
      "-------------\n",
      "[[51 39 55  9 48 51  3 21 35 59  2  6]\n",
      " [33 31 43 48 15 37  4 37 28 46 38 41]\n",
      " [21  4  2 37 14  5 55  3 28  6 36 50]\n",
      " [15  6 46 27 24 26 24  5 32 20 45 34]\n",
      " [57 23 38 47 33 42  2 20 17 12 48  8]]\n"
     ]
    }
   ],
   "source": [
    "ej_2=np.random.randint(1,60,(3,4,5))\n",
    "print(ej_2)\n",
    "print('-------------')\n",
    "print(np.reshape(ej_2,(5,12)))"
   ]
  },
  {
   "cell_type": "markdown",
   "metadata": {},
   "source": [
    "3. Crea un array 3D de forma (4, 3, 2) con valores aleatorios entre 0 y 1. Utiliza reshape para convertirlo en un array 2D."
   ]
  },
  {
   "cell_type": "code",
   "execution_count": 11,
   "metadata": {},
   "outputs": [
    {
     "name": "stdout",
     "output_type": "stream",
     "text": [
      "[[[0.11411146 0.77877174]\n",
      "  [0.07303864 0.6375413 ]\n",
      "  [0.3206512  0.92708521]]\n",
      "\n",
      " [[0.3995084  0.10594498]\n",
      "  [0.42369769 0.7397382 ]\n",
      "  [0.98250156 0.58355268]]\n",
      "\n",
      " [[0.59946564 0.91897461]\n",
      "  [0.1076039  0.84900883]\n",
      "  [0.21566031 0.66998044]]\n",
      "\n",
      " [[0.00564789 0.56549721]\n",
      "  [0.48158029 0.87312655]\n",
      "  [0.65320132 0.89237382]]]\n",
      "-------------\n",
      "[[0.11411146 0.77877174 0.07303864 0.6375413  0.3206512  0.92708521\n",
      "  0.3995084  0.10594498 0.42369769 0.7397382  0.98250156 0.58355268]\n",
      " [0.59946564 0.91897461 0.1076039  0.84900883 0.21566031 0.66998044\n",
      "  0.00564789 0.56549721 0.48158029 0.87312655 0.65320132 0.89237382]]\n"
     ]
    }
   ],
   "source": [
    "ej_3=np.random.rand(4,3,2)\n",
    "print(ej_3)\n",
    "print('-------------')\n",
    "print(np.reshape(ej_3,(2,12)))"
   ]
  },
  {
   "cell_type": "markdown",
   "metadata": {},
   "source": [
    "- Ejercicios con transpose"
   ]
  },
  {
   "cell_type": "markdown",
   "metadata": {},
   "source": [
    "4. Utiliza el array 3D del ejercicio 2 de reshape. Utiliza transpose para permutar los ejes y obtener un nuevo array con forma (5, 4, 3)."
   ]
  },
  {
   "cell_type": "code",
   "execution_count": 12,
   "metadata": {},
   "outputs": [
    {
     "name": "stdout",
     "output_type": "stream",
     "text": [
      "[[[51 39 55  9 48]\n",
      "  [51  3 21 35 59]\n",
      "  [ 2  6 33 31 43]\n",
      "  [48 15 37  4 37]]\n",
      "\n",
      " [[28 46 38 41 21]\n",
      "  [ 4  2 37 14  5]\n",
      "  [55  3 28  6 36]\n",
      "  [50 15  6 46 27]]\n",
      "\n",
      " [[24 26 24  5 32]\n",
      "  [20 45 34 57 23]\n",
      "  [38 47 33 42  2]\n",
      "  [20 17 12 48  8]]]\n",
      "-------------\n",
      "[[[51 28 24]\n",
      "  [51  4 20]\n",
      "  [ 2 55 38]\n",
      "  [48 50 20]]\n",
      "\n",
      " [[39 46 26]\n",
      "  [ 3  2 45]\n",
      "  [ 6  3 47]\n",
      "  [15 15 17]]\n",
      "\n",
      " [[55 38 24]\n",
      "  [21 37 34]\n",
      "  [33 28 33]\n",
      "  [37  6 12]]\n",
      "\n",
      " [[ 9 41  5]\n",
      "  [35 14 57]\n",
      "  [31  6 42]\n",
      "  [ 4 46 48]]\n",
      "\n",
      " [[48 21 32]\n",
      "  [59  5 23]\n",
      "  [43 36  2]\n",
      "  [37 27  8]]]\n"
     ]
    }
   ],
   "source": [
    "print(ej_2)\n",
    "print('-------------')\n",
    "print(np.transpose(ej_2,(2,1,0)))"
   ]
  },
  {
   "cell_type": "markdown",
   "metadata": {},
   "source": [
    "5. Utiliza el array 3D del ejercicio 3 de reshape. Utiliza transpose para cambiar el orden de los ejes y obtener un nuevo array con forma (3, 2, 4)."
   ]
  },
  {
   "cell_type": "code",
   "execution_count": 13,
   "metadata": {},
   "outputs": [
    {
     "name": "stdout",
     "output_type": "stream",
     "text": [
      "[[[0.11411146 0.77877174]\n",
      "  [0.07303864 0.6375413 ]\n",
      "  [0.3206512  0.92708521]]\n",
      "\n",
      " [[0.3995084  0.10594498]\n",
      "  [0.42369769 0.7397382 ]\n",
      "  [0.98250156 0.58355268]]\n",
      "\n",
      " [[0.59946564 0.91897461]\n",
      "  [0.1076039  0.84900883]\n",
      "  [0.21566031 0.66998044]]\n",
      "\n",
      " [[0.00564789 0.56549721]\n",
      "  [0.48158029 0.87312655]\n",
      "  [0.65320132 0.89237382]]]\n",
      "-------------\n",
      "[[[0.11411146 0.3995084  0.59946564 0.00564789]\n",
      "  [0.77877174 0.10594498 0.91897461 0.56549721]]\n",
      "\n",
      " [[0.07303864 0.42369769 0.1076039  0.48158029]\n",
      "  [0.6375413  0.7397382  0.84900883 0.87312655]]\n",
      "\n",
      " [[0.3206512  0.98250156 0.21566031 0.65320132]\n",
      "  [0.92708521 0.58355268 0.66998044 0.89237382]]]\n"
     ]
    }
   ],
   "source": [
    "print(ej_3)\n",
    "print('-------------')\n",
    "print(np.transpose(ej_3,(1,2,0)))"
   ]
  },
  {
   "cell_type": "markdown",
   "metadata": {},
   "source": [
    "## Preguntas teóricas:"
   ]
  },
  {
   "cell_type": "markdown",
   "metadata": {},
   "source": [
    "6. ¿Qué diferencia existe entre el reshape y el transpose?\n",
    "\n",
    "El reshape, cambia la forma del array indicando la forma que quieres, mientras que el transpose la cambia utilizando las dimensiones previas cambiando el orden"
   ]
  },
  {
   "cell_type": "markdown",
   "metadata": {},
   "source": [
    "7. ¿Y entre el transpose y el swapaxes?\n",
    "\n",
    "El swapaxes sólo cambia 2 dimensiones entre ellas, los ejes."
   ]
  },
  {
   "cell_type": "markdown",
   "metadata": {},
   "source": [
    "## Funciones Aritméticas y Estadísticas:"
   ]
  },
  {
   "cell_type": "markdown",
   "metadata": {},
   "source": [
    "1. Crea un array de tres 3D con elementos entre el 0 y 1 de forma (2, 3, 5) cuyos valores solo tengan 1 decimal."
   ]
  },
  {
   "cell_type": "code",
   "execution_count": 22,
   "metadata": {},
   "outputs": [
    {
     "name": "stdout",
     "output_type": "stream",
     "text": [
      "[[[0.8 1.  0.9 0.4 0.1]\n",
      "  [1.  0.2 0.3 1.  0.8]\n",
      "  [0.8 1.  0.7 0.6 0.6]]\n",
      "\n",
      " [[0.7 0.4 0.4 1.  0.8]\n",
      "  [0.7 1.  0.5 0.5 0.8]\n",
      "  [0.3 0.8 0.8 0.7 0.7]]]\n"
     ]
    }
   ],
   "source": [
    "ej_1=np.round(np.random.rand(2,3,5),1)\n",
    "print(ej_1)"
   ]
  },
  {
   "cell_type": "markdown",
   "metadata": {},
   "source": [
    "2. Crea un array vacío con la misma forma y dimensiones que el array creado anteriormente. Vamos a reemplazar los valores de la matriz vacía que nos acabamos de crear pero basándonos en los valores del primer array bajo las siguientes condiciones:\n",
    "- Si el valor del array es igual que la media, se reemplaza por \"A\".\n",
    "- Si el valor del array es mayor que la media, se reemplaza por \"B\".\n",
    "- Si el valor del array es menor que la media, se reemplaza por \"C\".\n",
    "- Si el valor es igual que el máximo, se reemplaza por \"D\".\n",
    "- Si el valor es igual que el mínimo, se reemplaza por \"E\"."
   ]
  },
  {
   "cell_type": "code",
   "execution_count": 36,
   "metadata": {},
   "outputs": [
    {
     "name": "stdout",
     "output_type": "stream",
     "text": [
      "[[['' '' '' '' '']\n",
      "  ['' '' '' '' '']\n",
      "  ['' '' '' '' '']]\n",
      "\n",
      " [['' '' '' '' '']\n",
      "  ['' '' '' '' '']\n",
      "  ['' '' '' '' '']]]\n",
      "-----------\n",
      "[[[0.8 1.  0.9 0.4 0.1]\n",
      "  [1.  0.2 0.3 1.  0.8]\n",
      "  [0.8 1.  0.7 0.6 0.6]]\n",
      "\n",
      " [[0.7 0.4 0.4 1.  0.8]\n",
      "  [0.7 1.  0.5 0.5 0.8]\n",
      "  [0.3 0.8 0.8 0.7 0.7]]]\n"
     ]
    }
   ],
   "source": [
    "ej_2=np.empty((2,3,5),dtype=str)\n",
    "print(ej_2)\n",
    "print('-----------')\n",
    "print(ej_1)"
   ]
  },
  {
   "cell_type": "code",
   "execution_count": 37,
   "metadata": {},
   "outputs": [
    {
     "name": "stdout",
     "output_type": "stream",
     "text": [
      "[[['B' 'D' 'B' 'C' 'E']\n",
      "  ['D' 'C' 'C' 'D' 'B']\n",
      "  ['B' 'D' 'A' 'C' 'C']]\n",
      "\n",
      " [['A' 'C' 'C' 'D' 'B']\n",
      "  ['A' 'D' 'C' 'C' 'B']\n",
      "  ['C' 'B' 'B' 'A' 'A']]]\n"
     ]
    }
   ],
   "source": [
    "#ej_2=np.array2string(ej_2)\n",
    "media=np.round(np.mean(ej_1),1)\n",
    "maximo=np.max(ej_1)\n",
    "minimo=np.min(ej_1)\n",
    "for i in range(0,ej_1.shape[0]):\n",
    "    for j in range(0,ej_1.shape[1]):\n",
    "        for k in range(0,ej_1.shape[2]):\n",
    "            if ej_1[i,j,k]==(media):\n",
    "                ej_2[i,j,k]='A'\n",
    "            elif ej_1[i,j,k]==(maximo):\n",
    "                ej_2[i,j,k]='D'\n",
    "            elif ej_1[i,j,k]==(minimo):\n",
    "                ej_2[i,j,k]='E'\n",
    "            elif ej_1[i,j,k]>(media):\n",
    "                ej_2[i,j,k]='B'\n",
    "            elif ej_1[i,j,k]<(media):\n",
    "                ej_2[i,j,k]='C'\n",
    "            else:\n",
    "                pass\n",
    "print(ej_2)"
   ]
  },
  {
   "cell_type": "markdown",
   "metadata": {},
   "source": [
    "- Si el valor del array es igual que la media, se reemplaza por \"A\".\n",
    "\n",
    "- Si el valor del array es menor que la media, se reemplaza por \"C\".\n",
    "- Si el valor es igual que el máximo, se reemplaza por \"D\".\n",
    "- Si el valor es igual que el mínimo, se reemplaza por \"E\"."
   ]
  },
  {
   "cell_type": "code",
   "execution_count": 16,
   "metadata": {},
   "outputs": [
    {
     "data": {
      "text/plain": [
       "0.5"
      ]
     },
     "execution_count": 16,
     "metadata": {},
     "output_type": "execute_result"
    }
   ],
   "source": [
    "np.round(np.mean(ej_1),1)"
   ]
  },
  {
   "cell_type": "code",
   "execution_count": 17,
   "metadata": {},
   "outputs": [
    {
     "name": "stdout",
     "output_type": "stream",
     "text": [
      "[[['0.6' '0.6' '1.0' '0.3' '0.3']\n",
      "  ['0.8' '0.4' '0.3' '0.3' '0.8']\n",
      "  ['0.0' '0.9' '0.9' '0.4' '0.1']]\n",
      "\n",
      " [['0.2' '0.0' 'A' '0.7' '0.6']\n",
      "  ['0.9' '0.2' '0.0' '0.4' '0.8']\n",
      "  ['0.3' '0.4' '0.3' '0.3' '0.8']]]\n"
     ]
    }
   ],
   "source": [
    "#Si el valor del array es igual que la media, se reemplaza por \"A\".\n",
    "ej_2=np.where(ej_2==(np.round(np.mean(ej_1),1)),'A',ej_2)\n",
    "print(ej_2)"
   ]
  },
  {
   "cell_type": "code",
   "execution_count": 18,
   "metadata": {},
   "outputs": [
    {
     "ename": "TypeError",
     "evalue": "'<' not supported between instances of 'numpy.ndarray' and 'numpy.ndarray'",
     "output_type": "error",
     "traceback": [
      "\u001b[0;31m---------------------------------------------------------------------------\u001b[0m",
      "\u001b[0;31mTypeError\u001b[0m                                 Traceback (most recent call last)",
      "\u001b[1;32m/mnt/c/Users/salsi/OneDrive/Escritorio/adalab/Módulo 3/PairProgramming/da-modulo3-sprint1-pairprogramming-SaraSilvia/Pair_numpy.ipynb Cell 42\u001b[0m line \u001b[0;36m3\n\u001b[1;32m      <a href='vscode-notebook-cell://wsl%2Bubuntu-18.04/mnt/c/Users/salsi/OneDrive/Escritorio/adalab/M%C3%B3dulo%203/PairProgramming/da-modulo3-sprint1-pairprogramming-SaraSilvia/Pair_numpy.ipynb#X56sdnNjb2RlLXJlbW90ZQ%3D%3D?line=0'>1</a>\u001b[0m \u001b[39m#- Si el valor del array es mayor que la media, se reemplaza por \"B\".\u001b[39;00m\n\u001b[1;32m      <a href='vscode-notebook-cell://wsl%2Bubuntu-18.04/mnt/c/Users/salsi/OneDrive/Escritorio/adalab/M%C3%B3dulo%203/PairProgramming/da-modulo3-sprint1-pairprogramming-SaraSilvia/Pair_numpy.ipynb#X56sdnNjb2RlLXJlbW90ZQ%3D%3D?line=1'>2</a>\u001b[0m media\u001b[39m=\u001b[39mnp\u001b[39m.\u001b[39mround(np\u001b[39m.\u001b[39mmean(ej_1),\u001b[39m1\u001b[39m)\n\u001b[0;32m----> <a href='vscode-notebook-cell://wsl%2Bubuntu-18.04/mnt/c/Users/salsi/OneDrive/Escritorio/adalab/M%C3%B3dulo%203/PairProgramming/da-modulo3-sprint1-pairprogramming-SaraSilvia/Pair_numpy.ipynb#X56sdnNjb2RlLXJlbW90ZQ%3D%3D?line=2'>3</a>\u001b[0m ej_2\u001b[39m=\u001b[39mnp\u001b[39m.\u001b[39mwhere((ej_2\u001b[39m>\u001b[39;49mmedia),\u001b[39m'\u001b[39m\u001b[39mB\u001b[39m\u001b[39m'\u001b[39m,ej_2)\n\u001b[1;32m      <a href='vscode-notebook-cell://wsl%2Bubuntu-18.04/mnt/c/Users/salsi/OneDrive/Escritorio/adalab/M%C3%B3dulo%203/PairProgramming/da-modulo3-sprint1-pairprogramming-SaraSilvia/Pair_numpy.ipynb#X56sdnNjb2RlLXJlbW90ZQ%3D%3D?line=3'>4</a>\u001b[0m \u001b[39mprint\u001b[39m(ej_2)\n",
      "\u001b[0;31mTypeError\u001b[0m: '<' not supported between instances of 'numpy.ndarray' and 'numpy.ndarray'"
     ]
    }
   ],
   "source": [
    "#- Si el valor del array es mayor que la media, se reemplaza por \"B\".\n",
    "media=np.round(np.mean(ej_1),1)\n",
    "ej_2=np.where((ej_2>media),'B',ej_2)\n",
    "print(ej_2)"
   ]
  }
 ],
 "metadata": {
  "kernelspec": {
   "display_name": "base",
   "language": "python",
   "name": "python3"
  },
  "language_info": {
   "codemirror_mode": {
    "name": "ipython",
    "version": 3
   },
   "file_extension": ".py",
   "mimetype": "text/x-python",
   "name": "python",
   "nbconvert_exporter": "python",
   "pygments_lexer": "ipython3",
   "version": "3.10.9"
  }
 },
 "nbformat": 4,
 "nbformat_minor": 2
}
