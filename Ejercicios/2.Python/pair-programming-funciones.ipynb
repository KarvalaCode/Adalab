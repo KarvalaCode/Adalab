{
 "cells": [
  {
   "cell_type": "markdown",
   "metadata": {},
   "source": [
    "# Pair programming Funciones\n",
    "1. Calcular el área de un círculo.  \n",
    "Descripción: Crea una función llamada calcular_area_circulo que tome el radio como\n",
    "parámetro y devuelva el área del círculo.\n",
    "NOTA: Os dejamos un link para recordar comose calculaba el área de un círculo.aquí"
   ]
  },
  {
   "cell_type": "code",
   "execution_count": 1,
   "metadata": {},
   "outputs": [
    {
     "data": {
      "text/plain": [
       "28.27431"
      ]
     },
     "execution_count": 1,
     "metadata": {},
     "output_type": "execute_result"
    }
   ],
   "source": [
    "# areacirculo = pi*r**2\n",
    "def calcular_area_circulo(radio):\n",
    "    pi = 3.14159\n",
    "    return pi*(radio**2)\n",
    "\n",
    "calcular_area_circulo(3)    "
   ]
  },
  {
   "cell_type": "markdown",
   "metadata": {},
   "source": [
    "2. Contar la cantidad de caracteres en una cadena.  \n",
    "Descripción: Crea una función llamada contar_caracteres que tome una cadena como\n",
    "parámetro y devuelva la cantidad de caracteres que contiene."
   ]
  },
  {
   "cell_type": "code",
   "execution_count": 2,
   "metadata": {},
   "outputs": [
    {
     "data": {
      "text/plain": [
       "28"
      ]
     },
     "execution_count": 2,
     "metadata": {},
     "output_type": "execute_result"
    }
   ],
   "source": [
    "def contar_caracteres(cadena):\n",
    "    return len(cadena)\n",
    "\n",
    "contar_caracteres('Hoy nos está ciostando mucho')    "
   ]
  },
  {
   "cell_type": "markdown",
   "metadata": {},
   "source": [
    "3. Determinar si una cadena es un palíndromo.\n",
    "Descripción: Crea una función llamada es_palindromo que tome una cadena como\n",
    "parámetro y devuelva True si es un palíndromo, o False si no lo es.\n",
    ".¿Qué es un palíndromo?"
   ]
  },
  {
   "cell_type": "code",
   "execution_count": 5,
   "metadata": {},
   "outputs": [
    {
     "data": {
      "text/plain": [
       "False"
      ]
     },
     "execution_count": 5,
     "metadata": {},
     "output_type": "execute_result"
    }
   ],
   "source": [
    "def es_palindromo(cadena):\n",
    "    lista = cadena.lower().split(\" \")\n",
    "    cadena = \"\".join(lista)\n",
    "    if cadena[::-1] == cadena:\n",
    "        return True\n",
    "    else:\n",
    "        return False\n",
    "\n",
    "es_palindromo('Amad a la dama tambien')    "
   ]
  },
  {
   "cell_type": "markdown",
   "metadata": {},
   "source": [
    "4. Calcular el promedio de una lista de números.  \n",
    "Descripción: Crea una función llamada calcular_promedio que tome una lista de números\n",
    "como parámetro y devuelva el promedio de todos sus elementos."
   ]
  },
  {
   "cell_type": "code",
   "execution_count": 8,
   "metadata": {},
   "outputs": [
    {
     "data": {
      "text/plain": [
       "2.0"
      ]
     },
     "execution_count": 8,
     "metadata": {},
     "output_type": "execute_result"
    }
   ],
   "source": [
    "def calcular_promedio(lista_numeros):\n",
    "    return sum(lista_numeros)/len(lista_numeros)\n",
    "\n",
    "lista = [2.5, 2, 2.5, 1]\n",
    "calcular_promedio(lista)"
   ]
  },
  {
   "cell_type": "markdown",
   "metadata": {},
   "source": [
    "5. Calcular el interés compuesto.\n",
    "Descripción: Crea una función llamada calcular_interes_compuesto que tome el capital\n",
    "inicial, la tasa de interés y el número de períodos como parámetros y devuelva el beneficio final\n",
    "después del interés compuesto."
   ]
  },
  {
   "cell_type": "code",
   "execution_count": 9,
   "metadata": {},
   "outputs": [
    {
     "data": {
      "text/plain": [
       "165000"
      ]
     },
     "execution_count": 9,
     "metadata": {},
     "output_type": "execute_result"
    }
   ],
   "source": [
    "def calcular_interes_compuesto(capital_inicial, tasa_interes, periodos):\n",
    "    interes_compuesto = capital_inicial*(1+tasa_interes)*periodos\n",
    "    return interes_compuesto\n",
    "\n",
    "calcular_interes_compuesto(3000, 10, 5)"
   ]
  },
  {
   "cell_type": "markdown",
   "metadata": {},
   "source": [
    "6. Validar si una palabra es un anagrama de otra.  \n",
    "Descripción: Crea una función llamada es_anagrama que tome dos palabras como\n",
    "parámetros y devuelva True si una es un anagrama de la otra, o False si no lo es.\n",
    "¿Qué es un anagrama?"
   ]
  },
  {
   "cell_type": "code",
   "execution_count": 21,
   "metadata": {},
   "outputs": [
    {
     "name": "stdout",
     "output_type": "stream",
     "text": [
      "['e', 'e', 'i', 'n', 'q', 'r', 'u'] \n",
      " ['d', 'e', 'e', 'f', 'i', 'n', 'q', 'r', 's', 'u']\n"
     ]
    },
    {
     "data": {
      "text/plain": [
       "False"
      ]
     },
     "execution_count": 21,
     "metadata": {},
     "output_type": "execute_result"
    }
   ],
   "source": [
    "def es_anagrama(palabra1, palabra2):\n",
    "    lista1 = sorted (list(palabra1.lower()))\n",
    "    lista2 = sorted (list(palabra2.lower()))\n",
    "    print(lista1, '\\n', lista2)\n",
    "\n",
    "    return lista1 == lista2\n",
    "\n",
    "es_anagrama('Enrique', 'quieren')"
   ]
  },
  {
   "cell_type": "code",
   "execution_count": null,
   "metadata": {},
   "outputs": [],
   "source": [
    "\"\"\" if lista1 == lista2:\n",
    "        return True\n",
    "    else:\n",
    "        return False \"\"\""
   ]
  },
  {
   "cell_type": "markdown",
   "metadata": {},
   "source": [
    "7. Validar si una cadena de texto es un isograma.  \n",
    "Descripción: Crea una función llamada es_isograma que tome una cadena de texto como\n",
    "parámetro y devuelva True si es un isograma. En caso contrario, devuelve False.\n",
    "¿Qué es un isograma? Una palabra que no contiene letras repetidas."
   ]
  },
  {
   "cell_type": "code",
   "execution_count": 28,
   "metadata": {},
   "outputs": [
    {
     "name": "stdout",
     "output_type": "stream",
     "text": [
      "['a', 'c', 'e', 'e', 'g', 'i', 'l', 'l', 'm', 'o', 'r', 'u'] \n",
      " ['a', 'c', 'e', 'g', 'i', 'l', 'm', 'o', 'r', 'u']\n"
     ]
    },
    {
     "data": {
      "text/plain": [
       "False"
      ]
     },
     "execution_count": 28,
     "metadata": {},
     "output_type": "execute_result"
    }
   ],
   "source": [
    "def es_isograma(cadena_texto):\n",
    "    lista = sorted(list(cadena_texto))\n",
    "    conjunto = sorted(list(set(cadena_texto)))\n",
    "    print(lista, '\\n', conjunto)\n",
    "    return lista == conjunto\n",
    "es_isograma('murcielago')"
   ]
  },
  {
   "cell_type": "markdown",
   "metadata": {},
   "source": [
    "8. Concatenar múltiples cadenas de texto\n",
    "Descripción: Crea una función llamada concatenar_cadenas que tome una cantidad\n",
    "variable de cadenas de texto como argumentos y devuelva una única cadena que contenga la\n",
    "concatenación de todas las cadenas ingresadas."
   ]
  },
  {
   "cell_type": "code",
   "execution_count": 33,
   "metadata": {},
   "outputs": [
    {
     "data": {
      "text/plain": [
       "'hola caracola como estas'"
      ]
     },
     "execution_count": 33,
     "metadata": {},
     "output_type": "execute_result"
    }
   ],
   "source": [
    "def concatenar_cadenas(*args):\n",
    "    cadena1 = \"\"\n",
    "    for cadena in args:\n",
    "        cadena1 = cadena1 + \" \" + cadena\n",
    "    return cadena1.strip()\n",
    "\n",
    "concatenar_cadenas('hola', 'caracola', 'como', 'estas')    "
   ]
  },
  {
   "cell_type": "markdown",
   "metadata": {},
   "source": [
    "9. Crear un diccionario con información de una persona.\n",
    "Descripción: Crea una función llamada crear_persona que tome como argumentos clave-\n",
    "valor los datos de una persona, como nombre, edad, ciudad, etc., y devuelva un diccionario con\n",
    "toda la información ingresada."
   ]
  },
  {
   "cell_type": "code",
   "execution_count": 34,
   "metadata": {},
   "outputs": [
    {
     "data": {
      "text/plain": [
       "{'nombre': 'Maria', 'edad': 26, 'ciudad': 'Soria'}"
      ]
     },
     "execution_count": 34,
     "metadata": {},
     "output_type": "execute_result"
    }
   ],
   "source": [
    "def crear_persona(**kwargs):\n",
    "    return kwargs\n",
    "\n",
    "crear_persona(nombre='Maria', edad=26, ciudad='Soria')"
   ]
  },
  {
   "cell_type": "markdown",
   "metadata": {},
   "source": [
    "10. Encontrar el número que falta en una lista ordenada de números consecutivos.\n",
    "Descripción: Crea una función llamada encontrar_numero_faltante que tome una lista\n",
    "de números consecutivos (del 1 al N, sin repetir) con un número faltante y devuelva ese número\n",
    "faltante."
   ]
  },
  {
   "cell_type": "code",
   "execution_count": 37,
   "metadata": {},
   "outputs": [
    {
     "data": {
      "text/plain": [
       "6"
      ]
     },
     "execution_count": 37,
     "metadata": {},
     "output_type": "execute_result"
    }
   ],
   "source": [
    "def encontrar_numero_faltante (lista_numeros):\n",
    "    rango = range(lista_numeros[0],lista_numeros[-1]+1)\n",
    "    indice = 0\n",
    "    while indice <= len(lista_numeros)-1:\n",
    "        if rango[indice] == lista_numeros[indice]:\n",
    "            indice += 1\n",
    "        else:\n",
    "            return (lista_numeros[indice] -1)\n",
    "\n",
    "encontrar_numero_faltante([4, 5, 7, 8, 9])"
   ]
  },
  {
   "cell_type": "markdown",
   "metadata": {},
   "source": [
    "11. Encontrar el elemento duplicado en una lista de números. \n",
    "Descripción: Crea una función llamada encontrar_duplicado que tome una lista de\n",
    "números enteros y devuelva el elemento que está duplicado en la lista."
   ]
  },
  {
   "cell_type": "code",
   "execution_count": 39,
   "metadata": {},
   "outputs": [
    {
     "data": {
      "text/plain": [
       "3"
      ]
     },
     "execution_count": 39,
     "metadata": {},
     "output_type": "execute_result"
    }
   ],
   "source": [
    "def encontrar_duplicado(lista_enteros):\n",
    "    for num in lista_enteros:\n",
    "        if lista_enteros.count(num) > 1:\n",
    "            return num\n",
    "\n",
    "encontrar_duplicado([1,3, 2, 3, 3])\n"
   ]
  }
 ],
 "metadata": {
  "kernelspec": {
   "display_name": "base",
   "language": "python",
   "name": "python3"
  },
  "language_info": {
   "codemirror_mode": {
    "name": "ipython",
    "version": 3
   },
   "file_extension": ".py",
   "mimetype": "text/x-python",
   "name": "python",
   "nbconvert_exporter": "python",
   "pygments_lexer": "ipython3",
   "version": "3.9.7"
  }
 },
 "nbformat": 4,
 "nbformat_minor": 2
}
