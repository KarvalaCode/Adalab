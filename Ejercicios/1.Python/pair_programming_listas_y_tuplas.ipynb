{
 "cells": [
  {
   "cell_type": "markdown",
   "metadata": {},
   "source": [
    "# Pair programming Listas y Tuplas\n",
    "## Ejercicios de listas\n",
    "En la leccion de hoy hemos aprendido que son las listas. Para seguir practicando con ellas, os planteamos los siguientes ejercicios que tendréis que resolver durante el tiempo de pair programming.\n",
    "\n",
    "1.Duplicar elementos de una lista"
   ]
  },
  {
   "cell_type": "code",
   "execution_count": 1,
   "metadata": {},
   "outputs": [
    {
     "data": {
      "text/plain": [
       "[2, 4, 6, 8, 2, 4, 6, 8]"
      ]
     },
     "execution_count": 1,
     "metadata": {},
     "output_type": "execute_result"
    }
   ],
   "source": [
    "lista = [2, 4, 6, 8]\n",
    "\n",
    "lista_final = lista + lista\n",
    "lista_final"
   ]
  },
  {
   "cell_type": "markdown",
   "metadata": {},
   "source": [
    "2. Combinar dos listas\n",
    "\n",
    "Descripción: Dadas dos listas, crea una nueva lista que contenga todos los elementos de ambas listas"
   ]
  },
  {
   "cell_type": "code",
   "execution_count": 2,
   "metadata": {},
   "outputs": [
    {
     "data": {
      "text/plain": [
       "[1, 2, 3, 4, 5, 6]"
      ]
     },
     "execution_count": 2,
     "metadata": {},
     "output_type": "execute_result"
    }
   ],
   "source": [
    "lista1 = [1, 2, 3]\n",
    "lista2 = [4, 5, 6]\n",
    "\n",
    "lista12 = lista1 + lista2\n",
    "lista12"
   ]
  },
  {
   "cell_type": "markdown",
   "metadata": {},
   "source": [
    "3. Calcular la suma de una lista de números"
   ]
  },
  {
   "cell_type": "code",
   "execution_count": 3,
   "metadata": {},
   "outputs": [
    {
     "data": {
      "text/plain": [
       "21"
      ]
     },
     "execution_count": 3,
     "metadata": {},
     "output_type": "execute_result"
    }
   ],
   "source": [
    "lista12\n",
    "len(lista12)\n",
    "suma_lista12 = lista12[0] + lista12[1] + lista12[2] + lista12[3] + lista12[4] + lista12[5]\n",
    "suma_lista12"
   ]
  },
  {
   "cell_type": "markdown",
   "metadata": {},
   "source": [
    "4.Encontrar el valor máximo en una lista"
   ]
  },
  {
   "cell_type": "code",
   "execution_count": 4,
   "metadata": {},
   "outputs": [
    {
     "data": {
      "text/plain": [
       "6"
      ]
     },
     "execution_count": 4,
     "metadata": {},
     "output_type": "execute_result"
    }
   ],
   "source": [
    "max(lista12)"
   ]
  },
  {
   "cell_type": "markdown",
   "metadata": {},
   "source": [
    "5. Calcular la longitud de una lista"
   ]
  },
  {
   "cell_type": "code",
   "execution_count": 5,
   "metadata": {},
   "outputs": [
    {
     "data": {
      "text/plain": [
       "6"
      ]
     },
     "execution_count": 5,
     "metadata": {},
     "output_type": "execute_result"
    }
   ],
   "source": [
    "len(lista12)"
   ]
  },
  {
   "cell_type": "markdown",
   "metadata": {},
   "source": [
    "6. Encontrar el índice de un elemento en una lista"
   ]
  },
  {
   "cell_type": "code",
   "execution_count": 6,
   "metadata": {},
   "outputs": [
    {
     "data": {
      "text/plain": [
       "2"
      ]
     },
     "execution_count": 6,
     "metadata": {},
     "output_type": "execute_result"
    }
   ],
   "source": [
    "lista12.index(3)"
   ]
  },
  {
   "cell_type": "markdown",
   "metadata": {},
   "source": [
    "7. Contar ocurrencias de un elemento en una lista"
   ]
  },
  {
   "cell_type": "code",
   "execution_count": 7,
   "metadata": {},
   "outputs": [
    {
     "data": {
      "text/plain": [
       "1"
      ]
     },
     "execution_count": 7,
     "metadata": {},
     "output_type": "execute_result"
    }
   ],
   "source": [
    "\n",
    "lista12.count(3)"
   ]
  },
  {
   "cell_type": "markdown",
   "metadata": {},
   "source": [
    "8. Obtener una sublista de una lista\n",
    "\n",
    "Descripción: Dada una lista, crea una nueva lista que contenga los elementos desde el índice 2 hasta el índice 5 (sin incluirlo)."
   ]
  },
  {
   "cell_type": "code",
   "execution_count": 8,
   "metadata": {},
   "outputs": [
    {
     "data": {
      "text/plain": [
       "[3, 4, 5]"
      ]
     },
     "execution_count": 8,
     "metadata": {},
     "output_type": "execute_result"
    }
   ],
   "source": [
    "nueva_lista12 = lista12[2:5]\n",
    "nueva_lista12"
   ]
  },
  {
   "cell_type": "markdown",
   "metadata": {},
   "source": [
    "9. Obtener el último elemento de una lista"
   ]
  },
  {
   "cell_type": "code",
   "execution_count": 9,
   "metadata": {},
   "outputs": [
    {
     "data": {
      "text/plain": [
       "5"
      ]
     },
     "execution_count": 9,
     "metadata": {},
     "output_type": "execute_result"
    }
   ],
   "source": [
    "nueva_lista12[-1]"
   ]
  },
  {
   "cell_type": "markdown",
   "metadata": {},
   "source": [
    "11. Obtener una sublista de una lista\n",
    "\n",
    "Dada una lista, obtén una sublista que contenga los elementos desde el índice 1 hasta el índice 3 (sin incluirlo)."
   ]
  },
  {
   "cell_type": "code",
   "execution_count": 10,
   "metadata": {},
   "outputs": [
    {
     "data": {
      "text/plain": [
       "[4, 5]"
      ]
     },
     "execution_count": 10,
     "metadata": {},
     "output_type": "execute_result"
    }
   ],
   "source": [
    "nueva_lista12[1:3]"
   ]
  },
  {
   "cell_type": "markdown",
   "metadata": {},
   "source": [
    "12. Reemplazar un elemento en una lista\n",
    "\n",
    "Dada una lista, reemplaza el segundo elemento con un nuevo valor."
   ]
  },
  {
   "cell_type": "code",
   "execution_count": 11,
   "metadata": {},
   "outputs": [],
   "source": [
    "lista_nueva = [1, 3, 5, 8, 9]\n",
    "lista_nueva.remove(3)"
   ]
  },
  {
   "cell_type": "code",
   "execution_count": 12,
   "metadata": {},
   "outputs": [
    {
     "name": "stdout",
     "output_type": "stream",
     "text": [
      "[1, 5, 8, 9]\n"
     ]
    }
   ],
   "source": [
    "print(lista_nueva)\n",
    "lista_nueva.insert(1,4)"
   ]
  },
  {
   "cell_type": "code",
   "execution_count": 13,
   "metadata": {},
   "outputs": [
    {
     "name": "stdout",
     "output_type": "stream",
     "text": [
      "[1, 4, 5, 8, 9]\n"
     ]
    }
   ],
   "source": [
    "print(lista_nueva)"
   ]
  },
  {
   "cell_type": "markdown",
   "metadata": {},
   "source": [
    "13. Obtener una lista inversa"
   ]
  },
  {
   "cell_type": "code",
   "execution_count": 14,
   "metadata": {},
   "outputs": [
    {
     "name": "stdout",
     "output_type": "stream",
     "text": [
      "[9, 8, 5, 4, 1]\n"
     ]
    }
   ],
   "source": [
    "lista_nueva.reverse()\n",
    "print(lista_nueva)"
   ]
  },
  {
   "cell_type": "markdown",
   "metadata": {},
   "source": [
    "14. Ordenar una lista en orden ascendente"
   ]
  },
  {
   "cell_type": "code",
   "execution_count": 15,
   "metadata": {},
   "outputs": [
    {
     "name": "stdout",
     "output_type": "stream",
     "text": [
      "[1, 4, 5, 8, 9]\n"
     ]
    }
   ],
   "source": [
    "lista_nueva.sort()\n",
    "print(lista_nueva)"
   ]
  },
  {
   "cell_type": "markdown",
   "metadata": {},
   "source": [
    "15. Obtener elementos pares de una lista\n",
    "\n",
    "Dada una lista, obtén una nueva lista que contenga solo los elementos en posiciones pares."
   ]
  },
  {
   "cell_type": "code",
   "execution_count": 16,
   "metadata": {},
   "outputs": [
    {
     "data": {
      "text/plain": [
       "[5, 9]"
      ]
     },
     "execution_count": 16,
     "metadata": {},
     "output_type": "execute_result"
    }
   ],
   "source": [
    "lista_nueva[2:5:2]"
   ]
  },
  {
   "cell_type": "markdown",
   "metadata": {},
   "source": [
    "16. Obtener una sublista saltando elementos\n",
    "\n",
    "Dada una lista, obtén una sublista que contenga los elementos saltando de 3 en 3."
   ]
  },
  {
   "cell_type": "code",
   "execution_count": 17,
   "metadata": {},
   "outputs": [
    {
     "name": "stdout",
     "output_type": "stream",
     "text": [
      "[2, 4, 6, 8, 1, 2, 3, 4, 5, 6, 1, 4, 5, 8, 9]\n"
     ]
    },
    {
     "data": {
      "text/plain": [
       "[2, 8, 3, 6, 5]"
      ]
     },
     "execution_count": 17,
     "metadata": {},
     "output_type": "execute_result"
    }
   ],
   "source": [
    "lista_larga = lista + lista12 + lista_nueva\n",
    "print(lista_larga)\n",
    "\n",
    "lista_larga[0::3]"
   ]
  },
  {
   "cell_type": "markdown",
   "metadata": {},
   "source": [
    "17. Encontrar el segundo valor máximo en una lista"
   ]
  },
  {
   "cell_type": "code",
   "execution_count": 18,
   "metadata": {},
   "outputs": [],
   "source": [
    "primer_max = max(lista_nueva)\n",
    "lista_nueva_copia = lista_nueva.copy()\n",
    "lista_nueva_copia.remove(9)"
   ]
  },
  {
   "cell_type": "code",
   "execution_count": 19,
   "metadata": {},
   "outputs": [
    {
     "name": "stdout",
     "output_type": "stream",
     "text": [
      "[1, 4, 5, 8]\n"
     ]
    }
   ],
   "source": [
    "print(lista_nueva_copia)\n",
    "segundo_max = max(lista_nueva_copia)"
   ]
  },
  {
   "cell_type": "markdown",
   "metadata": {},
   "source": [
    "**18. Teórico. Debereis contestar la pregunta en una celda de markdown**\n",
    "**¿Qué diferencia existe entre el .sort() y el sorted()**\n",
    "\n",
    "El .sort() modifica la lista sobre la que trabaja y .sorted() no la modifica (hay que guardarla en otra variable)."
   ]
  },
  {
   "cell_type": "markdown",
   "metadata": {},
   "source": [
    "19. Agregar elementos a una lista utilizando append y extend\n",
    "\n",
    "Dada una lista inicial, agrega nuevos elementos utilizando tanto append como extend y observa las diferencias en el resultado final. El elemento que deberéis usar para añadir a la lista original tiene que ser una lista."
   ]
  },
  {
   "cell_type": "code",
   "execution_count": 20,
   "metadata": {},
   "outputs": [
    {
     "name": "stdout",
     "output_type": "stream",
     "text": [
      "lista1:  [1, 2, 3]\n",
      "lista2:  [4, 5, 6]\n"
     ]
    }
   ],
   "source": [
    "\n",
    "print('lista1: ', lista1)\n",
    "print('lista2: ', lista2)\n",
    "\n",
    "lista1_copy = lista1.copy()\n",
    "lista2_copy = lista2.copy()\n",
    "\n",
    "lista1.append(lista2)\n"
   ]
  },
  {
   "cell_type": "code",
   "execution_count": 21,
   "metadata": {},
   "outputs": [
    {
     "name": "stdout",
     "output_type": "stream",
     "text": [
      "[1, 2, 3, [4, 5, 6]]\n",
      "[4, 5, 6]\n"
     ]
    }
   ],
   "source": [
    "print(lista1)\n",
    "print(lista2) "
   ]
  },
  {
   "cell_type": "code",
   "execution_count": 22,
   "metadata": {},
   "outputs": [
    {
     "name": "stdout",
     "output_type": "stream",
     "text": [
      "La lista 1 extendida  es [1, 2, 3, [4, 5, 6], 4, 5, 6].\n",
      "La lista 2 es [4, 5, 6].\n"
     ]
    }
   ],
   "source": [
    "lista1.extend(lista2)\n",
    "print(f\"La lista 1 extendida  es {lista1}.\\nLa lista 2 es {lista2}.\")"
   ]
  },
  {
   "cell_type": "markdown",
   "metadata": {},
   "source": [
    "20. Insertar un elemento en una posición específica\n",
    "\n",
    "Descripción: Dada una lista, inserta un nuevo elemento en una posición específica determinada por el usuario (debereis usar la función input para preguntar al usuario en que posición quiere insertar el elemento)."
   ]
  },
  {
   "cell_type": "code",
   "execution_count": 25,
   "metadata": {},
   "outputs": [
    {
     "name": "stdout",
     "output_type": "stream",
     "text": [
      "La lista inicialmente es [2, 4, 7, 7, 6, 8]\n",
      "La lista después de haber insertado 7 en la posición indicada por el usuario es : [2, 4, 7, 7, 6, 8, 7].\n"
     ]
    }
   ],
   "source": [
    "print(f\"La lista inicialmente es {lista}\")\n",
    "pregunta  = int(input('¿En qué posición quieres insertar el elemento?'))\n",
    "lista.insert(pregunta, 7)\n",
    "print(f\"La lista después de haber insertado 7 en la posición indicada por el usuario es : {lista}.\")"
   ]
  },
  {
   "cell_type": "markdown",
   "metadata": {},
   "source": [
    "21. Verificar si un elemento está presente en una lista\n",
    "\n",
    "Descripción: Dada una lista, verifica si un elemento específico está presente en ella. Igual que el caso anterior, debereis preguntar al usuario que elemento quiere buscar en la lista. El resultado deberá ser True o False."
   ]
  },
  {
   "cell_type": "code",
   "execution_count": 30,
   "metadata": {},
   "outputs": [
    {
     "name": "stdout",
     "output_type": "stream",
     "text": [
      "¿Está Pacio en la lista? False\n"
     ]
    }
   ],
   "source": [
    "pregunta2 = input('¿Qué elemento quieres buscar en la lista?')\n",
    "lista_nombres = ['Paco', 'Pepe', 'Jose']\n",
    "print(f\"¿Está {pregunta2} en la lista? {pregunta2 in lista_nombres}\")"
   ]
  },
  {
   "cell_type": "markdown",
   "metadata": {},
   "source": [
    "22. Manipulación de una lista utilizando remove(), pop() y clear()\n",
    "\n",
    "Descripción: Crea una lista inicial, realiza operaciones de eliminación y limpieza utilizando los métodos remove(), pop() y clear(), y observa cómo afectan a la lista."
   ]
  },
  {
   "cell_type": "code",
   "execution_count": 31,
   "metadata": {},
   "outputs": [
    {
     "name": "stdout",
     "output_type": "stream",
     "text": [
      "La lista de ciolores después de usar 'remove' en el amarillo es: ['negro', 'blanco', 'rojo', 'rosa', 'azul', 'marrón']\n"
     ]
    }
   ],
   "source": [
    "lista_colores = ['negro', 'blanco', 'rojo', 'rosa', 'azul', 'amarillo', 'marrón']\n",
    "lista_colores.remove('amarillo')\n",
    "print(f\"La lista de colores después de usar 'remove' en el amarillo es: {lista_colores}\")"
   ]
  },
  {
   "cell_type": "code",
   "execution_count": 32,
   "metadata": {},
   "outputs": [
    {
     "name": "stdout",
     "output_type": "stream",
     "text": [
      "La lista de colores después de usar 'pop' es: ['negro', 'blanco', 'rojo', 'rosa', 'azul']\n"
     ]
    }
   ],
   "source": [
    "lista_colores.pop()\n",
    "print(f\"La lista de colores después de usar 'pop' es: {lista_colores}\")"
   ]
  },
  {
   "cell_type": "code",
   "execution_count": 33,
   "metadata": {},
   "outputs": [
    {
     "name": "stdout",
     "output_type": "stream",
     "text": [
      "La lista de colores después de usar 'clear' es: []\n"
     ]
    }
   ],
   "source": [
    "lista_colores.clear()\n",
    "print(f\"La lista de colores después de usar 'clear' es: {lista_colores}\")"
   ]
  },
  {
   "cell_type": "markdown",
   "metadata": {},
   "source": [
    "## Ejercicios de tuplas\n",
    "1. Acceder al primer elemento de una tupla\n",
    "\n",
    "Descripción: Dada una tupla, obtén el primer elemento."
   ]
  },
  {
   "cell_type": "code",
   "execution_count": 34,
   "metadata": {},
   "outputs": [
    {
     "name": "stdout",
     "output_type": "stream",
     "text": [
      "El primer elemento de la tupla: (1, 2, 3, 4, 5) es 1\n"
     ]
    }
   ],
   "source": [
    "tupla1 = 1, 2, 3, 4, 5\n",
    "print(f\"El primer elemento de la tupla: {tupla1} es {tupla1[0]}.\")"
   ]
  },
  {
   "cell_type": "markdown",
   "metadata": {},
   "source": [
    "2. Acceder al último elemento de una tupla\n",
    "\n",
    "Descripción: Dada una tupla, obtén el último elemento."
   ]
  },
  {
   "cell_type": "code",
   "execution_count": 35,
   "metadata": {},
   "outputs": [
    {
     "name": "stdout",
     "output_type": "stream",
     "text": [
      "El último elemento de la tupla: (1, 2, 3, 4, 5) es 5.\n"
     ]
    }
   ],
   "source": [
    "tupla1 = 1, 2, 3, 4, 5\n",
    "print(f\"El último elemento de la tupla: {tupla1} es {tupla1[-1]}.\")"
   ]
  },
  {
   "cell_type": "markdown",
   "metadata": {},
   "source": [
    "3. Obtener la longitud de una tupla\n",
    "\n",
    "Descripción: Dada una tupla, obtén la cantidad de elementos que contiene."
   ]
  },
  {
   "cell_type": "code",
   "execution_count": 36,
   "metadata": {},
   "outputs": [
    {
     "data": {
      "text/plain": [
       "5"
      ]
     },
     "execution_count": 36,
     "metadata": {},
     "output_type": "execute_result"
    }
   ],
   "source": [
    "tupla1 = 1, 2, 3, 4, 5\n",
    "len(tupla1)"
   ]
  },
  {
   "cell_type": "markdown",
   "metadata": {},
   "source": [
    "4. Concatenar dos tuplas\n",
    "\n",
    "Descripción: Dadas dos tuplas, crea una nueva tupla que contenga todos los elementos de ambas tuplas"
   ]
  },
  {
   "cell_type": "code",
   "execution_count": 37,
   "metadata": {},
   "outputs": [
    {
     "name": "stdout",
     "output_type": "stream",
     "text": [
      "(1, 2, 3, 4, 5, 6, 7, 8, 9, 10)\n"
     ]
    }
   ],
   "source": [
    "tupla1 = 1, 2, 3, 4, 5\n",
    "tupla2 = 6, 7, 8, 9, 10\n",
    "\n",
    "tupla3 = tupla1 + tupla2\n",
    "\n",
    "print(tupla3)"
   ]
  },
  {
   "cell_type": "markdown",
   "metadata": {},
   "source": [
    "5. Encontrar el índice de un elemento en una tupla\n",
    "\n",
    "Descripción: Dada una tupla y un valor objetivo, encuentra el índice del primer elemento que coincida con el valor objetivo."
   ]
  },
  {
   "cell_type": "code",
   "execution_count": 38,
   "metadata": {},
   "outputs": [
    {
     "data": {
      "text/plain": [
       "0"
      ]
     },
     "execution_count": 38,
     "metadata": {},
     "output_type": "execute_result"
    }
   ],
   "source": [
    "tupla2 = 6, 7, 8, 9, 10\n",
    "tupla2.index(6)"
   ]
  },
  {
   "cell_type": "markdown",
   "metadata": {},
   "source": [
    "6. Contar ocurrencias de un elemento en una tupla\n",
    "\n",
    "Descripción: Dada una tupla y un valor objetivo, cuenta cuántas veces aparece el valor objetivo en la tupla."
   ]
  },
  {
   "cell_type": "code",
   "execution_count": 39,
   "metadata": {},
   "outputs": [
    {
     "data": {
      "text/plain": [
       "1"
      ]
     },
     "execution_count": 39,
     "metadata": {},
     "output_type": "execute_result"
    }
   ],
   "source": [
    "tupla2 = 6, 7, 8, 9, 10\n",
    "tupla2.count(7)"
   ]
  },
  {
   "cell_type": "markdown",
   "metadata": {},
   "source": [
    "7. Obtener una subtuple de una tupla\n",
    "\n",
    "Descripción: Dada una tupla, crea una nueva tupla que contenga los elementos desde el índice 1 hasta el índice 3 (sin incluirlo)."
   ]
  },
  {
   "cell_type": "code",
   "execution_count": 41,
   "metadata": {},
   "outputs": [
    {
     "name": "stdout",
     "output_type": "stream",
     "text": [
      "(7, 8)\n"
     ]
    }
   ],
   "source": [
    "tupla2 = 6, 7, 8, 9, 10\n",
    "subtupla2 = tupla2[1:3]\n",
    "print(subtupla2)"
   ]
  },
  {
   "cell_type": "markdown",
   "metadata": {},
   "source": [
    "8. Invertir una tupla\n",
    "Descripción: Dada una tupla, inviértela en orden."
   ]
  },
  {
   "cell_type": "code",
   "execution_count": 48,
   "metadata": {},
   "outputs": [
    {
     "name": "stdout",
     "output_type": "stream",
     "text": [
      "<class 'list'>\n",
      "[6, 7, 8, 9, 10]\n",
      "[10, 9, 8, 7, 6]\n",
      "(10, 9, 8, 7, 6)\n"
     ]
    }
   ],
   "source": [
    "tupla2 = 6, 7, 8, 9, 10\n",
    "\n",
    "lista_tupla2 = list(tupla2)\n",
    "print(type(lista_tupla2))\n",
    "print(lista_tupla2)\n",
    "\n",
    "lista_tupla2.reverse()\n",
    "print(lista_tupla2)\n",
    "\n",
    "tupla2 = tuple(lista_tupla2)\n",
    "print(tupla2)"
   ]
  }
 ],
 "metadata": {
  "kernelspec": {
   "display_name": "base",
   "language": "python",
   "name": "python3"
  },
  "language_info": {
   "codemirror_mode": {
    "name": "ipython",
    "version": 3
   },
   "file_extension": ".py",
   "mimetype": "text/x-python",
   "name": "python",
   "nbconvert_exporter": "python",
   "pygments_lexer": "ipython3",
   "version": "3.9.7"
  }
 },
 "nbformat": 4,
 "nbformat_minor": 2
}
