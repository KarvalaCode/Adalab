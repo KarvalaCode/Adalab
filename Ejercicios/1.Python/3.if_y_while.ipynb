{
 "cells": [
  {
   "cell_type": "markdown",
   "metadata": {},
   "source": [
    "# Pair programming Sentencias Control\n",
    "## if-else y while\n",
    "### Ejercicios if-else\n",
    "\n",
    "1. Verificar si un número es positivo, negativo o cero\n",
    "\n",
    "Descripción: Dado un número, verifica si es positivo, negativo o cero."
   ]
  },
  {
   "cell_type": "code",
   "execution_count": 11,
   "metadata": {},
   "outputs": [
    {
     "name": "stdout",
     "output_type": "stream",
     "text": [
      "El número es positivo\n"
     ]
    }
   ],
   "source": [
    "numero = 10523\n",
    "\n",
    "if numero == 0:\n",
    "    print('El número es 0.')\n",
    "\n",
    "elif numero > 0:\n",
    "    print('El número es positivo')\n",
    "\n",
    "elif numero < 0:\n",
    "    print('El número es negativo')\n"
   ]
  },
  {
   "cell_type": "markdown",
   "metadata": {},
   "source": [
    "2. Verificar si un número es par o impar\n",
    "\n",
    "Descripción: Dado un número, verifica si es par o impar."
   ]
  },
  {
   "cell_type": "code",
   "execution_count": 12,
   "metadata": {},
   "outputs": [
    {
     "name": "stdout",
     "output_type": "stream",
     "text": [
      "El número es impar\n"
     ]
    }
   ],
   "source": [
    "if numero%2 == 0:\n",
    "    print('El número es par')\n",
    "else: \n",
    "    print('El número es impar')         "
   ]
  },
  {
   "cell_type": "markdown",
   "metadata": {},
   "source": [
    "3. Verificar si un estudiante aprobó o suspendió un examen\n",
    "\n",
    "Descripción: Dada la calificación de un estudiante en un examen, verifica si aprobó o suspendió (si la calificación es mayor o igual a 60 se considera aprobado)."
   ]
  },
  {
   "cell_type": "code",
   "execution_count": 13,
   "metadata": {},
   "outputs": [
    {
     "name": "stdout",
     "output_type": "stream",
     "text": [
      "Estás suspendido\n"
     ]
    }
   ],
   "source": [
    "calificacion_alumno = 53\n",
    "\n",
    "if calificacion_alumno >= 60:\n",
    "    print('Estás aprobado')\n",
    "else: \n",
    "    print('Estás suspendido')"
   ]
  },
  {
   "cell_type": "markdown",
   "metadata": {},
   "source": [
    "4. Calcular el máximo entre dos números\n",
    "\n",
    "Descripción: Dados dos números, encuentra el máximo entre ellos."
   ]
  },
  {
   "cell_type": "code",
   "execution_count": 16,
   "metadata": {},
   "outputs": [
    {
     "name": "stdout",
     "output_type": "stream",
     "text": [
      "Los números son iguales\n"
     ]
    }
   ],
   "source": [
    "numero1 = 40\n",
    "numero2 = 20\n",
    "\n",
    "if numero1 > numero2:\n",
    "    print('El número máximo es', numero1)\n",
    "elif numero2 > numero1:\n",
    "    print('El número máximo es', numero2) \n",
    "else:    \n",
    "    print('Los números son iguales')"
   ]
  },
  {
   "cell_type": "markdown",
   "metadata": {},
   "source": [
    "5. Verificar si una letra es una vocal o una consonante\n",
    "\n",
    "Descripción: Dada una letra, verifica si es una vocal o una consonante."
   ]
  },
  {
   "cell_type": "code",
   "execution_count": 18,
   "metadata": {},
   "outputs": [
    {
     "name": "stdout",
     "output_type": "stream",
     "text": [
      "Esto es una consonante\n"
     ]
    }
   ],
   "source": [
    "vocales = ['a', 'e', 'i', 'o', 'u']\n",
    "consonantes = ['q', 'w', 'r', 't', 'y', 'p', 's', 'd', 'f', 'g', 'h', 'j', 'k', 'l', 'ñ', 'ç', 'z', 'x', 'c', 'v', 'b', 'n', 'm']\n",
    "\n",
    "letra = 'w'\n",
    "\n",
    "if letra in vocales:\n",
    "    print('Esto es una vocal.')\n",
    "elif letra in consonantes:\n",
    "    print('Esto es una consonante.')\n",
    "else:\n",
    "    print('Esto no es ni una vocal ni una consonante.')        "
   ]
  },
  {
   "cell_type": "markdown",
   "metadata": {},
   "source": [
    "6. Calcular el descuento en una compra según el monto total\n",
    "\n",
    "Descripción: Dado el monto total de una compra, calcula el descuento aplicado según las siguientes condiciones: si el monto es mayor o igual a $100, aplica un descuento del 10%; de lo contrario, no aplica ningún descuento."
   ]
  },
  {
   "cell_type": "code",
   "execution_count": 20,
   "metadata": {},
   "outputs": [
    {
     "name": "stdout",
     "output_type": "stream",
     "text": [
      "El monto total es 162.0\n"
     ]
    }
   ],
   "source": [
    "monto = 180\n",
    "\n",
    "if monto >= 100: \n",
    "    monto_descuento = monto*0.1\n",
    "    print('El monto total es', monto - monto_descuento)\n",
    "else:\n",
    "    print('El monto total es', monto)    "
   ]
  },
  {
   "cell_type": "markdown",
   "metadata": {},
   "source": [
    "7. Verificar si un año es bisiesto o no\n",
    "\n",
    "Descripción: Dado un año, verifica si es bisiesto o no (un año es bisiesto si es divisible entre 4, excepto aquellos divisibles entre 100 pero no entre 400)."
   ]
  },
  {
   "cell_type": "code",
   "execution_count": 26,
   "metadata": {},
   "outputs": [
    {
     "name": "stdout",
     "output_type": "stream",
     "text": [
      "El año 2117 NO es bisieto\n"
     ]
    }
   ],
   "source": [
    "year = 2117\n",
    "\n",
    "if year%4 == 0:     \n",
    "    if year%100 == 0:\n",
    "        if year%400 == 0:\n",
    "            print(f'El año {year} es un año bisiesto')\n",
    "        else:\n",
    "            print(f'El año {year} NO es bisieto')\n",
    "    else:\n",
    "       print(f'El año {year} es bisieto')\n",
    "else:\n",
    "    print(f'El año {year} NO es bisieto')            "
   ]
  },
  {
   "cell_type": "markdown",
   "metadata": {},
   "source": [
    "8. Asignar una categoría a una edad\n",
    "\n",
    "Descripción: Dada una edad, asigna una categoría según las siguientes condiciones: si la edad es menor de 18, la categoría es \"Menor de edad\"; si la edad está entre 18 y 64 (incluyendo ambos), la categoría es \"Adulto\"; de lo contrario, la categoría es \"Adulto mayor\"."
   ]
  },
  {
   "cell_type": "code",
   "execution_count": 30,
   "metadata": {},
   "outputs": [
    {
     "name": "stdout",
     "output_type": "stream",
     "text": [
      "Adulto mayor\n"
     ]
    }
   ],
   "source": [
    "edad = 65\n",
    "\n",
    "if edad < 18:\n",
    "    categoria = \"Menor de edad\"\n",
    "    print(categoria)\n",
    "elif edad >= 18 and edad <= 64:\n",
    "    categoria = \"Adulto\"\n",
    "    print(categoria)     \n",
    "else:\n",
    "    categoria = \"Adulto mayor\"    \n",
    "    print(categoria)"
   ]
  },
  {
   "cell_type": "markdown",
   "metadata": {},
   "source": [
    "9. Verificar si tres números forman un triángulo rectángulo\n",
    "Descripción: Dados tres números, verifica si forman un triángulo rectángulo (si se cumple el teorema de Pitágoras)."
   ]
  },
  {
   "cell_type": "code",
   "execution_count": 5,
   "metadata": {},
   "outputs": [
    {
     "name": "stdout",
     "output_type": "stream",
     "text": [
      "El triángulo formado por 45, 28 y 53 SÍ cumpliría el teorema de Pitágoras, es decir sería un triángulo rectángulo\n"
     ]
    }
   ],
   "source": [
    "#Teorema de Pitágoras: a**2 + b**2 == c**2\n",
    "a = 45\n",
    "b = 28\n",
    "c = 53\n",
    "\n",
    "if (a**2 + b**2) == (c**2):\n",
    "    print(f'El triángulo formado por {a}, {b} y {c} SÍ cumpliría el teorema de Pitágoras, es decir sería un triángulo rectángulo')\n",
    "else:\n",
    "    print(f'El triángulo formado por {a}, {b} y {c} NO cumpliría el teorema de Pitágoras, es decir NO sería un triángulo rectángulo')    "
   ]
  },
  {
   "cell_type": "markdown",
   "metadata": {},
   "source": [
    "10. Asignar una calificación a una puntuación\n",
    "\n",
    "Descripción: Dada una puntuación, asigna una calificación según las siguientes condiciones:  \n",
    "si la puntuación es mayor o igual a 90, la calificación es \"A\";  \n",
    "si es mayor o igual a 80, la calificación es \"B\";  \n",
    "si es mayor o igual a 70, la calificación es \"C\";  \n",
    "si es mayor o igual a 60, la calificación es \"D\";  \n",
    "de lo contrario, la calificación es \"F\"."
   ]
  },
  {
   "cell_type": "code",
   "execution_count": 10,
   "metadata": {},
   "outputs": [
    {
     "name": "stdout",
     "output_type": "stream",
     "text": [
      "La calificación es D\n"
     ]
    }
   ],
   "source": [
    "puntuacion = 61\n",
    "\n",
    "if puntuacion >= 90:\n",
    "    calificacion = 'A'\n",
    "    print(f\"La calificación es {calificacion}\")\n",
    "elif puntuacion >= 80:\n",
    "    calificacion = 'B'\n",
    "    print(f\"La calificación es {calificacion}\")\n",
    "elif puntuacion >= 70:\n",
    "    calificacion = 'C'\n",
    "    print(f\"La calificación es {calificacion}\")   \n",
    "elif puntuacion >= 60:\n",
    "    calificacion = 'D'\n",
    "    print(f\"La calificación es {calificacion}\")   \n",
    "else:\n",
    "    calificacion = 'F'\n",
    "    print(f\"La calificación es {calificacion}\")      "
   ]
  },
  {
   "cell_type": "markdown",
   "metadata": {},
   "source": [
    "11. Calcular el índice de masa corporal (IMC) y categorizarlo\n",
    "\n",
    "Descripción: Dados el peso (en kg) y la altura (en metros) de una persona, calcula su IMC y categorízalo según las siguientes condiciones:  \n",
    "si el IMC es menor a 18.5, es \"Bajo peso\";   \n",
    "si está entre 18.5 y 24.9 (inclusive), es \"Peso normal\";   \n",
    "si está entre 25 y 29.9 (inclusive), es \"Sobrepeso\";   \n",
    "de lo contrario, es \"Obesidad\"."
   ]
  },
  {
   "cell_type": "code",
   "execution_count": 19,
   "metadata": {},
   "outputs": [
    {
     "name": "stdout",
     "output_type": "stream",
     "text": [
      "40.7\n",
      "Según el IMC su resultado es : Obesidad\n"
     ]
    }
   ],
   "source": [
    "peso = 115\n",
    "altura = 1.68 \n",
    "imc = round(peso/altura**2, 1)\n",
    "\n",
    "print(imc)\n",
    "\n",
    "if imc < 18.5:\n",
    "    etiqueta_peso = \"Bajo peso\"\n",
    "    print(f'Según el IMC su resultado es : {etiqueta_peso}')\n",
    "elif 18.5 <= imc <= 24.9:\n",
    "    etiqueta_peso = \"Peso normal\"\n",
    "    print(f'Según el IMC su resultado es : {etiqueta_peso}')    \n",
    "elif 25 <= imc <= 29.9:\n",
    "    etiqueta_peso = \"Sobrepeso\"\n",
    "    print(f'Según el IMC su resultado es : {etiqueta_peso}') \n",
    "else:\n",
    "    etiqueta_peso = \"Obesidad\"\n",
    "    print(f'Según el IMC su resultado es : {etiqueta_peso}')     "
   ]
  },
  {
   "cell_type": "markdown",
   "metadata": {},
   "source": [
    "12. Calcular el mayor de tres números\n",
    "\n",
    "Descripción: Dados tres números, encuentra el mayor entre ellos."
   ]
  },
  {
   "cell_type": "code",
   "execution_count": 23,
   "metadata": {},
   "outputs": [
    {
     "name": "stdout",
     "output_type": "stream",
     "text": [
      "El mayor es el 5\n"
     ]
    }
   ],
   "source": [
    "numero1 = 5\n",
    "numero2 = 1\n",
    "numero3 = 3\n",
    "\n",
    "if numero1 > numero2 and numero1 > numero3:\n",
    "    print(f'El mayor es el {numero1}')\n",
    "elif numero2 > numero1 and numero2 > numero3:\n",
    "    print(f'El mayor es el {numero2}')\n",
    "elif numero3 > numero1 and numero3 > numero2:\n",
    "    print(f'El mayor es el {numero3}')\n",
    "else:\n",
    "    print('Alguno de los números son iguales')         \n",
    "        "
   ]
  },
  {
   "cell_type": "markdown",
   "metadata": {},
   "source": [
    "13. BONUS sentencias de control: Verificar la validez de una fecha\n",
    "\n",
    "Descripción: Dados el día, el mes y el año de una fecha, verifica si la fecha es válida."
   ]
  },
  {
   "cell_type": "code",
   "execution_count": 32,
   "metadata": {},
   "outputs": [
    {
     "name": "stdout",
     "output_type": "stream",
     "text": [
      "La fecha es válida\n"
     ]
    }
   ],
   "source": [
    "dia = 15\n",
    "mes = 'febrero'\n",
    "year = 1569\n",
    "\n",
    "lista_meses30 = ['abril', 'junio', 'septiembre', 'noviembre']\n",
    "lista_meses31 = ['enero', 'marzo', 'mayo', 'julio', 'agosto', 'octubre','diciembre']\n",
    "if  year > 2023:\n",
    "    print('La fecha no es válida')\n",
    "else: \n",
    "    if mes == 'febrero':\n",
    "        if 1 <= dia <= 29:\n",
    "            print('La fecha es válida')\n",
    "        else:\n",
    "            print('La fecha no es válida')    \n",
    "    elif mes in lista_meses30:\n",
    "        if 1 <= dia <= 30:\n",
    "            print('La fecha es válida')\n",
    "        else:\n",
    "            print('La fecha no es válida')         \n",
    "    elif mes in lista_meses31:\n",
    "        if 1 <= dia <= 31:\n",
    "            print('La fecha es válida')\n",
    "        else:\n",
    "            print('La fecha no es válida')\n",
    "    else:\n",
    "            print('La fecha no es válida')          "
   ]
  },
  {
   "cell_type": "markdown",
   "metadata": {},
   "source": [
    "### Ejercicios while\n",
    "1. Calcular la suma de los primeros 10 números naturales utilizando un bucle while\n",
    "\n",
    "Descripción: Utiliza un bucle while para calcular la suma de los primeros 10 números naturales (1 + 2 + 3 + ... + 10)."
   ]
  },
  {
   "cell_type": "code",
   "execution_count": 2,
   "metadata": {},
   "outputs": [
    {
     "name": "stdout",
     "output_type": "stream",
     "text": [
      "El numero actual es 1 y la suma: 1\n",
      "El numero actual es 2 y la suma: 3\n",
      "El numero actual es 3 y la suma: 6\n",
      "El numero actual es 4 y la suma: 10\n",
      "El numero actual es 5 y la suma: 15\n",
      "El numero actual es 6 y la suma: 21\n",
      "El numero actual es 7 y la suma: 28\n",
      "El numero actual es 8 y la suma: 36\n",
      "El numero actual es 9 y la suma: 45\n",
      "El numero actual es 10 y la suma: 55\n"
     ]
    }
   ],
   "source": [
    "numero = 1\n",
    "suma = 0\n",
    "\n",
    "while numero <=10:\n",
    "    suma = suma + numero\n",
    "    print(f'El numero actual es {numero} y la suma: {suma}')\n",
    "    numero += 1   \n",
    "    "
   ]
  },
  {
   "cell_type": "markdown",
   "metadata": {},
   "source": [
    "2. Juego de adivinanza utilizando un bucle while\n",
    "\n",
    "Descripción: Crea un juego de adivinanza en el que el jugador tiene que adivinar un número secreto (tendrá que ser entre el 0 y el 10). Utiliza un bucle while para permitir múltiples intentos hasta que el jugador adivine correctamente."
   ]
  },
  {
   "cell_type": "code",
   "execution_count": 2,
   "metadata": {},
   "outputs": [
    {
     "name": "stdout",
     "output_type": "stream",
     "text": [
      "¡Has ganado!\n"
     ]
    }
   ],
   "source": [
    "\n",
    "numero_secreto = 3\n",
    "numero_usuario = int(input('Adivina el número (indica un número entre 0 - 10):'))\n",
    "\n",
    "\n",
    "while numero_usuario != numero_secreto:\n",
    "    numero_usuario = int(input('¡Inténtalo de nuevo! Adivina el número: (indica un número entre 0 - 10)'))\n",
    "\n",
    "\n",
    "print('¡Has ganado!')"
   ]
  },
  {
   "cell_type": "markdown",
   "metadata": {},
   "source": [
    "Para minimizar los errores que puedan ocurrir porque el usuario se equivoca al introducir el número, la variable `numero_secreto` podria ser un string y así evitar que el programa se pare. En ese caso, no haría falta castear los inputs a integers."
   ]
  }
 ],
 "metadata": {
  "kernelspec": {
   "display_name": "base",
   "language": "python",
   "name": "python3"
  },
  "language_info": {
   "codemirror_mode": {
    "name": "ipython",
    "version": 3
   },
   "file_extension": ".py",
   "mimetype": "text/x-python",
   "name": "python",
   "nbconvert_exporter": "python",
   "pygments_lexer": "ipython3",
   "version": "3.9.7"
  }
 },
 "nbformat": 4,
 "nbformat_minor": 2
}
