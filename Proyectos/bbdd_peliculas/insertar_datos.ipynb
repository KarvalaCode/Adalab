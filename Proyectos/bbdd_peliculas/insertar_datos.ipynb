{
 "cells": [
  {
   "cell_type": "code",
   "execution_count": 2,
   "metadata": {},
   "outputs": [],
   "source": [
    "# !pip install mysql-connector-python\n",
    "# !pip install mysql-connector-python\n",
    "import pandas as pd\n",
    "import mysql.connector\n",
    "from  mysql.connector import errorcode"
   ]
  },
  {
   "cell_type": "markdown",
   "metadata": {},
   "source": []
  },
  {
   "cell_type": "code",
   "execution_count": null,
   "metadata": {},
   "outputs": [],
   "source": [
    "df_pelis = pd.read_csv('archivo.csv', index_col = 0)\n",
    "df_oscars = pd.read_csv('archivo.csv', index_col = 0)\n",
    "df_interpretes = pd.read_csv('archivo.csv', index_col = 0)\n",
    "df_puntuaciones = pd.read_csv('archivo.csv', index_col = 0)"
   ]
  },
  {
   "cell_type": "code",
   "execution_count": null,
   "metadata": {},
   "outputs": [],
   "source": [
    "orden =[\"2\", \"1\", \"5\"]\n",
    "df_pelis.reindex(columns = orden)"
   ]
  },
  {
   "cell_type": "code",
   "execution_count": null,
   "metadata": {},
   "outputs": [],
   "source": [
    "lista_tuplas_pelis = [tuple (fila) for fila in df_pelis.values]\n",
    "lista_tuplas_pelis = [tuple (fila) for fila in df_oscars.values]\n",
    "\n",
    "lista_tuplas_interpretes = [tuple (fila) for fila in df_interpretes.values]\n",
    "lista_tuplas_puntuaciones = [tuple (fila) for fila in df_puntuaciones.values]"
   ]
  },
  {
   "cell_type": "code",
   "execution_count": null,
   "metadata": {},
   "outputs": [],
   "source": [
    "#Tabla peliculas\n",
    "cnx = mysql.connector.connect(user=\"root\",\n",
    "                               password=\"AlumnaAdalab\",\n",
    "                               hots=\"localhost:3306\", database = \"bho_peliculas\")\n",
    "\n",
    "mycursor = cnx.cursor()\n",
    "\n",
    "sql_pelis = \"INSERT INTO peliculas (id_pelicula, nombre_pelicula, tipo, genero, año_estreno, mes_estreno, direccion, argumento, duracion) VALUES (%s, %s, %s, %s, %s, %s, %s, %s, %s)\"\n",
    "\n",
    "try:\n",
    "    mycursor.executemany(sql_pelis, lista_tuplas_pelis)\n",
    "    cnx.commit()\n",
    "    print(mycursor.rowcount, \"registros insertados\")\n",
    "except:\n",
    "    print(\"error inserción\")    "
   ]
  },
  {
   "cell_type": "code",
   "execution_count": null,
   "metadata": {},
   "outputs": [],
   "source": [
    "#Tabla interpretes\n",
    "cnx = mysql.connector.connect(user=\"root\",\n",
    "                               password=\"AlumnaAdalab\",\n",
    "                               hots=\"localhost:3306\", database = \"bho_peliculas\")\n",
    "\n",
    "mycursor = cnx.cursor()\n",
    "\n",
    "sql_interpretes = \"INSERT INTO datos_interpretes (nombre_interprete, año_nacimiento, se_conoce_por, que_hace, premios) VALUES (%s, %s, %s, %s, %s)\"\n",
    "\n",
    "try:\n",
    "    mycursor.executemany(sql_interpretes, lista_tuplas_interpretes)\n",
    "    cnx.commit()\n",
    "    print(mycursor.rowcount, \"registros insertados\")\n",
    "except:\n",
    "    print(\"error inserción\")    "
   ]
  },
  {
   "cell_type": "code",
   "execution_count": null,
   "metadata": {},
   "outputs": [],
   "source": [
    "#Tabla oscars\n",
    "cnx = mysql.connector.connect(user=\"root\",\n",
    "                               password=\"AlumnaAdalab\",\n",
    "                               hots=\"localhost:3306\", database = \"bho_peliculas\")\n",
    "\n",
    "mycursor = cnx.cursor()\n",
    "\n",
    "sql_oscars = \"INSERT INTO oscars (fecha_ceremonia, nombre_pelicula, direccion, nombre_actor, nombre_actriz) VALUES (%s, %s, %s, %s, %s)\"\n",
    "\n",
    "try:\n",
    "    mycursor.executemany(sql_oscars, lista_tuplas_oscars)\n",
    "    cnx.commit()\n",
    "    print(mycursor.rowcount, \"registros insertados\")\n",
    "except:\n",
    "    print(\"error inserción\")    "
   ]
  },
  {
   "cell_type": "code",
   "execution_count": null,
   "metadata": {},
   "outputs": [],
   "source": [
    "#Tabla puntuaciones\n",
    "cnx = mysql.connector.connect(user=\"root\",\n",
    "                               password=\"AlumnaAdalab\",\n",
    "                               hots=\"localhost:3306\", database = \"bho_peliculas\")\n",
    "\n",
    "mycursor = cnx.cursor()\n",
    "\n",
    "sql_puntuaciones = \"INSERT INTO puntuaciones (id_pelicula, nombre_pelicula, puntos_imdb, puntos_rotten) VALUES (%s, %s, %s, %s)\"\n",
    "\n",
    "try:\n",
    "    mycursor.executemany(sql_puntuaciones, lista_tuplas_puntuaciones)\n",
    "    cnx.commit()\n",
    "    print(mycursor.rowcount, \"registros insertados\")\n",
    "except:\n",
    "    print(\"error inserción\")    "
   ]
  },
  {
   "cell_type": "code",
   "execution_count": null,
   "metadata": {},
   "outputs": [],
   "source": [
    "#Tabla interpretes_peliculas\n",
    "cnx = mysql.connector.connect(user=\"root\",\n",
    "                               password=\"AlumnaAdalab\",\n",
    "                               hots=\"localhost:3306\", database = \"bho_peliculas\")\n",
    "\n",
    "mycursor = cnx.cursor()\n",
    "\n",
    "sql_interpretes_peliculas = \"INSERT INTO interpretes_peliculas (id_pelicula, nombre_interprete) VALUES (%s, %s)\"\n",
    "\n",
    "try:\n",
    "    mycursor.executemany(sql_interpretes_peliculas, lista_tuplas_interpretes_peliculas)\n",
    "    cnx.commit()\n",
    "    print(mycursor.rowcount, \"registros insertados\")\n",
    "except:\n",
    "    print(\"error inserción\")   "
   ]
  }
 ],
 "metadata": {
  "kernelspec": {
   "display_name": "Python 3",
   "language": "python",
   "name": "python3"
  },
  "language_info": {
   "codemirror_mode": {
    "name": "ipython",
    "version": 3
   },
   "file_extension": ".py",
   "mimetype": "text/x-python",
   "name": "python",
   "nbconvert_exporter": "python",
   "pygments_lexer": "ipython3",
   "version": "3.9.13"
  }
 },
 "nbformat": 4,
 "nbformat_minor": 2
}
