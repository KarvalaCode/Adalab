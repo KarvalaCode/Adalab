{
 "cells": [
  {
   "cell_type": "code",
   "execution_count": 21,
   "metadata": {},
   "outputs": [
    {
     "ename": "NameError",
     "evalue": "name 'genero' is not defined",
     "output_type": "error",
     "traceback": [
      "\u001b[0;31m---------------------------------------------------------------------------\u001b[0m",
      "\u001b[0;31mNameError\u001b[0m                                 Traceback (most recent call last)",
      "\u001b[0;32m/tmp/ipykernel_114609/4016370774.py\u001b[0m in \u001b[0;36m<module>\u001b[0;34m\u001b[0m\n\u001b[1;32m      2\u001b[0m \u001b[0;34m\u001b[0m\u001b[0m\n\u001b[1;32m      3\u001b[0m \u001b[0;34m\u001b[0m\u001b[0m\n\u001b[0;32m----> 4\u001b[0;31m \u001b[0murl\u001b[0m \u001b[0;34m=\u001b[0m \u001b[0;34mf\"https://moviesdatabase.p.rapidapi.com/titles?endYear=2023&startYear=1990&genre={genero}&page={num_page}\"\u001b[0m\u001b[0;34m\u001b[0m\u001b[0;34m\u001b[0m\u001b[0m\n\u001b[0m\u001b[1;32m      5\u001b[0m \u001b[0;31m#querystring = {\"endYear\":\"2023\",\"page\":\"1\",\"startYear\":\"1990\",\"genre\":\"Drama\"}\u001b[0m\u001b[0;34m\u001b[0m\u001b[0;34m\u001b[0m\u001b[0m\n\u001b[1;32m      6\u001b[0m \u001b[0;34m\u001b[0m\u001b[0m\n",
      "\u001b[0;31mNameError\u001b[0m: name 'genero' is not defined"
     ]
    }
   ],
   "source": [
    "import requests\n",
    "\n",
    "\n",
    "url = f\"https://moviesdatabase.p.rapidapi.com/titles?endYear=2023&startYear=1990&genre={genero}&page={num_page}\"\n",
    "#querystring = {\"endYear\":\"2023\",\"page\":\"1\",\"startYear\":\"1990\",\"genre\":\"Drama\"}\n",
    "\n",
    "headers = {\n",
    "\t\"X-RapidAPI-Key\": \"a70ffcc084mshcc839d466994dc6p11e747jsnf85be658e6fd\",\n",
    "\t\"X-RapidAPI-Host\": \"moviesdatabase.p.rapidapi.com\"\n",
    "}\n",
    "\n",
    "response = requests.get(url,headers=headers)\n",
    "#headers=headers, \n",
    "#params=querystring\n",
    "print(response.json())\n",
    "print(response.status_code)\n",
    "response.json()\n"
   ]
  },
  {
   "cell_type": "code",
   "execution_count": null,
   "metadata": {},
   "outputs": [],
   "source": [
    "lista_genero= ['Drama','Comedy', 'Action', 'Fantasy', 'Horror', 'Mystery', 'Romance', 'Thriller']"
   ]
  },
  {
   "cell_type": "code",
   "execution_count": null,
   "metadata": {},
   "outputs": [],
   "source": [
    "json_drama = response.json()"
   ]
  },
  {
   "cell_type": "code",
   "execution_count": null,
   "metadata": {},
   "outputs": [
    {
     "data": {
      "text/plain": [
       "dict_keys(['page', 'next', 'entries', 'results'])"
      ]
     },
     "execution_count": 91,
     "metadata": {},
     "output_type": "execute_result"
    }
   ],
   "source": [
    "json_drama.keys()"
   ]
  },
  {
   "cell_type": "code",
   "execution_count": null,
   "metadata": {},
   "outputs": [
    {
     "data": {
      "text/plain": [
       "10"
      ]
     },
     "execution_count": 92,
     "metadata": {},
     "output_type": "execute_result"
    }
   ],
   "source": [
    "len(json_drama['results'])"
   ]
  },
  {
   "cell_type": "code",
   "execution_count": null,
   "metadata": {},
   "outputs": [
    {
     "data": {
      "text/plain": [
       "dict_keys(['_id', 'id', 'primaryImage', 'titleType', 'titleText', 'originalTitleText', 'releaseYear', 'releaseDate'])"
      ]
     },
     "execution_count": 93,
     "metadata": {},
     "output_type": "execute_result"
    }
   ],
   "source": [
    "json_drama['results'][0].keys()"
   ]
  },
  {
   "cell_type": "code",
   "execution_count": null,
   "metadata": {},
   "outputs": [
    {
     "data": {
      "text/plain": [
       "{'_id': '61e58bc5b597b91eb943bb57',\n",
       " 'id': 'tt10100318',\n",
       " 'primaryImage': {'id': 'rm3903122689',\n",
       "  'width': 1800,\n",
       "  'height': 2700,\n",
       "  'url': 'https://m.media-amazon.com/images/M/MV5BYjUxYzg5MjktM2Q3My00ODM5LThjYTQtMjdkMzM2ZTQ0NTY2XkEyXkFqcGdeQXVyMTAxMDAwMTg4._V1_.jpg',\n",
       "  'caption': {'plainText': 'Dominic Keating, Kathleen Kinmont, Carmen Moreno, Ricco Ross, Garrett Wang, Douglas Weston, Michael Broderick, Laurine Price, Grace Byers, and Raffael Ponce-Valencia in Phoenix (2023)',\n",
       "   '__typename': 'Markdown'},\n",
       "  '__typename': 'Image'},\n",
       " 'titleType': {'displayableProperty': {'value': {'plainText': 'TV Series',\n",
       "    '__typename': 'Markdown'},\n",
       "   '__typename': 'DisplayableTitleTypeProperty'},\n",
       "  'text': 'TV Series',\n",
       "  'id': 'tvSeries',\n",
       "  'isSeries': True,\n",
       "  'isEpisode': False,\n",
       "  'categories': [{'value': 'tv', '__typename': 'TitleTypeCategory'}],\n",
       "  'canHaveEpisodes': True,\n",
       "  '__typename': 'TitleType'},\n",
       " 'titleText': {'text': 'Phoenix', '__typename': 'TitleText'},\n",
       " 'originalTitleText': {'text': 'Phoenix', '__typename': 'TitleText'},\n",
       " 'releaseYear': {'year': 2023, 'endYear': None, '__typename': 'YearRange'},\n",
       " 'releaseDate': {'day': None,\n",
       "  'month': None,\n",
       "  'year': 2023,\n",
       "  '__typename': 'ReleaseDate'}}"
      ]
     },
     "execution_count": 94,
     "metadata": {},
     "output_type": "execute_result"
    }
   ],
   "source": [
    "json_drama['results'][0]"
   ]
  },
  {
   "cell_type": "code",
   "execution_count": null,
   "metadata": {},
   "outputs": [
    {
     "data": {
      "text/plain": [
       "'TV Series'"
      ]
     },
     "execution_count": 95,
     "metadata": {},
     "output_type": "execute_result"
    }
   ],
   "source": [
    "# Tipo (movie / short)\n",
    "json_drama['results'][0]['titleType']['text']"
   ]
  },
  {
   "cell_type": "code",
   "execution_count": null,
   "metadata": {},
   "outputs": [
    {
     "data": {
      "text/plain": [
       "'Phoenix'"
      ]
     },
     "execution_count": 96,
     "metadata": {},
     "output_type": "execute_result"
    }
   ],
   "source": [
    "# Nombre pelícual\n",
    "json_drama['results'][0]['originalTitleText']['text']"
   ]
  },
  {
   "cell_type": "code",
   "execution_count": null,
   "metadata": {},
   "outputs": [
    {
     "data": {
      "text/plain": [
       "2023"
      ]
     },
     "execution_count": 97,
     "metadata": {},
     "output_type": "execute_result"
    }
   ],
   "source": [
    "# Año estreno\n",
    "json_drama['results'][0]['releaseDate']['year']"
   ]
  },
  {
   "cell_type": "code",
   "execution_count": null,
   "metadata": {},
   "outputs": [
    {
     "name": "stdout",
     "output_type": "stream",
     "text": [
      "None\n"
     ]
    }
   ],
   "source": [
    "# Mes estreno\n",
    "print(json_drama['results'][0]['releaseDate']['month'])"
   ]
  },
  {
   "cell_type": "code",
   "execution_count": null,
   "metadata": {},
   "outputs": [
    {
     "name": "stdout",
     "output_type": "stream",
     "text": [
      "tt10100318\n"
     ]
    }
   ],
   "source": [
    "# ID película\n",
    "print(json_drama['results'][0]['id'])"
   ]
  },
  {
   "cell_type": "code",
   "execution_count": null,
   "metadata": {},
   "outputs": [],
   "source": [
    " # orden de cómo vamos a mostrar las peliculas por género\n",
    "def sacar_pelis(url,genero):\n",
    "    \n",
    "    #querystring = {\"endYear\":\"2023\",\"page\":\"1\",\"startYear\":\"1990\",\"genre\":\"Drama\"}\n",
    "    #querystring = {\"page\":\"2\"}\n",
    "    #headers = {\n",
    "    #    \"X-RapidAPI-Key\": \"a70ffcc084mshcc839d466994dc6p11e747jsnf85be658e6fd\",\n",
    "    #    \"X-RapidAPI-Host\": \"moviesdatabase.p.rapidapi.com\"\n",
    "    #}\n",
    "\n",
    "    response = requests.get(url,headers= headers)\n",
    " \n",
    "    print(response.status_code)\n",
    "    json_pelis= response.json()\n",
    "\n",
    "    diccionario = {'Genero': [],\n",
    "                'Tipo' : [],\n",
    "                'Nombre' : [],\n",
    "                'Año estreno' : [],\n",
    "                'Mes estreno' : [],\n",
    "                'Id' :[]}\n",
    "    for peli in json_pelis['results']:\n",
    "        if peli[\"titleType\"][\"text\"] == \"Short\" or peli[\"titleType\"][\"text\"] ==\"Movie\":\n",
    "            #print(peli[\"originalTitleText\"][\"text\"])\n",
    "            diccionario[\"Genero\"].append(genero)\n",
    "            diccionario[\"Tipo\"].append(peli[\"titleType\"][\"text\"])\n",
    "            diccionario[\"Nombre\"].append(peli[\"originalTitleText\"][\"text\"]) \n",
    "            try: \n",
    "                diccionario[\"Año estreno\"].append(peli[\"releaseDate\"][\"year\"]) \n",
    "            except:\n",
    "                diccionario[\"Año estreno\"].append(\"Por estrenar\")\n",
    "            try:\n",
    "                diccionario[\"Mes estreno\"].append(peli[\"releaseDate\"][\"month\"])\n",
    "            except:\n",
    "                diccionario[\"Mes estreno\"].append(\"Por estrenar\")\n",
    "\n",
    "            diccionario[\"Id\"].append(peli[\"id\"])\n",
    "    return diccionario    \n",
    "\n",
    "        \n",
    "      "
   ]
  },
  {
   "cell_type": "code",
   "execution_count": null,
   "metadata": {},
   "outputs": [
    {
     "name": "stdout",
     "output_type": "stream",
     "text": [
      "200\n"
     ]
    },
    {
     "data": {
      "text/plain": [
       "{'Genero': ['drama', 'drama', 'drama', 'drama', 'drama'],\n",
       " 'Tipo': ['Movie', 'Movie', 'Movie', 'Movie', 'Movie'],\n",
       " 'Nombre': ['Bad Boy',\n",
       "  'The Place in Between',\n",
       "  'The Hunger Games: The Ballad of Songbirds and Snakes',\n",
       "  'Raw Power',\n",
       "  'Next Goal Wins'],\n",
       " 'Año estreno': [2023, 2023, 2023, 2023, 2023],\n",
       " 'Mes estreno': [4, 7, 11, 5, 11],\n",
       " 'Id': ['tt10351180', 'tt10425998', 'tt10545296', 'tt10548482', 'tt10767052']}"
      ]
     },
     "execution_count": 6,
     "metadata": {},
     "output_type": "execute_result"
    }
   ],
   "source": [
    "sacar_pelis(url,\"drama\")"
   ]
  },
  {
   "cell_type": "code",
   "execution_count": null,
   "metadata": {},
   "outputs": [],
   "source": [
    "# luego podemos pasar el dicc a listas:\n",
    "\n",
    "lista_drama = []\n",
    "for peli in json_drama['results']:\n",
    "    \"genero\",\"Nombre\",\"Año\",\"estreno\",\"Mes\",\"estreno\",\"Id\"\n",
    "\n"
   ]
  },
  {
   "cell_type": "code",
   "execution_count": null,
   "metadata": {},
   "outputs": [],
   "source": [
    "while True:\n",
    "    querystring['page'] = str(current_page)\n",
    "    response = requests.get(url, headers=headers, params=querystring)\n",
    "    data = response.json()\n",
    "    print(data)\n",
    "    if not data:\n",
    "        break\n",
    "    all_data.extend(data)\n",
    "    current_page += 1\n",
    "print(all_data)"
   ]
  },
  {
   "cell_type": "code",
   "execution_count": 19,
   "metadata": {},
   "outputs": [
    {
     "name": "stdout",
     "output_type": "stream",
     "text": [
      "{'page': '1', 'next': None, 'entries': 0, 'results': []}\n",
      "{'page': '2', 'next': None, 'entries': 0, 'results': []}\n",
      "{'page': '3', 'next': None, 'entries': 0, 'results': []}\n",
      "{'page': '4', 'next': None, 'entries': 0, 'results': []}\n",
      "{'page': '5', 'next': None, 'entries': 0, 'results': []}\n",
      "{'page': '6', 'next': None, 'entries': 0, 'results': []}\n",
      "{'page': '7', 'next': None, 'entries': 0, 'results': []}\n",
      "{'page': '8', 'next': None, 'entries': 0, 'results': []}\n",
      "{'page': '9', 'next': None, 'entries': 0, 'results': []}\n",
      "{'page': '10', 'next': None, 'entries': 0, 'results': []}\n",
      "{'page': '11', 'next': None, 'entries': 0, 'results': []}\n",
      "{'page': '12', 'next': None, 'entries': 0, 'results': []}\n",
      "{'page': '13', 'next': None, 'entries': 0, 'results': []}\n",
      "{'page': '14', 'next': None, 'entries': 0, 'results': []}\n",
      "{'page': '15', 'next': None, 'entries': 0, 'results': []}\n",
      "{'page': '16', 'next': None, 'entries': 0, 'results': []}\n",
      "{'page': '17', 'next': None, 'entries': 0, 'results': []}\n",
      "{'page': '18', 'next': None, 'entries': 0, 'results': []}\n",
      "{'page': '19', 'next': None, 'entries': 0, 'results': []}\n",
      "{'page': '20', 'next': None, 'entries': 0, 'results': []}\n"
     ]
    },
    {
     "ename": "KeyboardInterrupt",
     "evalue": "",
     "output_type": "error",
     "traceback": [
      "\u001b[0;31m---------------------------------------------------------------------------\u001b[0m",
      "\u001b[0;31mKeyboardInterrupt\u001b[0m                         Traceback (most recent call last)",
      "\u001b[0;32m/tmp/ipykernel_114609/4168569800.py\u001b[0m in \u001b[0;36m<module>\u001b[0;34m\u001b[0m\n\u001b[1;32m     11\u001b[0m \u001b[0;34m\u001b[0m\u001b[0m\n\u001b[1;32m     12\u001b[0m     \u001b[0mquerystring\u001b[0m\u001b[0;34m[\u001b[0m\u001b[0;34m'page'\u001b[0m\u001b[0;34m]\u001b[0m \u001b[0;34m=\u001b[0m \u001b[0mstr\u001b[0m\u001b[0;34m(\u001b[0m\u001b[0mcurrent_page\u001b[0m\u001b[0;34m)\u001b[0m\u001b[0;34m\u001b[0m\u001b[0;34m\u001b[0m\u001b[0m\n\u001b[0;32m---> 13\u001b[0;31m     \u001b[0mresponse\u001b[0m \u001b[0;34m=\u001b[0m \u001b[0mrequests\u001b[0m\u001b[0;34m.\u001b[0m\u001b[0mget\u001b[0m\u001b[0;34m(\u001b[0m\u001b[0murl\u001b[0m\u001b[0;34m,\u001b[0m \u001b[0mheaders\u001b[0m\u001b[0;34m=\u001b[0m\u001b[0mheaders\u001b[0m\u001b[0;34m,\u001b[0m \u001b[0mparams\u001b[0m\u001b[0;34m=\u001b[0m\u001b[0mquerystring\u001b[0m\u001b[0;34m)\u001b[0m\u001b[0;34m\u001b[0m\u001b[0;34m\u001b[0m\u001b[0m\n\u001b[0m\u001b[1;32m     14\u001b[0m     \u001b[0mdata\u001b[0m \u001b[0;34m=\u001b[0m \u001b[0mresponse\u001b[0m\u001b[0;34m.\u001b[0m\u001b[0mjson\u001b[0m\u001b[0;34m(\u001b[0m\u001b[0;34m)\u001b[0m\u001b[0;34m\u001b[0m\u001b[0;34m\u001b[0m\u001b[0m\n\u001b[1;32m     15\u001b[0m     \u001b[0mprint\u001b[0m\u001b[0;34m(\u001b[0m\u001b[0mdata\u001b[0m\u001b[0;34m)\u001b[0m\u001b[0;34m\u001b[0m\u001b[0;34m\u001b[0m\u001b[0m\n",
      "\u001b[0;32m~/anaconda3/lib/python3.9/site-packages/requests/api.py\u001b[0m in \u001b[0;36mget\u001b[0;34m(url, params, **kwargs)\u001b[0m\n\u001b[1;32m     73\u001b[0m     \"\"\"\n\u001b[1;32m     74\u001b[0m \u001b[0;34m\u001b[0m\u001b[0m\n\u001b[0;32m---> 75\u001b[0;31m     \u001b[0;32mreturn\u001b[0m \u001b[0mrequest\u001b[0m\u001b[0;34m(\u001b[0m\u001b[0;34m'get'\u001b[0m\u001b[0;34m,\u001b[0m \u001b[0murl\u001b[0m\u001b[0;34m,\u001b[0m \u001b[0mparams\u001b[0m\u001b[0;34m=\u001b[0m\u001b[0mparams\u001b[0m\u001b[0;34m,\u001b[0m \u001b[0;34m**\u001b[0m\u001b[0mkwargs\u001b[0m\u001b[0;34m)\u001b[0m\u001b[0;34m\u001b[0m\u001b[0;34m\u001b[0m\u001b[0m\n\u001b[0m\u001b[1;32m     76\u001b[0m \u001b[0;34m\u001b[0m\u001b[0m\n\u001b[1;32m     77\u001b[0m \u001b[0;34m\u001b[0m\u001b[0m\n",
      "\u001b[0;32m~/anaconda3/lib/python3.9/site-packages/requests/api.py\u001b[0m in \u001b[0;36mrequest\u001b[0;34m(method, url, **kwargs)\u001b[0m\n\u001b[1;32m     59\u001b[0m     \u001b[0;31m# cases, and look like a memory leak in others.\u001b[0m\u001b[0;34m\u001b[0m\u001b[0;34m\u001b[0m\u001b[0m\n\u001b[1;32m     60\u001b[0m     \u001b[0;32mwith\u001b[0m \u001b[0msessions\u001b[0m\u001b[0;34m.\u001b[0m\u001b[0mSession\u001b[0m\u001b[0;34m(\u001b[0m\u001b[0;34m)\u001b[0m \u001b[0;32mas\u001b[0m \u001b[0msession\u001b[0m\u001b[0;34m:\u001b[0m\u001b[0;34m\u001b[0m\u001b[0;34m\u001b[0m\u001b[0m\n\u001b[0;32m---> 61\u001b[0;31m         \u001b[0;32mreturn\u001b[0m \u001b[0msession\u001b[0m\u001b[0;34m.\u001b[0m\u001b[0mrequest\u001b[0m\u001b[0;34m(\u001b[0m\u001b[0mmethod\u001b[0m\u001b[0;34m=\u001b[0m\u001b[0mmethod\u001b[0m\u001b[0;34m,\u001b[0m \u001b[0murl\u001b[0m\u001b[0;34m=\u001b[0m\u001b[0murl\u001b[0m\u001b[0;34m,\u001b[0m \u001b[0;34m**\u001b[0m\u001b[0mkwargs\u001b[0m\u001b[0;34m)\u001b[0m\u001b[0;34m\u001b[0m\u001b[0;34m\u001b[0m\u001b[0m\n\u001b[0m\u001b[1;32m     62\u001b[0m \u001b[0;34m\u001b[0m\u001b[0m\n\u001b[1;32m     63\u001b[0m \u001b[0;34m\u001b[0m\u001b[0m\n",
      "\u001b[0;32m~/anaconda3/lib/python3.9/site-packages/requests/sessions.py\u001b[0m in \u001b[0;36mrequest\u001b[0;34m(self, method, url, params, data, headers, cookies, files, auth, timeout, allow_redirects, proxies, hooks, stream, verify, cert, json)\u001b[0m\n\u001b[1;32m    540\u001b[0m         }\n\u001b[1;32m    541\u001b[0m         \u001b[0msend_kwargs\u001b[0m\u001b[0;34m.\u001b[0m\u001b[0mupdate\u001b[0m\u001b[0;34m(\u001b[0m\u001b[0msettings\u001b[0m\u001b[0;34m)\u001b[0m\u001b[0;34m\u001b[0m\u001b[0;34m\u001b[0m\u001b[0m\n\u001b[0;32m--> 542\u001b[0;31m         \u001b[0mresp\u001b[0m \u001b[0;34m=\u001b[0m \u001b[0mself\u001b[0m\u001b[0;34m.\u001b[0m\u001b[0msend\u001b[0m\u001b[0;34m(\u001b[0m\u001b[0mprep\u001b[0m\u001b[0;34m,\u001b[0m \u001b[0;34m**\u001b[0m\u001b[0msend_kwargs\u001b[0m\u001b[0;34m)\u001b[0m\u001b[0;34m\u001b[0m\u001b[0;34m\u001b[0m\u001b[0m\n\u001b[0m\u001b[1;32m    543\u001b[0m \u001b[0;34m\u001b[0m\u001b[0m\n\u001b[1;32m    544\u001b[0m         \u001b[0;32mreturn\u001b[0m \u001b[0mresp\u001b[0m\u001b[0;34m\u001b[0m\u001b[0;34m\u001b[0m\u001b[0m\n",
      "\u001b[0;32m~/anaconda3/lib/python3.9/site-packages/requests/sessions.py\u001b[0m in \u001b[0;36msend\u001b[0;34m(self, request, **kwargs)\u001b[0m\n\u001b[1;32m    653\u001b[0m \u001b[0;34m\u001b[0m\u001b[0m\n\u001b[1;32m    654\u001b[0m         \u001b[0;31m# Send the request\u001b[0m\u001b[0;34m\u001b[0m\u001b[0;34m\u001b[0m\u001b[0m\n\u001b[0;32m--> 655\u001b[0;31m         \u001b[0mr\u001b[0m \u001b[0;34m=\u001b[0m \u001b[0madapter\u001b[0m\u001b[0;34m.\u001b[0m\u001b[0msend\u001b[0m\u001b[0;34m(\u001b[0m\u001b[0mrequest\u001b[0m\u001b[0;34m,\u001b[0m \u001b[0;34m**\u001b[0m\u001b[0mkwargs\u001b[0m\u001b[0;34m)\u001b[0m\u001b[0;34m\u001b[0m\u001b[0;34m\u001b[0m\u001b[0m\n\u001b[0m\u001b[1;32m    656\u001b[0m \u001b[0;34m\u001b[0m\u001b[0m\n\u001b[1;32m    657\u001b[0m         \u001b[0;31m# Total elapsed time of the request (approximately)\u001b[0m\u001b[0;34m\u001b[0m\u001b[0;34m\u001b[0m\u001b[0m\n",
      "\u001b[0;32m~/anaconda3/lib/python3.9/site-packages/requests/adapters.py\u001b[0m in \u001b[0;36msend\u001b[0;34m(self, request, stream, timeout, verify, cert, proxies)\u001b[0m\n\u001b[1;32m    437\u001b[0m         \u001b[0;32mtry\u001b[0m\u001b[0;34m:\u001b[0m\u001b[0;34m\u001b[0m\u001b[0;34m\u001b[0m\u001b[0m\n\u001b[1;32m    438\u001b[0m             \u001b[0;32mif\u001b[0m \u001b[0;32mnot\u001b[0m \u001b[0mchunked\u001b[0m\u001b[0;34m:\u001b[0m\u001b[0;34m\u001b[0m\u001b[0;34m\u001b[0m\u001b[0m\n\u001b[0;32m--> 439\u001b[0;31m                 resp = conn.urlopen(\n\u001b[0m\u001b[1;32m    440\u001b[0m                     \u001b[0mmethod\u001b[0m\u001b[0;34m=\u001b[0m\u001b[0mrequest\u001b[0m\u001b[0;34m.\u001b[0m\u001b[0mmethod\u001b[0m\u001b[0;34m,\u001b[0m\u001b[0;34m\u001b[0m\u001b[0;34m\u001b[0m\u001b[0m\n\u001b[1;32m    441\u001b[0m                     \u001b[0murl\u001b[0m\u001b[0;34m=\u001b[0m\u001b[0murl\u001b[0m\u001b[0;34m,\u001b[0m\u001b[0;34m\u001b[0m\u001b[0;34m\u001b[0m\u001b[0m\n",
      "\u001b[0;32m~/anaconda3/lib/python3.9/site-packages/urllib3/connectionpool.py\u001b[0m in \u001b[0;36murlopen\u001b[0;34m(self, method, url, body, headers, retries, redirect, assert_same_host, timeout, pool_timeout, release_conn, chunked, body_pos, **response_kw)\u001b[0m\n\u001b[1;32m    697\u001b[0m \u001b[0;34m\u001b[0m\u001b[0m\n\u001b[1;32m    698\u001b[0m             \u001b[0;31m# Make the request on the httplib connection object.\u001b[0m\u001b[0;34m\u001b[0m\u001b[0;34m\u001b[0m\u001b[0m\n\u001b[0;32m--> 699\u001b[0;31m             httplib_response = self._make_request(\n\u001b[0m\u001b[1;32m    700\u001b[0m                 \u001b[0mconn\u001b[0m\u001b[0;34m,\u001b[0m\u001b[0;34m\u001b[0m\u001b[0;34m\u001b[0m\u001b[0m\n\u001b[1;32m    701\u001b[0m                 \u001b[0mmethod\u001b[0m\u001b[0;34m,\u001b[0m\u001b[0;34m\u001b[0m\u001b[0;34m\u001b[0m\u001b[0m\n",
      "\u001b[0;32m~/anaconda3/lib/python3.9/site-packages/urllib3/connectionpool.py\u001b[0m in \u001b[0;36m_make_request\u001b[0;34m(self, conn, method, url, timeout, chunked, **httplib_request_kw)\u001b[0m\n\u001b[1;32m    380\u001b[0m         \u001b[0;31m# Trigger any extra validation we need to do.\u001b[0m\u001b[0;34m\u001b[0m\u001b[0;34m\u001b[0m\u001b[0m\n\u001b[1;32m    381\u001b[0m         \u001b[0;32mtry\u001b[0m\u001b[0;34m:\u001b[0m\u001b[0;34m\u001b[0m\u001b[0;34m\u001b[0m\u001b[0m\n\u001b[0;32m--> 382\u001b[0;31m             \u001b[0mself\u001b[0m\u001b[0;34m.\u001b[0m\u001b[0m_validate_conn\u001b[0m\u001b[0;34m(\u001b[0m\u001b[0mconn\u001b[0m\u001b[0;34m)\u001b[0m\u001b[0;34m\u001b[0m\u001b[0;34m\u001b[0m\u001b[0m\n\u001b[0m\u001b[1;32m    383\u001b[0m         \u001b[0;32mexcept\u001b[0m \u001b[0;34m(\u001b[0m\u001b[0mSocketTimeout\u001b[0m\u001b[0;34m,\u001b[0m \u001b[0mBaseSSLError\u001b[0m\u001b[0;34m)\u001b[0m \u001b[0;32mas\u001b[0m \u001b[0me\u001b[0m\u001b[0;34m:\u001b[0m\u001b[0;34m\u001b[0m\u001b[0;34m\u001b[0m\u001b[0m\n\u001b[1;32m    384\u001b[0m             \u001b[0;31m# Py2 raises this as a BaseSSLError, Py3 raises it as socket timeout.\u001b[0m\u001b[0;34m\u001b[0m\u001b[0;34m\u001b[0m\u001b[0m\n",
      "\u001b[0;32m~/anaconda3/lib/python3.9/site-packages/urllib3/connectionpool.py\u001b[0m in \u001b[0;36m_validate_conn\u001b[0;34m(self, conn)\u001b[0m\n\u001b[1;32m   1008\u001b[0m         \u001b[0;31m# Force connect early to allow us to validate the connection.\u001b[0m\u001b[0;34m\u001b[0m\u001b[0;34m\u001b[0m\u001b[0m\n\u001b[1;32m   1009\u001b[0m         \u001b[0;32mif\u001b[0m \u001b[0;32mnot\u001b[0m \u001b[0mgetattr\u001b[0m\u001b[0;34m(\u001b[0m\u001b[0mconn\u001b[0m\u001b[0;34m,\u001b[0m \u001b[0;34m\"sock\"\u001b[0m\u001b[0;34m,\u001b[0m \u001b[0;32mNone\u001b[0m\u001b[0;34m)\u001b[0m\u001b[0;34m:\u001b[0m  \u001b[0;31m# AppEngine might not have  `.sock`\u001b[0m\u001b[0;34m\u001b[0m\u001b[0;34m\u001b[0m\u001b[0m\n\u001b[0;32m-> 1010\u001b[0;31m             \u001b[0mconn\u001b[0m\u001b[0;34m.\u001b[0m\u001b[0mconnect\u001b[0m\u001b[0;34m(\u001b[0m\u001b[0;34m)\u001b[0m\u001b[0;34m\u001b[0m\u001b[0;34m\u001b[0m\u001b[0m\n\u001b[0m\u001b[1;32m   1011\u001b[0m \u001b[0;34m\u001b[0m\u001b[0m\n\u001b[1;32m   1012\u001b[0m         \u001b[0;32mif\u001b[0m \u001b[0;32mnot\u001b[0m \u001b[0mconn\u001b[0m\u001b[0;34m.\u001b[0m\u001b[0mis_verified\u001b[0m\u001b[0;34m:\u001b[0m\u001b[0;34m\u001b[0m\u001b[0;34m\u001b[0m\u001b[0m\n",
      "\u001b[0;32m~/anaconda3/lib/python3.9/site-packages/urllib3/connection.py\u001b[0m in \u001b[0;36mconnect\u001b[0;34m(self)\u001b[0m\n\u001b[1;32m    356\u001b[0m     \u001b[0;32mdef\u001b[0m \u001b[0mconnect\u001b[0m\u001b[0;34m(\u001b[0m\u001b[0mself\u001b[0m\u001b[0;34m)\u001b[0m\u001b[0;34m:\u001b[0m\u001b[0;34m\u001b[0m\u001b[0;34m\u001b[0m\u001b[0m\n\u001b[1;32m    357\u001b[0m         \u001b[0;31m# Add certificate verification\u001b[0m\u001b[0;34m\u001b[0m\u001b[0;34m\u001b[0m\u001b[0m\n\u001b[0;32m--> 358\u001b[0;31m         \u001b[0mconn\u001b[0m \u001b[0;34m=\u001b[0m \u001b[0mself\u001b[0m\u001b[0;34m.\u001b[0m\u001b[0m_new_conn\u001b[0m\u001b[0;34m(\u001b[0m\u001b[0;34m)\u001b[0m\u001b[0;34m\u001b[0m\u001b[0;34m\u001b[0m\u001b[0m\n\u001b[0m\u001b[1;32m    359\u001b[0m         \u001b[0mhostname\u001b[0m \u001b[0;34m=\u001b[0m \u001b[0mself\u001b[0m\u001b[0;34m.\u001b[0m\u001b[0mhost\u001b[0m\u001b[0;34m\u001b[0m\u001b[0;34m\u001b[0m\u001b[0m\n\u001b[1;32m    360\u001b[0m         \u001b[0mtls_in_tls\u001b[0m \u001b[0;34m=\u001b[0m \u001b[0;32mFalse\u001b[0m\u001b[0;34m\u001b[0m\u001b[0;34m\u001b[0m\u001b[0m\n",
      "\u001b[0;32m~/anaconda3/lib/python3.9/site-packages/urllib3/connection.py\u001b[0m in \u001b[0;36m_new_conn\u001b[0;34m(self)\u001b[0m\n\u001b[1;32m    172\u001b[0m \u001b[0;34m\u001b[0m\u001b[0m\n\u001b[1;32m    173\u001b[0m         \u001b[0;32mtry\u001b[0m\u001b[0;34m:\u001b[0m\u001b[0;34m\u001b[0m\u001b[0;34m\u001b[0m\u001b[0m\n\u001b[0;32m--> 174\u001b[0;31m             conn = connection.create_connection(\n\u001b[0m\u001b[1;32m    175\u001b[0m                 \u001b[0;34m(\u001b[0m\u001b[0mself\u001b[0m\u001b[0;34m.\u001b[0m\u001b[0m_dns_host\u001b[0m\u001b[0;34m,\u001b[0m \u001b[0mself\u001b[0m\u001b[0;34m.\u001b[0m\u001b[0mport\u001b[0m\u001b[0;34m)\u001b[0m\u001b[0;34m,\u001b[0m \u001b[0mself\u001b[0m\u001b[0;34m.\u001b[0m\u001b[0mtimeout\u001b[0m\u001b[0;34m,\u001b[0m \u001b[0;34m**\u001b[0m\u001b[0mextra_kw\u001b[0m\u001b[0;34m\u001b[0m\u001b[0;34m\u001b[0m\u001b[0m\n\u001b[1;32m    176\u001b[0m             )\n",
      "\u001b[0;32m~/anaconda3/lib/python3.9/site-packages/urllib3/util/connection.py\u001b[0m in \u001b[0;36mcreate_connection\u001b[0;34m(address, timeout, source_address, socket_options)\u001b[0m\n\u001b[1;32m     84\u001b[0m             \u001b[0;32mif\u001b[0m \u001b[0msource_address\u001b[0m\u001b[0;34m:\u001b[0m\u001b[0;34m\u001b[0m\u001b[0;34m\u001b[0m\u001b[0m\n\u001b[1;32m     85\u001b[0m                 \u001b[0msock\u001b[0m\u001b[0;34m.\u001b[0m\u001b[0mbind\u001b[0m\u001b[0;34m(\u001b[0m\u001b[0msource_address\u001b[0m\u001b[0;34m)\u001b[0m\u001b[0;34m\u001b[0m\u001b[0;34m\u001b[0m\u001b[0m\n\u001b[0;32m---> 86\u001b[0;31m             \u001b[0msock\u001b[0m\u001b[0;34m.\u001b[0m\u001b[0mconnect\u001b[0m\u001b[0;34m(\u001b[0m\u001b[0msa\u001b[0m\u001b[0;34m)\u001b[0m\u001b[0;34m\u001b[0m\u001b[0;34m\u001b[0m\u001b[0m\n\u001b[0m\u001b[1;32m     87\u001b[0m             \u001b[0;32mreturn\u001b[0m \u001b[0msock\u001b[0m\u001b[0;34m\u001b[0m\u001b[0;34m\u001b[0m\u001b[0m\n\u001b[1;32m     88\u001b[0m \u001b[0;34m\u001b[0m\u001b[0m\n",
      "\u001b[0;31mKeyboardInterrupt\u001b[0m: "
     ]
    }
   ],
   "source": [
    "#url = \"https://moviesdatabase.p.rapidapi.com/titles?endYear=2023&startYear=1990\"\n",
    "\n",
    "all_data = []\n",
    "current_page = 1\n",
    "while True:\n",
    "    url = \"https://moviesdatabase.p.rapidapi.com/titles?endYear=2023&startYear=1990\"\n",
    "    headers = {\"X-RapidAPI-Key\": \"a70ffcc084mshcc839d466994dc6p11e747jsnf85be658e6fd\",\n",
    "\t\"X-RapidAPI-Host\": \"moviesdatabase.p.rapidapi.com\"}\n",
    "    \n",
    "    querystring = {\"endYear\":\"2023\",\"page\":\"1\",\"startYear\":\"1990\",\"genre\":\"Drama\"}\n",
    "\n",
    "    querystring['page'] = str(current_page)\n",
    "    response = requests.get(url, headers=headers, params=querystring)\n",
    "    data = response.json()\n",
    "    print(data)\n",
    "    if not data:\n",
    "        break\n",
    "    all_data.extend(data)\n",
    "    current_page += 1"
   ]
  },
  {
   "cell_type": "code",
   "execution_count": 27,
   "metadata": {},
   "outputs": [
    {
     "name": "stdout",
     "output_type": "stream",
     "text": [
      "La respuesta ha sido: 200\n",
      "La respuesta ha sido: 200\n",
      "La respuesta ha sido: 200\n",
      "La respuesta ha sido: 200\n",
      "La respuesta ha sido: 200\n",
      "La respuesta ha sido: 200\n",
      "La respuesta ha sido: 200\n",
      "La respuesta ha sido: 200\n",
      "La respuesta ha sido: 200\n"
     ]
    },
    {
     "data": {
      "text/plain": [
       "{'Genero': ['Drama',\n",
       "  'Drama',\n",
       "  'Drama',\n",
       "  'Drama',\n",
       "  'Drama',\n",
       "  'Drama',\n",
       "  'Drama',\n",
       "  'Drama',\n",
       "  'Drama',\n",
       "  'Drama',\n",
       "  'Drama',\n",
       "  'Drama',\n",
       "  'Drama',\n",
       "  'Drama',\n",
       "  'Drama',\n",
       "  'Drama',\n",
       "  'Drama',\n",
       "  'Drama',\n",
       "  'Drama',\n",
       "  'Drama',\n",
       "  'Drama',\n",
       "  'Drama',\n",
       "  'Drama',\n",
       "  'Drama',\n",
       "  'Drama',\n",
       "  'Drama',\n",
       "  'Drama',\n",
       "  'Drama',\n",
       "  'Drama',\n",
       "  'Drama',\n",
       "  'Drama',\n",
       "  'Drama',\n",
       "  'Drama',\n",
       "  'Drama',\n",
       "  'Drama',\n",
       "  'Drama',\n",
       "  'Drama',\n",
       "  'Drama',\n",
       "  'Drama',\n",
       "  'Drama',\n",
       "  'Drama'],\n",
       " 'Tipo': ['Short',\n",
       "  'Movie',\n",
       "  'Movie',\n",
       "  'Movie',\n",
       "  'Movie',\n",
       "  'Movie',\n",
       "  'Movie',\n",
       "  'Movie',\n",
       "  'Movie',\n",
       "  'Movie',\n",
       "  'Movie',\n",
       "  'Movie',\n",
       "  'Movie',\n",
       "  'Movie',\n",
       "  'Movie',\n",
       "  'Movie',\n",
       "  'Movie',\n",
       "  'Movie',\n",
       "  'Movie',\n",
       "  'Movie',\n",
       "  'Movie',\n",
       "  'Movie',\n",
       "  'Movie',\n",
       "  'Movie',\n",
       "  'Movie',\n",
       "  'Movie',\n",
       "  'Movie',\n",
       "  'Movie',\n",
       "  'Movie',\n",
       "  'Movie',\n",
       "  'Movie',\n",
       "  'Movie',\n",
       "  'Movie',\n",
       "  'Movie',\n",
       "  'Movie',\n",
       "  'Movie',\n",
       "  'Movie',\n",
       "  'Movie',\n",
       "  'Movie',\n",
       "  'Movie',\n",
       "  'Movie'],\n",
       " 'Nombre': ['Astray',\n",
       "  'Bambi',\n",
       "  'Bad Boy',\n",
       "  'The Place in Between',\n",
       "  'The Hunger Games: The Ballad of Songbirds and Snakes',\n",
       "  'Raw Power',\n",
       "  'Next Goal Wins',\n",
       "  'Cloud by Night',\n",
       "  'Minamoto Monogatari',\n",
       "  'Mujeres Silenciosas',\n",
       "  'Silent Life: The Story of the Lady in Black',\n",
       "  'The Silent Prayer',\n",
       "  'Amadeo',\n",
       "  'Creed III',\n",
       "  'Go Go',\n",
       "  'Dark Room',\n",
       "  'Ai Lun',\n",
       "  'Divine Flames',\n",
       "  'Divine Flames',\n",
       "  'The Accompanist Awakening',\n",
       "  'Vincent',\n",
       "  'Black Nightmares',\n",
       "  'Yuna',\n",
       "  'CultureshockED',\n",
       "  'Extraordinary Sacrifice',\n",
       "  'Oliver Outloud',\n",
       "  'Cookster',\n",
       "  'Ladies Are Pimps Too',\n",
       "  \"Sophie's Rules\",\n",
       "  'Bugsy the Becoming',\n",
       "  'Varisu',\n",
       "  'The Color Purple',\n",
       "  'Karanliktaki Kadin',\n",
       "  'Romeo Is Dead',\n",
       "  'Piedade',\n",
       "  'Big George Foreman',\n",
       "  '65',\n",
       "  'Getting to the Plug',\n",
       "  'My',\n",
       "  'Central Valley',\n",
       "  'Sharper'],\n",
       " 'Año estreno': [2023,\n",
       "  'Por estrenar',\n",
       "  2023,\n",
       "  2023,\n",
       "  2023,\n",
       "  2023,\n",
       "  2023,\n",
       "  2023,\n",
       "  2023,\n",
       "  2023,\n",
       "  2023,\n",
       "  2023,\n",
       "  2023,\n",
       "  2023,\n",
       "  2023,\n",
       "  2023,\n",
       "  2023,\n",
       "  None,\n",
       "  None,\n",
       "  2023,\n",
       "  2023,\n",
       "  2023,\n",
       "  2024,\n",
       "  None,\n",
       "  None,\n",
       "  2023,\n",
       "  2023,\n",
       "  2023,\n",
       "  2023,\n",
       "  2023,\n",
       "  2023,\n",
       "  2024,\n",
       "  2023,\n",
       "  None,\n",
       "  2023,\n",
       "  2023,\n",
       "  2023,\n",
       "  2023,\n",
       "  2023,\n",
       "  2023,\n",
       "  2023],\n",
       " 'Mes estreno': [6,\n",
       "  'Por estrenar',\n",
       "  4,\n",
       "  7,\n",
       "  11,\n",
       "  5,\n",
       "  11,\n",
       "  10,\n",
       "  4,\n",
       "  10,\n",
       "  2,\n",
       "  4,\n",
       "  1,\n",
       "  3,\n",
       "  None,\n",
       "  12,\n",
       "  6,\n",
       "  None,\n",
       "  None,\n",
       "  12,\n",
       "  None,\n",
       "  6,\n",
       "  12,\n",
       "  None,\n",
       "  None,\n",
       "  1,\n",
       "  None,\n",
       "  2,\n",
       "  1,\n",
       "  8,\n",
       "  1,\n",
       "  1,\n",
       "  5,\n",
       "  None,\n",
       "  None,\n",
       "  4,\n",
       "  3,\n",
       "  2,\n",
       "  None,\n",
       "  4,\n",
       "  2],\n",
       " 'Id': ['tt10242552',\n",
       "  'tt10298848',\n",
       "  'tt10351180',\n",
       "  'tt10425998',\n",
       "  'tt10545296',\n",
       "  'tt10548482',\n",
       "  'tt10767052',\n",
       "  'tt10849046',\n",
       "  'tt10929648',\n",
       "  'tt10965102',\n",
       "  'tt1099209',\n",
       "  'tt11100698',\n",
       "  'tt11143850',\n",
       "  'tt11145118',\n",
       "  'tt11165686',\n",
       "  'tt11196176',\n",
       "  'tt11197400',\n",
       "  'tt11218958',\n",
       "  'tt11226102',\n",
       "  'tt11237950',\n",
       "  'tt11253182',\n",
       "  'tt11306970',\n",
       "  'tt11379234',\n",
       "  'tt11541438',\n",
       "  'tt11601444',\n",
       "  'tt11668514',\n",
       "  'tt11760408',\n",
       "  'tt11779282',\n",
       "  'tt11950404',\n",
       "  'tt11972054',\n",
       "  'tt11998558',\n",
       "  'tt1200263',\n",
       "  'tt12087678',\n",
       "  'tt12092594',\n",
       "  'tt12109690',\n",
       "  'tt12226632',\n",
       "  'tt12261776',\n",
       "  'tt12422694',\n",
       "  'tt12518970',\n",
       "  'tt12543840',\n",
       "  'tt12573454']}"
      ]
     },
     "execution_count": 27,
     "metadata": {},
     "output_type": "execute_result"
    }
   ],
   "source": [
    "diccionario = {'Genero': [],\n",
    "                    'Tipo' : [],\n",
    "                    'Nombre' : [],\n",
    "                    'Año estreno' : [],\n",
    "                    'Mes estreno' : [],\n",
    "                    'Id' :[]}\n",
    "\n",
    "def sacar_pelis(url):\n",
    "    page = 1\n",
    "    pelis = []\n",
    "    while page < 10 :\n",
    "        querystring = {\"endYear\":\"2023\",\"page\":f\"{str(page)}\",\"startYear\":\"1990\",\"genre\":\"Drama\"}\n",
    "        headers = {\n",
    "            \"X-RapidAPI-Key\": \"a70ffcc084mshcc839d466994dc6p11e747jsnf85be658e6fd\",\n",
    "            \"X-RapidAPI-Host\": \"moviesdatabase.p.rapidapi.com\"\n",
    "        }\n",
    "        response = requests.get(url, headers=headers, params=querystring)\n",
    "        json_pelis = response.json()\n",
    "        response = requests.get(url,headers= headers)\n",
    "        print(f\"La respuesta ha sido: {response.status_code}\")\n",
    "       \n",
    "        for peli in json_pelis['results']:\n",
    "            if peli[\"titleType\"][\"text\"] == \"Short\" or peli[\"titleType\"][\"text\"] ==\"Movie\":\n",
    "                diccionario[\"Genero\"].append(\"Drama\")\n",
    "                diccionario[\"Tipo\"].append(peli[\"titleType\"][\"text\"])\n",
    "                diccionario[\"Nombre\"].append(peli[\"originalTitleText\"][\"text\"])\n",
    "                try:\n",
    "                    diccionario[\"Año estreno\"].append(peli[\"releaseDate\"][\"year\"])\n",
    "                except:\n",
    "                    diccionario[\"Año estreno\"].append(\"Por estrenar\")\n",
    "                try:\n",
    "                    diccionario[\"Mes estreno\"].append(peli[\"releaseDate\"][\"month\"])\n",
    "                except:\n",
    "                    diccionario[\"Mes estreno\"].append(\"Por estrenar\")\n",
    "                diccionario[\"Id\"].append(peli[\"id\"])\n",
    "        page+=1\n",
    "    return diccionario\n",
    "url = \"https://moviesdatabase.p.rapidapi.com/titles\"\n",
    "sacar_pelis(url)\n",
    "\n",
    "diccionario\n",
    "\n",
    "\n",
    "\n",
    "\n"
   ]
  }
 ],
 "metadata": {
  "kernelspec": {
   "display_name": "base",
   "language": "python",
   "name": "python3"
  },
  "language_info": {
   "codemirror_mode": {
    "name": "ipython",
    "version": 3
   },
   "file_extension": ".py",
   "mimetype": "text/x-python",
   "name": "python",
   "nbconvert_exporter": "python",
   "pygments_lexer": "ipython3",
   "version": "3.9.7"
  }
 },
 "nbformat": 4,
 "nbformat_minor": 2
}
