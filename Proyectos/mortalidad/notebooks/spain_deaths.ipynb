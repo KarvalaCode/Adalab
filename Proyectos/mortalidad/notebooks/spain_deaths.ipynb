{
 "cells": [
  {
   "cell_type": "code",
   "execution_count": null,
   "metadata": {},
   "outputs": [],
   "source": [
    "# Tratamiento de datos\n",
    "# -----------------------------------------------------------------------\n",
    "import pandas as pd\n",
    "import numpy as np\n",
    "\n",
    "# Imputación de nulos usando métodos avanzados estadísticos\n",
    "# -----------------------------------------------------------------------\n",
    "from sklearn.impute import SimpleImputer\n",
    "from sklearn.experimental import enable_iterative_imputer\n",
    "from sklearn.impute import IterativeImputer\n",
    "from sklearn.impute import KNNImputer\n",
    "\n",
    "# Librerías de visualización\n",
    "# -----------------------------------------------------------------------\n",
    "import seaborn as sns\n",
    "import matplotlib.pyplot as plt\n",
    "# Configuración\n",
    "# -----------------------------------------------------------------------\n",
    "pd.set_option('display.max_columns', None) # para poder visualizar todas las columnas de los DataFrames"
   ]
  },
  {
   "cell_type": "markdown",
   "metadata": {},
   "source": [
    "Data source: https://www.kaggle.com/datasets/matthiaskleine/european-mortality-dataset'"
   ]
  },
  {
   "cell_type": "markdown",
   "metadata": {},
   "source": [
    "# Spain deaths"
   ]
  },
  {
   "cell_type": "code",
   "execution_count": null,
   "metadata": {},
   "outputs": [],
   "source": [
    "df_year_death_10 = pd.read_csv(\"../data/data_raw/european_yearly_deaths_by_country_and_age.csv\")\n",
    "df_year_death_10"
   ]
  },
  {
   "cell_type": "code",
   "execution_count": null,
   "metadata": {},
   "outputs": [],
   "source": [
    "df_death = pd.read_csv(\"../data/data_raw/european_yearly_deaths_by_country_and_1_year_age_groups.csv\")\n",
    "df_death"
   ]
  },
  {
   "cell_type": "code",
   "execution_count": null,
   "metadata": {},
   "outputs": [],
   "source": [
    "col_spain=[\"country\"]\n",
    "for column in df_death.columns:\n",
    "    if \"Spain\" in column:\n",
    "        col_spain.append(column)"
   ]
  },
  {
   "cell_type": "code",
   "execution_count": null,
   "metadata": {},
   "outputs": [],
   "source": [
    "df_spain_death=df_death[col_spain]"
   ]
  },
  {
   "cell_type": "code",
   "execution_count": null,
   "metadata": {},
   "outputs": [],
   "source": [
    "df_spain_death= df_spain_death.T"
   ]
  },
  {
   "cell_type": "code",
   "execution_count": null,
   "metadata": {},
   "outputs": [],
   "source": [
    "headers = df_spain_death.iloc[0].values\n",
    "df_spain_death.columns = headers\n",
    "df_spain_death.drop('country', axis=0, inplace=True)\n",
    "df_spain_death"
   ]
  },
  {
   "cell_type": "code",
   "execution_count": null,
   "metadata": {},
   "outputs": [],
   "source": [
    "df_spain_death = df_spain_death.reset_index()\n",
    "df_spain_death.drop('index', axis=1, inplace=True)\n",
    "df_spain_death"
   ]
  },
  {
   "cell_type": "code",
   "execution_count": null,
   "metadata": {},
   "outputs": [],
   "source": [
    "def exploracion_csv(df):\n",
    "    \"\"\"\n",
    "    Función para explorar un archivo csv\n",
    "    \n",
    "    Args:\n",
    "        archivo (str): Archivo csv separado por comas\n",
    "\n",
    "    Returns:\n",
    "        df (DataFrame): Devuelve un csv directamente del archivo  función no devuleve nada (None) pero realiza varios prints con información de los datos incluidos en el csv    \"\"\"\n",
    "    \n",
    "    # Convertimos el csv a DataFrame\n",
    "\n",
    "\n",
    "    #Echamos un vistazo\n",
    "    print(\"Primeras filas:\")\n",
    "    display(df.head(10))\n",
    "    print(\"-----------------------------\")\n",
    "\n",
    "    print(\"Últimas filas:\")\n",
    "    display(df.tail(10))\n",
    "    print(\"-----------------------------\")\n",
    "\n",
    "    print(\"Filas aleatorias:\")\n",
    "    display(df.sample(10))\n",
    "    print(\"-----------------------------\")\n",
    "\n",
    "    print(f\"El df tiene {df.shape[0]} filas y {df.shape[1]} columnas\")\n",
    "    print(\"-----------------------------\")\n",
    "\n",
    "    print(\"Tipos de datos y nulos:\")\n",
    "    display(df.info())\n",
    "    print(\"-----------------------------\")\n",
    "    \n",
    "    print(f\"Características columnas númericas:\\n{df.describe().T}\")\n",
    "    print(f\"-----------------------------\")\n",
    "\n",
    "    print(f\"Características columnas de texto:\\n{df.describe (include='object').T}\")\n",
    "    print(f\"-----------------------------\")\n",
    "\n",
    "    print(f\"Duplicados:\\n{df.duplicated().sum()}\")\n",
    "    print(f\"-----------------------------\")\n",
    "\n",
    "    # generamos un DataFrame para los valores nulos\n",
    "    print(\"Los nulos que tenemos en el conjunto de datos son:\")\n",
    "    df_nulos = pd.DataFrame(df.isnull().sum() / df.shape[0] * 100, columns = [\"%_nulos\"])\n",
    "    display(df_nulos[df_nulos[\"%_nulos\"] > 0])\n",
    "\n",
    "    print(\"\\n ..................... \\n\")\n",
    "    print(\"Los valores que tenemos para las columnas categóricas son: \")\n",
    "    df_categoricas = df.select_dtypes(include = \"O\")\n",
    "    \n",
    "    for col in df_categoricas.columns:\n",
    "        print(f\"La columna {col.upper()} tiene las siguientes valore únicos:\")\n",
    "        display(pd.DataFrame(df[col].value_counts()/df[col].shape[0])*100)  "
   ]
  },
  {
   "cell_type": "code",
   "execution_count": null,
   "metadata": {},
   "outputs": [],
   "source": [
    "exploracion_csv(df_spain_death)"
   ]
  },
  {
   "cell_type": "code",
   "execution_count": null,
   "metadata": {},
   "outputs": [],
   "source": [
    "df_spain_death.columns"
   ]
  },
  {
   "cell_type": "code",
   "execution_count": null,
   "metadata": {},
   "outputs": [],
   "source": [
    "# columna a integer:\n",
    "def to_float(num):\n",
    "    \"\"\"\n",
    "    Convierte una cadena que representa un número a tipo de dato integer\n",
    "\n",
    "    Args:\n",
    "        num (str): Una cadena que representa un número entero.\n",
    "\n",
    "    Returns:\n",
    "        int: El número equivalente en formato de tipo integer.\n",
    "    \"\"\"\n",
    "    return float(num)"
   ]
  },
  {
   "cell_type": "code",
   "execution_count": null,
   "metadata": {},
   "outputs": [],
   "source": [
    "# columna a integer:\n",
    "def to_int(num):\n",
    "    \"\"\"\n",
    "    Convierte una cadena que representa un número a tipo de dato integer\n",
    "\n",
    "    Args:\n",
    "        num (str): Una cadena que representa un número entero.\n",
    "\n",
    "    Returns:\n",
    "        int: El número equivalente en formato de tipo integer.\n",
    "    \"\"\"\n",
    "    return int(num)"
   ]
  },
  {
   "cell_type": "code",
   "execution_count": null,
   "metadata": {},
   "outputs": [],
   "source": [
    "columns_to_int =['age', '2013', '2014', '2015', '2016', '2017', '2018', '2019',\n",
    "       '2020', '2021']"
   ]
  },
  {
   "cell_type": "code",
   "execution_count": null,
   "metadata": {},
   "outputs": [],
   "source": [
    "for column in columns_to_int:\n",
    "    df_spain_death[column] = df_spain_death[column].apply(to_float).astype(float)\n",
    "    df_spain_death[column] = df_spain_death[column].apply(to_int).astype(int)"
   ]
  },
  {
   "cell_type": "code",
   "execution_count": null,
   "metadata": {},
   "outputs": [],
   "source": [
    "df_spain_death.info()"
   ]
  },
  {
   "cell_type": "code",
   "execution_count": null,
   "metadata": {},
   "outputs": [],
   "source": [
    "df_spain_death"
   ]
  },
  {
   "cell_type": "code",
   "execution_count": null,
   "metadata": {},
   "outputs": [],
   "source": [
    "df_spain_death.describe().T"
   ]
  },
  {
   "cell_type": "code",
   "execution_count": null,
   "metadata": {},
   "outputs": [],
   "source": [
    "df_spain_death "
   ]
  },
  {
   "cell_type": "code",
   "execution_count": null,
   "metadata": {},
   "outputs": [],
   "source": [
    "df_spain_death = df_spain_death.T\n",
    "df_spain_death"
   ]
  },
  {
   "cell_type": "code",
   "execution_count": null,
   "metadata": {},
   "outputs": [],
   "source": [
    "headers = df_spain_death.iloc[0].values\n",
    "df_spain_death.columns = headers\n",
    "df_spain_death"
   ]
  },
  {
   "cell_type": "code",
   "execution_count": null,
   "metadata": {},
   "outputs": [],
   "source": [
    "df_spain_death.drop('age', axis=0, inplace=True)"
   ]
  },
  {
   "cell_type": "code",
   "execution_count": null,
   "metadata": {},
   "outputs": [],
   "source": [
    "df_spain_death  "
   ]
  },
  {
   "cell_type": "code",
   "execution_count": null,
   "metadata": {},
   "outputs": [],
   "source": [
    "df_spain_death.to_csv('../data/data_spain/deaths_spain.csv')"
   ]
  }
 ],
 "metadata": {
  "kernelspec": {
   "display_name": "base",
   "language": "python",
   "name": "python3"
  },
  "language_info": {
   "codemirror_mode": {
    "name": "ipython",
    "version": 3
   },
   "file_extension": ".py",
   "mimetype": "text/x-python",
   "name": "python",
   "nbconvert_exporter": "python",
   "pygments_lexer": "ipython3",
   "version": "3.9.7"
  }
 },
 "nbformat": 4,
 "nbformat_minor": 2
}
