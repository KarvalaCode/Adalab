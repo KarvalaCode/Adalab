{
 "cells": [
  {
   "cell_type": "code",
   "execution_count": 37,
   "metadata": {},
   "outputs": [],
   "source": [
    "# Tratamiento de datos\n",
    "# -----------------------------------------------------------------------\n",
    "import pandas as pd\n",
    "import numpy as np\n",
    "\n",
    "# Imputación de nulos usando métodos avanzados estadísticos\n",
    "# -----------------------------------------------------------------------\n",
    "from sklearn.impute import SimpleImputer\n",
    "from sklearn.experimental import enable_iterative_imputer\n",
    "from sklearn.impute import IterativeImputer\n",
    "from sklearn.impute import KNNImputer\n",
    "\n",
    "# Librerías de visualización\n",
    "# -----------------------------------------------------------------------\n",
    "import seaborn as sns\n",
    "import matplotlib.pyplot as plt\n",
    "\n",
    "# Librerías para trabajar con fechas\n",
    "# -----------------------------------------------------------------------\n",
    "from datetime import datetime\n",
    "\n",
    "# Configuración\n",
    "# -----------------------------------------------------------------------\n",
    "pd.set_option('display.max_columns', None) # para poder visualizar todas las columnas de los DataFrames\n",
    "# pd.set_option('display.max_rows', None) # para poder visualizar todas las filas de los DataFrames"
   ]
  },
  {
   "cell_type": "code",
   "execution_count": 38,
   "metadata": {},
   "outputs": [],
   "source": [
    "df = pd.read_csv('/Users/yohanna/Desktop/Adalab/Modulo4/Proyecto/proyecto-da-promof-modulo4-equipo5/data/bookings_clean_ok.csv', index_col=0)"
   ]
  },
  {
   "cell_type": "markdown",
   "metadata": {},
   "source": [
    "Cancelacion\n"
   ]
  },
  {
   "cell_type": "code",
   "execution_count": 39,
   "metadata": {},
   "outputs": [
    {
     "data": {
      "text/html": [
       "<div>\n",
       "<style scoped>\n",
       "    .dataframe tbody tr th:only-of-type {\n",
       "        vertical-align: middle;\n",
       "    }\n",
       "\n",
       "    .dataframe tbody tr th {\n",
       "        vertical-align: top;\n",
       "    }\n",
       "\n",
       "    .dataframe thead th {\n",
       "        text-align: right;\n",
       "    }\n",
       "</style>\n",
       "<table border=\"1\" class=\"dataframe\">\n",
       "  <thead>\n",
       "    <tr style=\"text-align: right;\">\n",
       "      <th></th>\n",
       "      <th>hotel</th>\n",
       "      <th>is_canceled</th>\n",
       "      <th>arrival_date_year</th>\n",
       "      <th>arrival_date_month</th>\n",
       "      <th>arrival_date_week_number</th>\n",
       "      <th>arrival_date_day_of_month</th>\n",
       "      <th>adults</th>\n",
       "      <th>children</th>\n",
       "      <th>babies</th>\n",
       "      <th>meal</th>\n",
       "      <th>country</th>\n",
       "      <th>market_segment</th>\n",
       "      <th>distribution_channel</th>\n",
       "      <th>is_repeated_guest</th>\n",
       "      <th>previous_cancellations</th>\n",
       "      <th>previous_bookings_not_canceled</th>\n",
       "      <th>reserved_room_type</th>\n",
       "      <th>assigned_room_type</th>\n",
       "      <th>booking_changes</th>\n",
       "      <th>agent</th>\n",
       "      <th>company</th>\n",
       "      <th>days_in_waiting_list</th>\n",
       "      <th>customer_type</th>\n",
       "      <th>required_car_parking_spaces</th>\n",
       "      <th>total_of_special_requests</th>\n",
       "      <th>reservation_status</th>\n",
       "      <th>change_room</th>\n",
       "      <th>adr</th>\n",
       "      <th>lead_time</th>\n",
       "      <th>stays_in_weekend_nights</th>\n",
       "      <th>stays_in_week_nights</th>\n",
       "      <th>total_nights</th>\n",
       "    </tr>\n",
       "  </thead>\n",
       "  <tbody>\n",
       "    <tr>\n",
       "      <th>0</th>\n",
       "      <td>Resort Hotel</td>\n",
       "      <td>No Cancelado</td>\n",
       "      <td>2015.0</td>\n",
       "      <td>July</td>\n",
       "      <td>27.0</td>\n",
       "      <td>1.0</td>\n",
       "      <td>2</td>\n",
       "      <td>0</td>\n",
       "      <td>0</td>\n",
       "      <td>BB</td>\n",
       "      <td>Portugal</td>\n",
       "      <td>Unknown</td>\n",
       "      <td>Direct</td>\n",
       "      <td>First time</td>\n",
       "      <td>0</td>\n",
       "      <td>0</td>\n",
       "      <td>C</td>\n",
       "      <td>C</td>\n",
       "      <td>3</td>\n",
       "      <td>Unknown</td>\n",
       "      <td>Unknown</td>\n",
       "      <td>0</td>\n",
       "      <td>Transient</td>\n",
       "      <td>0</td>\n",
       "      <td>0</td>\n",
       "      <td>Check-Out</td>\n",
       "      <td>equal</td>\n",
       "      <td>0.0</td>\n",
       "      <td>342</td>\n",
       "      <td>0</td>\n",
       "      <td>0</td>\n",
       "      <td>0</td>\n",
       "    </tr>\n",
       "    <tr>\n",
       "      <th>1</th>\n",
       "      <td>Resort Hotel</td>\n",
       "      <td>No Cancelado</td>\n",
       "      <td>2015.0</td>\n",
       "      <td>July</td>\n",
       "      <td>27.0</td>\n",
       "      <td>1.0</td>\n",
       "      <td>2</td>\n",
       "      <td>0</td>\n",
       "      <td>0</td>\n",
       "      <td>BB</td>\n",
       "      <td>Unknown</td>\n",
       "      <td>Unknown</td>\n",
       "      <td>Direct</td>\n",
       "      <td>First time</td>\n",
       "      <td>0</td>\n",
       "      <td>0</td>\n",
       "      <td>Unknown</td>\n",
       "      <td>C</td>\n",
       "      <td>4</td>\n",
       "      <td>Unknown</td>\n",
       "      <td>Unknown</td>\n",
       "      <td>0</td>\n",
       "      <td>Transient</td>\n",
       "      <td>0</td>\n",
       "      <td>0</td>\n",
       "      <td>Check-Out</td>\n",
       "      <td>change</td>\n",
       "      <td>0.0</td>\n",
       "      <td>737</td>\n",
       "      <td>0</td>\n",
       "      <td>0</td>\n",
       "      <td>0</td>\n",
       "    </tr>\n",
       "    <tr>\n",
       "      <th>2</th>\n",
       "      <td>Resort Hotel</td>\n",
       "      <td>No Cancelado</td>\n",
       "      <td>2015.0</td>\n",
       "      <td>July</td>\n",
       "      <td>27.0</td>\n",
       "      <td>1.0</td>\n",
       "      <td>1</td>\n",
       "      <td>0</td>\n",
       "      <td>0</td>\n",
       "      <td>BB</td>\n",
       "      <td>United Kingdom</td>\n",
       "      <td>Unknown</td>\n",
       "      <td>Direct</td>\n",
       "      <td>First time</td>\n",
       "      <td>0</td>\n",
       "      <td>0</td>\n",
       "      <td>A</td>\n",
       "      <td>C</td>\n",
       "      <td>0</td>\n",
       "      <td>Unknown</td>\n",
       "      <td>Unknown</td>\n",
       "      <td>0</td>\n",
       "      <td>Transient</td>\n",
       "      <td>0</td>\n",
       "      <td>0</td>\n",
       "      <td>Check-Out</td>\n",
       "      <td>change</td>\n",
       "      <td>75.0</td>\n",
       "      <td>7</td>\n",
       "      <td>0</td>\n",
       "      <td>1</td>\n",
       "      <td>1</td>\n",
       "    </tr>\n",
       "    <tr>\n",
       "      <th>3</th>\n",
       "      <td>Resort Hotel</td>\n",
       "      <td>No Cancelado</td>\n",
       "      <td>2015.0</td>\n",
       "      <td>July</td>\n",
       "      <td>27.0</td>\n",
       "      <td>1.0</td>\n",
       "      <td>1</td>\n",
       "      <td>0</td>\n",
       "      <td>0</td>\n",
       "      <td>BB</td>\n",
       "      <td>United Kingdom</td>\n",
       "      <td>Corporate</td>\n",
       "      <td>Corporate</td>\n",
       "      <td>First time</td>\n",
       "      <td>0</td>\n",
       "      <td>0</td>\n",
       "      <td>A</td>\n",
       "      <td>A</td>\n",
       "      <td>0</td>\n",
       "      <td>304.0</td>\n",
       "      <td>Unknown</td>\n",
       "      <td>0</td>\n",
       "      <td>Transient</td>\n",
       "      <td>0</td>\n",
       "      <td>0</td>\n",
       "      <td>Check-Out</td>\n",
       "      <td>equal</td>\n",
       "      <td>75.0</td>\n",
       "      <td>13</td>\n",
       "      <td>0</td>\n",
       "      <td>1</td>\n",
       "      <td>1</td>\n",
       "    </tr>\n",
       "    <tr>\n",
       "      <th>4</th>\n",
       "      <td>Resort Hotel</td>\n",
       "      <td>No Cancelado</td>\n",
       "      <td>2015.0</td>\n",
       "      <td>July</td>\n",
       "      <td>NaN</td>\n",
       "      <td>1.0</td>\n",
       "      <td>2</td>\n",
       "      <td>0</td>\n",
       "      <td>0</td>\n",
       "      <td>BB</td>\n",
       "      <td>Unknown</td>\n",
       "      <td>Online TA</td>\n",
       "      <td>TA/TO</td>\n",
       "      <td>First time</td>\n",
       "      <td>0</td>\n",
       "      <td>0</td>\n",
       "      <td>A</td>\n",
       "      <td>A</td>\n",
       "      <td>0</td>\n",
       "      <td>240.0</td>\n",
       "      <td>Unknown</td>\n",
       "      <td>0</td>\n",
       "      <td>Transient</td>\n",
       "      <td>0</td>\n",
       "      <td>1</td>\n",
       "      <td>Check-Out</td>\n",
       "      <td>equal</td>\n",
       "      <td>98.0</td>\n",
       "      <td>14</td>\n",
       "      <td>0</td>\n",
       "      <td>2</td>\n",
       "      <td>2</td>\n",
       "    </tr>\n",
       "    <tr>\n",
       "      <th>5</th>\n",
       "      <td>Resort Hotel</td>\n",
       "      <td>No Cancelado</td>\n",
       "      <td>2015.0</td>\n",
       "      <td>July</td>\n",
       "      <td>27.0</td>\n",
       "      <td>1.0</td>\n",
       "      <td>2</td>\n",
       "      <td>0</td>\n",
       "      <td>0</td>\n",
       "      <td>BB</td>\n",
       "      <td>United Kingdom</td>\n",
       "      <td>Online TA</td>\n",
       "      <td>TA/TO</td>\n",
       "      <td>First time</td>\n",
       "      <td>0</td>\n",
       "      <td>0</td>\n",
       "      <td>A</td>\n",
       "      <td>A</td>\n",
       "      <td>0</td>\n",
       "      <td>240.0</td>\n",
       "      <td>Unknown</td>\n",
       "      <td>0</td>\n",
       "      <td>Unknown</td>\n",
       "      <td>0</td>\n",
       "      <td>1</td>\n",
       "      <td>Check-Out</td>\n",
       "      <td>equal</td>\n",
       "      <td>98.0</td>\n",
       "      <td>14</td>\n",
       "      <td>0</td>\n",
       "      <td>2</td>\n",
       "      <td>2</td>\n",
       "    </tr>\n",
       "    <tr>\n",
       "      <th>6</th>\n",
       "      <td>Resort Hotel</td>\n",
       "      <td>No Cancelado</td>\n",
       "      <td>2015.0</td>\n",
       "      <td>July</td>\n",
       "      <td>NaN</td>\n",
       "      <td>1.0</td>\n",
       "      <td>2</td>\n",
       "      <td>0</td>\n",
       "      <td>0</td>\n",
       "      <td>BB</td>\n",
       "      <td>Unknown</td>\n",
       "      <td>Direct</td>\n",
       "      <td>Direct</td>\n",
       "      <td>First time</td>\n",
       "      <td>0</td>\n",
       "      <td>0</td>\n",
       "      <td>C</td>\n",
       "      <td>C</td>\n",
       "      <td>0</td>\n",
       "      <td>Unknown</td>\n",
       "      <td>Unknown</td>\n",
       "      <td>0</td>\n",
       "      <td>Unknown</td>\n",
       "      <td>0</td>\n",
       "      <td>0</td>\n",
       "      <td>Check-Out</td>\n",
       "      <td>equal</td>\n",
       "      <td>107.0</td>\n",
       "      <td>0</td>\n",
       "      <td>0</td>\n",
       "      <td>2</td>\n",
       "      <td>2</td>\n",
       "    </tr>\n",
       "    <tr>\n",
       "      <th>7</th>\n",
       "      <td>Resort Hotel</td>\n",
       "      <td>No Cancelado</td>\n",
       "      <td>2015.0</td>\n",
       "      <td>July</td>\n",
       "      <td>27.0</td>\n",
       "      <td>1.0</td>\n",
       "      <td>2</td>\n",
       "      <td>0</td>\n",
       "      <td>0</td>\n",
       "      <td>FB</td>\n",
       "      <td>Unknown</td>\n",
       "      <td>Direct</td>\n",
       "      <td>Direct</td>\n",
       "      <td>First time</td>\n",
       "      <td>0</td>\n",
       "      <td>0</td>\n",
       "      <td>C</td>\n",
       "      <td>C</td>\n",
       "      <td>0</td>\n",
       "      <td>303.0</td>\n",
       "      <td>Unknown</td>\n",
       "      <td>0</td>\n",
       "      <td>Unknown</td>\n",
       "      <td>0</td>\n",
       "      <td>1</td>\n",
       "      <td>Check-Out</td>\n",
       "      <td>equal</td>\n",
       "      <td>103.0</td>\n",
       "      <td>9</td>\n",
       "      <td>0</td>\n",
       "      <td>2</td>\n",
       "      <td>2</td>\n",
       "    </tr>\n",
       "    <tr>\n",
       "      <th>8</th>\n",
       "      <td>Resort Hotel</td>\n",
       "      <td>Cancelado</td>\n",
       "      <td>2015.0</td>\n",
       "      <td>July</td>\n",
       "      <td>27.0</td>\n",
       "      <td>1.0</td>\n",
       "      <td>2</td>\n",
       "      <td>0</td>\n",
       "      <td>0</td>\n",
       "      <td>BB</td>\n",
       "      <td>Portugal</td>\n",
       "      <td>Unknown</td>\n",
       "      <td>Unknown</td>\n",
       "      <td>First time</td>\n",
       "      <td>0</td>\n",
       "      <td>0</td>\n",
       "      <td>A</td>\n",
       "      <td>A</td>\n",
       "      <td>0</td>\n",
       "      <td>240.0</td>\n",
       "      <td>Unknown</td>\n",
       "      <td>0</td>\n",
       "      <td>Transient</td>\n",
       "      <td>0</td>\n",
       "      <td>1</td>\n",
       "      <td>Canceled</td>\n",
       "      <td>equal</td>\n",
       "      <td>82.0</td>\n",
       "      <td>85</td>\n",
       "      <td>0</td>\n",
       "      <td>3</td>\n",
       "      <td>3</td>\n",
       "    </tr>\n",
       "    <tr>\n",
       "      <th>9</th>\n",
       "      <td>Resort Hotel</td>\n",
       "      <td>Cancelado</td>\n",
       "      <td>2015.0</td>\n",
       "      <td>July</td>\n",
       "      <td>27.0</td>\n",
       "      <td>1.0</td>\n",
       "      <td>2</td>\n",
       "      <td>0</td>\n",
       "      <td>0</td>\n",
       "      <td>HB</td>\n",
       "      <td>Unknown</td>\n",
       "      <td>Unknown</td>\n",
       "      <td>TA/TO</td>\n",
       "      <td>First time</td>\n",
       "      <td>0</td>\n",
       "      <td>0</td>\n",
       "      <td>D</td>\n",
       "      <td>D</td>\n",
       "      <td>0</td>\n",
       "      <td>15.0</td>\n",
       "      <td>Unknown</td>\n",
       "      <td>0</td>\n",
       "      <td>Transient</td>\n",
       "      <td>0</td>\n",
       "      <td>0</td>\n",
       "      <td>Canceled</td>\n",
       "      <td>equal</td>\n",
       "      <td>105.5</td>\n",
       "      <td>75</td>\n",
       "      <td>0</td>\n",
       "      <td>3</td>\n",
       "      <td>3</td>\n",
       "    </tr>\n",
       "  </tbody>\n",
       "</table>\n",
       "</div>"
      ],
      "text/plain": [
       "          hotel   is_canceled  arrival_date_year arrival_date_month  \\\n",
       "0  Resort Hotel  No Cancelado             2015.0               July   \n",
       "1  Resort Hotel  No Cancelado             2015.0               July   \n",
       "2  Resort Hotel  No Cancelado             2015.0               July   \n",
       "3  Resort Hotel  No Cancelado             2015.0               July   \n",
       "4  Resort Hotel  No Cancelado             2015.0               July   \n",
       "5  Resort Hotel  No Cancelado             2015.0               July   \n",
       "6  Resort Hotel  No Cancelado             2015.0               July   \n",
       "7  Resort Hotel  No Cancelado             2015.0               July   \n",
       "8  Resort Hotel     Cancelado             2015.0               July   \n",
       "9  Resort Hotel     Cancelado             2015.0               July   \n",
       "\n",
       "   arrival_date_week_number  arrival_date_day_of_month  adults  children  \\\n",
       "0                      27.0                        1.0       2         0   \n",
       "1                      27.0                        1.0       2         0   \n",
       "2                      27.0                        1.0       1         0   \n",
       "3                      27.0                        1.0       1         0   \n",
       "4                       NaN                        1.0       2         0   \n",
       "5                      27.0                        1.0       2         0   \n",
       "6                       NaN                        1.0       2         0   \n",
       "7                      27.0                        1.0       2         0   \n",
       "8                      27.0                        1.0       2         0   \n",
       "9                      27.0                        1.0       2         0   \n",
       "\n",
       "   babies meal         country market_segment distribution_channel  \\\n",
       "0       0   BB        Portugal        Unknown               Direct   \n",
       "1       0   BB         Unknown        Unknown               Direct   \n",
       "2       0   BB  United Kingdom        Unknown               Direct   \n",
       "3       0   BB  United Kingdom      Corporate            Corporate   \n",
       "4       0   BB         Unknown      Online TA                TA/TO   \n",
       "5       0   BB  United Kingdom      Online TA                TA/TO   \n",
       "6       0   BB         Unknown         Direct               Direct   \n",
       "7       0   FB         Unknown         Direct               Direct   \n",
       "8       0   BB        Portugal        Unknown              Unknown   \n",
       "9       0   HB         Unknown        Unknown                TA/TO   \n",
       "\n",
       "  is_repeated_guest  previous_cancellations  previous_bookings_not_canceled  \\\n",
       "0        First time                       0                               0   \n",
       "1        First time                       0                               0   \n",
       "2        First time                       0                               0   \n",
       "3        First time                       0                               0   \n",
       "4        First time                       0                               0   \n",
       "5        First time                       0                               0   \n",
       "6        First time                       0                               0   \n",
       "7        First time                       0                               0   \n",
       "8        First time                       0                               0   \n",
       "9        First time                       0                               0   \n",
       "\n",
       "  reserved_room_type assigned_room_type  booking_changes    agent  company  \\\n",
       "0                  C                  C                3  Unknown  Unknown   \n",
       "1            Unknown                  C                4  Unknown  Unknown   \n",
       "2                  A                  C                0  Unknown  Unknown   \n",
       "3                  A                  A                0    304.0  Unknown   \n",
       "4                  A                  A                0    240.0  Unknown   \n",
       "5                  A                  A                0    240.0  Unknown   \n",
       "6                  C                  C                0  Unknown  Unknown   \n",
       "7                  C                  C                0    303.0  Unknown   \n",
       "8                  A                  A                0    240.0  Unknown   \n",
       "9                  D                  D                0     15.0  Unknown   \n",
       "\n",
       "   days_in_waiting_list customer_type  required_car_parking_spaces  \\\n",
       "0                     0     Transient                            0   \n",
       "1                     0     Transient                            0   \n",
       "2                     0     Transient                            0   \n",
       "3                     0     Transient                            0   \n",
       "4                     0     Transient                            0   \n",
       "5                     0       Unknown                            0   \n",
       "6                     0       Unknown                            0   \n",
       "7                     0       Unknown                            0   \n",
       "8                     0     Transient                            0   \n",
       "9                     0     Transient                            0   \n",
       "\n",
       "   total_of_special_requests reservation_status change_room    adr  lead_time  \\\n",
       "0                          0          Check-Out       equal    0.0        342   \n",
       "1                          0          Check-Out      change    0.0        737   \n",
       "2                          0          Check-Out      change   75.0          7   \n",
       "3                          0          Check-Out       equal   75.0         13   \n",
       "4                          1          Check-Out       equal   98.0         14   \n",
       "5                          1          Check-Out       equal   98.0         14   \n",
       "6                          0          Check-Out       equal  107.0          0   \n",
       "7                          1          Check-Out       equal  103.0          9   \n",
       "8                          1           Canceled       equal   82.0         85   \n",
       "9                          0           Canceled       equal  105.5         75   \n",
       "\n",
       "   stays_in_weekend_nights  stays_in_week_nights  total_nights  \n",
       "0                        0                     0             0  \n",
       "1                        0                     0             0  \n",
       "2                        0                     1             1  \n",
       "3                        0                     1             1  \n",
       "4                        0                     2             2  \n",
       "5                        0                     2             2  \n",
       "6                        0                     2             2  \n",
       "7                        0                     2             2  \n",
       "8                        0                     3             3  \n",
       "9                        0                     3             3  "
      ]
     },
     "execution_count": 39,
     "metadata": {},
     "output_type": "execute_result"
    }
   ],
   "source": [
    "df.head(10)"
   ]
  },
  {
   "cell_type": "code",
   "execution_count": 40,
   "metadata": {},
   "outputs": [
    {
     "data": {
      "text/plain": [
       "Index(['hotel', 'is_canceled', 'arrival_date_year', 'arrival_date_month',\n",
       "       'arrival_date_week_number', 'arrival_date_day_of_month', 'adults',\n",
       "       'children', 'babies', 'meal', 'country', 'market_segment',\n",
       "       'distribution_channel', 'is_repeated_guest', 'previous_cancellations',\n",
       "       'previous_bookings_not_canceled', 'reserved_room_type',\n",
       "       'assigned_room_type', 'booking_changes', 'agent', 'company',\n",
       "       'days_in_waiting_list', 'customer_type', 'required_car_parking_spaces',\n",
       "       'total_of_special_requests', 'reservation_status', 'change_room', 'adr',\n",
       "       'lead_time', 'stays_in_weekend_nights', 'stays_in_week_nights',\n",
       "       'total_nights'],\n",
       "      dtype='object')"
      ]
     },
     "execution_count": 40,
     "metadata": {},
     "output_type": "execute_result"
    }
   ],
   "source": [
    "df.columns"
   ]
  },
  {
   "cell_type": "markdown",
   "metadata": {},
   "source": [
    "En qué época del año se cancela más"
   ]
  },
  {
   "cell_type": "code",
   "execution_count": 41,
   "metadata": {},
   "outputs": [
    {
     "data": {
      "text/plain": [
       "<AxesSubplot:xlabel='is_canceled', ylabel='count'>"
      ]
     },
     "execution_count": 41,
     "metadata": {},
     "output_type": "execute_result"
    },
    {
     "data": {
      "image/png": "[encoded data removed]",
      "text/plain": [
       "<Figure size 432x288 with 1 Axes>"
      ]
     },
     "metadata": {
      "needs_background": "light"
     },
     "output_type": "display_data"
    }
   ],
   "source": [
    "sns.countplot(x = 'is_canceled', \n",
    "              data = df, \n",
    "              palette = \"mako\", \n",
    "              hue = 'arrival_date_year')"
   ]
  },
  {
   "cell_type": "code",
   "execution_count": 42,
   "metadata": {},
   "outputs": [],
   "source": [
    "df_cancelado = df[df['is_canceled'] == 'Cancelado']"
   ]
  },
  {
   "cell_type": "markdown",
   "metadata": {},
   "source": [
    "país con mas cancelacion"
   ]
  },
  {
   "cell_type": "code",
   "execution_count": 43,
   "metadata": {},
   "outputs": [
    {
     "data": {
      "text/plain": [
       "Unknown           19631\n",
       "Portugal          14386\n",
       "United Kingdom     1367\n",
       "Spain              1192\n",
       "France             1070\n",
       "Italy               727\n",
       "Germany             644\n",
       "Ireland             452\n",
       "Brazil              428\n",
       "China               388\n",
       "Name: country, dtype: int64"
      ]
     },
     "execution_count": 43,
     "metadata": {},
     "output_type": "execute_result"
    }
   ],
   "source": [
    "df_cancelado['country'].value_counts()[:10]"
   ]
  },
  {
   "cell_type": "code",
   "execution_count": 44,
   "metadata": {},
   "outputs": [
    {
     "data": {
      "text/plain": [
       "<AxesSubplot:xlabel='country', ylabel='count'>"
      ]
     },
     "execution_count": 44,
     "metadata": {},
     "output_type": "execute_result"
    },
    {
     "data": {
      "image/png": "[encoded data removed]",
      "text/plain": [
       "<Figure size 432x288 with 1 Axes>"
      ]
     },
     "metadata": {
      "needs_background": "light"
     },
     "output_type": "display_data"
    }
   ],
   "source": [
    "sns.countplot(x = 'country', \n",
    "              data = df_cancelado, \n",
    "              palette = \"mako\", \n",
    "        )"
   ]
  },
  {
   "cell_type": "markdown",
   "metadata": {},
   "source": [
    "¿Qué hoteles tienen más reservas?"
   ]
  },
  {
   "cell_type": "code",
   "execution_count": 45,
   "metadata": {},
   "outputs": [
    {
     "data": {
      "text/plain": [
       "City Hotel      78066\n",
       "Resort Hotel    39939\n",
       "Unknown          1831\n",
       "Name: hotel, dtype: int64"
      ]
     },
     "execution_count": 45,
     "metadata": {},
     "output_type": "execute_result"
    }
   ],
   "source": [
    "reservas_hotel = df['hotel'].value_counts()\n",
    "reservas_hotel"
   ]
  },
  {
   "cell_type": "code",
   "execution_count": 46,
   "metadata": {},
   "outputs": [
    {
     "name": "stdout",
     "output_type": "stream",
     "text": [
      "El hotel con más reservas es City Hotel con 78066 reservas\n"
     ]
    }
   ],
   "source": [
    "hotel_mas_reservas = reservas_hotel.idxmax()\n",
    "cantidad_reservas = reservas_hotel.max()\n",
    "\n",
    "print(f\"El hotel con más reservas es {hotel_mas_reservas} con {cantidad_reservas} reservas\")"
   ]
  },
  {
   "cell_type": "markdown",
   "metadata": {},
   "source": [
    "¿Qué tipo de habitación tienes más reservas?"
   ]
  },
  {
   "cell_type": "code",
   "execution_count": 47,
   "metadata": {},
   "outputs": [
    {
     "data": {
      "text/plain": [
       "A          56144\n",
       "Unknown    41638\n",
       "D          12619\n",
       "E           4344\n",
       "F           1907\n",
       "G           1375\n",
       "B            746\n",
       "C            625\n",
       "H            428\n",
       "P              6\n",
       "L              4\n",
       "Name: reserved_room_type, dtype: int64"
      ]
     },
     "execution_count": 47,
     "metadata": {},
     "output_type": "execute_result"
    }
   ],
   "source": [
    "reservas_hab = df['reserved_room_type'].value_counts()\n",
    "reservas_hab"
   ]
  },
  {
   "cell_type": "code",
   "execution_count": 48,
   "metadata": {},
   "outputs": [
    {
     "name": "stdout",
     "output_type": "stream",
     "text": [
      "La habitacion con más reservas es A con 56144 reservas\n"
     ]
    }
   ],
   "source": [
    "hab_mas_reservada = reservas_hab.idxmax()\n",
    "cant_reservas_hab = reservas_hab.max()\n",
    "print(f\"La habitacion con más reservas es {hab_mas_reservada} con {cant_reservas_hab} reservas\")"
   ]
  },
  {
   "cell_type": "markdown",
   "metadata": {},
   "source": [
    "¿Con cuánto tiempo se hace la reserva de media? "
   ]
  },
  {
   "cell_type": "code",
   "execution_count": 49,
   "metadata": {},
   "outputs": [
    {
     "data": {
      "text/plain": [
       "103.12403618278314"
      ]
     },
     "execution_count": 49,
     "metadata": {},
     "output_type": "execute_result"
    }
   ],
   "source": [
    "temp_medio_reserva = df['lead_time'].mean()\n",
    "\n",
    "temp_medio_reserva"
   ]
  },
  {
   "cell_type": "markdown",
   "metadata": {},
   "source": [
    "¿En qué momento de la semana se resgistran más reservas:findes o entre semana?"
   ]
  },
  {
   "cell_type": "code",
   "execution_count": 50,
   "metadata": {},
   "outputs": [
    {
     "name": "stdout",
     "output_type": "stream",
     "text": [
      "más reservas entre semana\n"
     ]
    }
   ],
   "source": [
    "reservas_finde = df['stays_in_weekend_nights'].sum()\n",
    "\n",
    "reservas_entre = df['stays_in_week_nights'].sum()\n",
    "\n",
    "if reservas_finde > reservas_entre:\n",
    "    print(\"más reservas durante los fines de semana\")\n",
    "elif reservas_finde < reservas_entre:\n",
    "    print(\"más reservas entre semana\")\n",
    "else:\n",
    "    print(\"El número de reservas es igual\")"
   ]
  },
  {
   "cell_type": "markdown",
   "metadata": {},
   "source": [
    "¿Cuántos cambios de reserva se hacen?"
   ]
  },
  {
   "cell_type": "code",
   "execution_count": 51,
   "metadata": {},
   "outputs": [
    {
     "data": {
      "text/plain": [
       "27665"
      ]
     },
     "execution_count": 51,
     "metadata": {},
     "output_type": "execute_result"
    }
   ],
   "source": [
    "cambios_reserva = df['booking_changes'].sum()\n",
    "cambios_reserva"
   ]
  },
  {
   "cell_type": "markdown",
   "metadata": {},
   "source": [
    "¿Qué hoteles tienen mayor lista de espera?"
   ]
  },
  {
   "cell_type": "code",
   "execution_count": 52,
   "metadata": {},
   "outputs": [
    {
     "name": "stdout",
     "output_type": "stream",
     "text": [
      "hotel con mayor lista de espera es 'City Hotel', con 246696 días en lista de espera\n"
     ]
    }
   ],
   "source": [
    "lista_espera_hotel = df.groupby('hotel')['days_in_waiting_list'].sum()\n",
    "\n",
    "hoteles_max_lista_espera = lista_espera_hotel.idxmax()\n",
    "dias_max_lista_espera = lista_espera_hotel.max()\n",
    "\n",
    "print(f\"hotel con mayor lista de espera es '{hoteles_max_lista_espera}', con {dias_max_lista_espera} días en lista de espera\")"
   ]
  },
  {
   "cell_type": "markdown",
   "metadata": {},
   "source": [
    "¿En qué epoca del año hay más lista de espera?"
   ]
  },
  {
   "cell_type": "code",
   "execution_count": 53,
   "metadata": {},
   "outputs": [
    {
     "name": "stdout",
     "output_type": "stream",
     "text": [
      " mes con más días en lista de espera es October, con 50280 días en lista de espera.\n"
     ]
    }
   ],
   "source": [
    "lista_espera = df.groupby('arrival_date_month')['days_in_waiting_list'].sum()\n",
    "\n",
    "mes_max_lista_espera = lista_espera.idxmax()\n",
    "dias_max_lista_espera = lista_espera.max()\n",
    "\n",
    "print(f\" mes con más días en lista de espera es {mes_max_lista_espera}, con {dias_max_lista_espera} días en lista de espera.\")\n",
    "\n",
    "#??????????????"
   ]
  },
  {
   "cell_type": "code",
   "execution_count": 54,
   "metadata": {},
   "outputs": [
    {
     "data": {
      "text/plain": [
       "0      116283\n",
       "39        209\n",
       "58        152\n",
       "44        137\n",
       "31        111\n",
       "        ...  \n",
       "116         1\n",
       "109         1\n",
       "37          1\n",
       "89          1\n",
       "36          1\n",
       "Name: days_in_waiting_list, Length: 128, dtype: int64"
      ]
     },
     "execution_count": 54,
     "metadata": {},
     "output_type": "execute_result"
    }
   ],
   "source": [
    "espera_dias = df['days_in_waiting_list'].value_counts()\n",
    "espera_dias"
   ]
  },
  {
   "cell_type": "markdown",
   "metadata": {},
   "source": [
    "Analizar la evolucion el precio por noche YoY y en el anual"
   ]
  },
  {
   "cell_type": "code",
   "execution_count": 55,
   "metadata": {},
   "outputs": [
    {
     "data": {
      "image/png": "[encoded data removed]",
      "text/plain": [
       "<Figure size 720x432 with 1 Axes>"
      ]
     },
     "metadata": {
      "needs_background": "light"
     },
     "output_type": "display_data"
    }
   ],
   "source": [
    "precio_por_mes = df.groupby('arrival_date_month')['adr'].mean()\n",
    "\n",
    "plt.figure(figsize=(10, 6))\n",
    "plt.plot(precio_por_mes.index, precio_por_mes.values, marker='o', linestyle='-')\n",
    "plt.title('Evolución del Precio Promedio por Noche a lo largo del Año')\n",
    "plt.xlabel('Mes')\n",
    "plt.ylabel('Precio Promedio por Noche')\n",
    "plt.xticks(rotation=45)\n",
    "plt.grid(True);\n"
   ]
  },
  {
   "cell_type": "markdown",
   "metadata": {},
   "source": [
    "Evolución anual, ver picos max/min de reservas"
   ]
  },
  {
   "cell_type": "code",
   "execution_count": 56,
   "metadata": {},
   "outputs": [
    {
     "name": "stdout",
     "output_type": "stream",
     "text": [
      " máximo de reservas en el año fue 2016.0, y  mínimo fue en el año 2014.0.\n"
     ]
    },
    {
     "data": {
      "image/png": "[encoded data removed]",
      "text/plain": [
       "<Figure size 576x432 with 1 Axes>"
      ]
     },
     "metadata": {
      "needs_background": "light"
     },
     "output_type": "display_data"
    }
   ],
   "source": [
    "reservas_año = df.groupby('arrival_date_year').size()\n",
    "\n",
    "max_reservas = reservas_año.idxmax()\n",
    "min_reservas = reservas_año.idxmin()\n",
    "\n",
    "plt.figure(figsize=(8, 6))\n",
    "reservas_año.plot(kind='bar', color='skyblue')\n",
    "plt.title('Evolución Anual de Reservas')\n",
    "plt.xlabel('Año')\n",
    "plt.ylabel('Número de Reservas')\n",
    "plt.xticks(rotation=0)\n",
    "plt.grid(axis='y');\n",
    "\n",
    "print(f\" máximo de reservas en el año fue {max_reservas}, y  mínimo fue en el año {min_reservas}.\")\n"
   ]
  }
 ],
 "metadata": {
  "kernelspec": {
   "display_name": "base",
   "language": "python",
   "name": "python3"
  },
  "language_info": {
   "codemirror_mode": {
    "name": "ipython",
    "version": 3
   },
   "file_extension": ".py",
   "mimetype": "text/x-python",
   "name": "python",
   "nbconvert_exporter": "python",
   "pygments_lexer": "ipython3",
   "version": "3.9.7"
  }
 },
 "nbformat": 4,
 "nbformat_minor": 2
}
