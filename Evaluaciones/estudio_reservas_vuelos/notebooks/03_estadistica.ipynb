{
 "cells": [
  {
   "cell_type": "markdown",
   "metadata": {},
   "source": [
    "# Fase 3: Evaluación de Diferencias en Reservas de Vuelos por Nivel Educativo\n",
    "**Objetivo del Ejercicio**: Utilizando un conjunto de datos que hemos compartido, se busca evaluar si existen diferencias significativas en el número de vuelos  reservados según el nivel educativo de los clientes. Para ello, los pasos que deberas seguir son:\n"
   ]
  },
  {
   "cell_type": "code",
   "execution_count": 1,
   "metadata": {},
   "outputs": [],
   "source": [
    "# Importar bibliotecas necesarias para el tratamiento de datos\n",
    "# ---------------------------------------------------\n",
    "import pandas as pd\n",
    "import numpy as np\n",
    "\n",
    "# Bibliotecas de visualización\n",
    "# ----------------------------\n",
    "import seaborn as sns\n",
    "import matplotlib.pyplot as plt\n",
    "\n",
    "# Evaluar linealidad de las relaciones entre las variables y la distribución de las variables\n",
    "# ------------------------------------------------------------------------------\n",
    "from scipy.stats import shapiro, stats, t, levene, mannwhitneyu"
   ]
  },
  {
   "cell_type": "code",
   "execution_count": 2,
   "metadata": {},
   "outputs": [],
   "source": [
    "# Se establece el estilo del fondo de las gráficas oscuro\n",
    "sns.set_style(\"dark\")\n",
    "\n",
    "# Se establece el estilo general en 'ddark_background'.\n",
    "plt.style.use('dark_background')"
   ]
  },
  {
   "cell_type": "markdown",
   "metadata": {},
   "source": [
    "1. **Preparación de Datos**:\n",
    "Filtra el conjunto de datos para incluir únicamente las columnas relevantes: 'Flights Booked' y 'Education'."
   ]
  },
  {
   "cell_type": "code",
   "execution_count": 3,
   "metadata": {},
   "outputs": [
    {
     "data": {
      "text/html": [
       "<div>\n",
       "<style scoped>\n",
       "    .dataframe tbody tr th:only-of-type {\n",
       "        vertical-align: middle;\n",
       "    }\n",
       "\n",
       "    .dataframe tbody tr th {\n",
       "        vertical-align: top;\n",
       "    }\n",
       "\n",
       "    .dataframe thead th {\n",
       "        text-align: right;\n",
       "    }\n",
       "</style>\n",
       "<table border=\"1\" class=\"dataframe\">\n",
       "  <thead>\n",
       "    <tr style=\"text-align: right;\">\n",
       "      <th></th>\n",
       "      <th>loyalty_number</th>\n",
       "      <th>year</th>\n",
       "      <th>month</th>\n",
       "      <th>flights_booked</th>\n",
       "      <th>flights_with_companions</th>\n",
       "      <th>total_flights</th>\n",
       "      <th>distance</th>\n",
       "      <th>points_accumulated</th>\n",
       "      <th>points_redeemed</th>\n",
       "      <th>dollar_cost_points_redeemed</th>\n",
       "      <th>...</th>\n",
       "      <th>education</th>\n",
       "      <th>marital_status</th>\n",
       "      <th>loyalty_card</th>\n",
       "      <th>clv</th>\n",
       "      <th>enrollment_type</th>\n",
       "      <th>enrollment_year</th>\n",
       "      <th>enrollment_month</th>\n",
       "      <th>cancellation_year</th>\n",
       "      <th>cancellation_month</th>\n",
       "      <th>salary</th>\n",
       "    </tr>\n",
       "  </thead>\n",
       "  <tbody>\n",
       "    <tr>\n",
       "      <th>95702</th>\n",
       "      <td>222490</td>\n",
       "      <td>2018</td>\n",
       "      <td>2</td>\n",
       "      <td>7</td>\n",
       "      <td>0</td>\n",
       "      <td>7</td>\n",
       "      <td>1204</td>\n",
       "      <td>150.00</td>\n",
       "      <td>0</td>\n",
       "      <td>0</td>\n",
       "      <td>...</td>\n",
       "      <td>Bachelor</td>\n",
       "      <td>Divorced</td>\n",
       "      <td>Nova</td>\n",
       "      <td>20314.44</td>\n",
       "      <td>Standard</td>\n",
       "      <td>2015</td>\n",
       "      <td>8</td>\n",
       "      <td>NaN</td>\n",
       "      <td>NaN</td>\n",
       "      <td>62800.00</td>\n",
       "    </tr>\n",
       "    <tr>\n",
       "      <th>25550</th>\n",
       "      <td>250363</td>\n",
       "      <td>2018</td>\n",
       "      <td>5</td>\n",
       "      <td>3</td>\n",
       "      <td>0</td>\n",
       "      <td>3</td>\n",
       "      <td>3189</td>\n",
       "      <td>318.00</td>\n",
       "      <td>0</td>\n",
       "      <td>0</td>\n",
       "      <td>...</td>\n",
       "      <td>Bachelor</td>\n",
       "      <td>Single</td>\n",
       "      <td>Star</td>\n",
       "      <td>2534.95</td>\n",
       "      <td>2018 Promotion</td>\n",
       "      <td>2018</td>\n",
       "      <td>3</td>\n",
       "      <td>2018.0</td>\n",
       "      <td>11.0</td>\n",
       "      <td>68787.00</td>\n",
       "    </tr>\n",
       "    <tr>\n",
       "      <th>175875</th>\n",
       "      <td>875707</td>\n",
       "      <td>2018</td>\n",
       "      <td>12</td>\n",
       "      <td>13</td>\n",
       "      <td>0</td>\n",
       "      <td>13</td>\n",
       "      <td>1053</td>\n",
       "      <td>105.00</td>\n",
       "      <td>0</td>\n",
       "      <td>0</td>\n",
       "      <td>...</td>\n",
       "      <td>Bachelor</td>\n",
       "      <td>Married</td>\n",
       "      <td>Star</td>\n",
       "      <td>8082.88</td>\n",
       "      <td>Standard</td>\n",
       "      <td>2017</td>\n",
       "      <td>11</td>\n",
       "      <td>NaN</td>\n",
       "      <td>NaN</td>\n",
       "      <td>71095.00</td>\n",
       "    </tr>\n",
       "    <tr>\n",
       "      <th>61655</th>\n",
       "      <td>212230</td>\n",
       "      <td>2017</td>\n",
       "      <td>10</td>\n",
       "      <td>13</td>\n",
       "      <td>5</td>\n",
       "      <td>18</td>\n",
       "      <td>3348</td>\n",
       "      <td>334.00</td>\n",
       "      <td>0</td>\n",
       "      <td>0</td>\n",
       "      <td>...</td>\n",
       "      <td>Bachelor</td>\n",
       "      <td>Married</td>\n",
       "      <td>Aurora</td>\n",
       "      <td>6102.31</td>\n",
       "      <td>Standard</td>\n",
       "      <td>2013</td>\n",
       "      <td>12</td>\n",
       "      <td>NaN</td>\n",
       "      <td>NaN</td>\n",
       "      <td>63225.00</td>\n",
       "    </tr>\n",
       "    <tr>\n",
       "      <th>93737</th>\n",
       "      <td>789797</td>\n",
       "      <td>2018</td>\n",
       "      <td>3</td>\n",
       "      <td>4</td>\n",
       "      <td>0</td>\n",
       "      <td>4</td>\n",
       "      <td>812</td>\n",
       "      <td>101.25</td>\n",
       "      <td>0</td>\n",
       "      <td>0</td>\n",
       "      <td>...</td>\n",
       "      <td>College</td>\n",
       "      <td>Single</td>\n",
       "      <td>Nova</td>\n",
       "      <td>3788.81</td>\n",
       "      <td>Standard</td>\n",
       "      <td>2014</td>\n",
       "      <td>1</td>\n",
       "      <td>NaN</td>\n",
       "      <td>NaN</td>\n",
       "      <td>79666.88</td>\n",
       "    </tr>\n",
       "  </tbody>\n",
       "</table>\n",
       "<p>5 rows × 25 columns</p>\n",
       "</div>"
      ],
      "text/plain": [
       "        loyalty_number  year  month  flights_booked  flights_with_companions  \\\n",
       "95702           222490  2018      2               7                        0   \n",
       "25550           250363  2018      5               3                        0   \n",
       "175875          875707  2018     12              13                        0   \n",
       "61655           212230  2017     10              13                        5   \n",
       "93737           789797  2018      3               4                        0   \n",
       "\n",
       "        total_flights  distance  points_accumulated  points_redeemed  \\\n",
       "95702               7      1204              150.00                0   \n",
       "25550               3      3189              318.00                0   \n",
       "175875             13      1053              105.00                0   \n",
       "61655              18      3348              334.00                0   \n",
       "93737               4       812              101.25                0   \n",
       "\n",
       "        dollar_cost_points_redeemed  ... education marital_status  \\\n",
       "95702                             0  ...  Bachelor       Divorced   \n",
       "25550                             0  ...  Bachelor         Single   \n",
       "175875                            0  ...  Bachelor        Married   \n",
       "61655                             0  ...  Bachelor        Married   \n",
       "93737                             0  ...   College         Single   \n",
       "\n",
       "       loyalty_card       clv enrollment_type enrollment_year  \\\n",
       "95702          Nova  20314.44        Standard            2015   \n",
       "25550          Star   2534.95  2018 Promotion            2018   \n",
       "175875         Star   8082.88        Standard            2017   \n",
       "61655        Aurora   6102.31        Standard            2013   \n",
       "93737          Nova   3788.81        Standard            2014   \n",
       "\n",
       "       enrollment_month cancellation_year  cancellation_month    salary  \n",
       "95702                 8               NaN                 NaN  62800.00  \n",
       "25550                 3            2018.0                11.0  68787.00  \n",
       "175875               11               NaN                 NaN  71095.00  \n",
       "61655                12               NaN                 NaN  63225.00  \n",
       "93737                 1               NaN                 NaN  79666.88  \n",
       "\n",
       "[5 rows x 25 columns]"
      ]
     },
     "execution_count": 3,
     "metadata": {},
     "output_type": "execute_result"
    }
   ],
   "source": [
    "df = pd.read_csv('../data/customers.csv', index_col=0)\n",
    "df.sample(5)"
   ]
  },
  {
   "cell_type": "code",
   "execution_count": 4,
   "metadata": {},
   "outputs": [
    {
     "data": {
      "text/html": [
       "<div>\n",
       "<style scoped>\n",
       "    .dataframe tbody tr th:only-of-type {\n",
       "        vertical-align: middle;\n",
       "    }\n",
       "\n",
       "    .dataframe tbody tr th {\n",
       "        vertical-align: top;\n",
       "    }\n",
       "\n",
       "    .dataframe thead th {\n",
       "        text-align: right;\n",
       "    }\n",
       "</style>\n",
       "<table border=\"1\" class=\"dataframe\">\n",
       "  <thead>\n",
       "    <tr style=\"text-align: right;\">\n",
       "      <th></th>\n",
       "      <th>education</th>\n",
       "      <th>flights_booked</th>\n",
       "    </tr>\n",
       "  </thead>\n",
       "  <tbody>\n",
       "    <tr>\n",
       "      <th>98032</th>\n",
       "      <td>Bachelor</td>\n",
       "      <td>2</td>\n",
       "    </tr>\n",
       "    <tr>\n",
       "      <th>68894</th>\n",
       "      <td>Bachelor</td>\n",
       "      <td>6</td>\n",
       "    </tr>\n",
       "    <tr>\n",
       "      <th>140790</th>\n",
       "      <td>Bachelor</td>\n",
       "      <td>1</td>\n",
       "    </tr>\n",
       "    <tr>\n",
       "      <th>7493</th>\n",
       "      <td>Bachelor</td>\n",
       "      <td>4</td>\n",
       "    </tr>\n",
       "    <tr>\n",
       "      <th>98324</th>\n",
       "      <td>Bachelor</td>\n",
       "      <td>9</td>\n",
       "    </tr>\n",
       "  </tbody>\n",
       "</table>\n",
       "</div>"
      ],
      "text/plain": [
       "       education  flights_booked\n",
       "98032   Bachelor               2\n",
       "68894   Bachelor               6\n",
       "140790  Bachelor               1\n",
       "7493    Bachelor               4\n",
       "98324   Bachelor               9"
      ]
     },
     "execution_count": 4,
     "metadata": {},
     "output_type": "execute_result"
    }
   ],
   "source": [
    "df_vuelos_educacion = df[['education', 'flights_booked']]\n",
    "df_vuelos_educacion.sample(5)"
   ]
  },
  {
   "cell_type": "markdown",
   "metadata": {},
   "source": [
    "2. **Análisis Descriptivo**:\n",
    "Agrupa los datos por nivel educativo y calcula estadísticas descriptivas básicas (como el promedio, la desviación estandar, los percentiles) del número de vuelos reservados para cada grupo."
   ]
  },
  {
   "cell_type": "code",
   "execution_count": 5,
   "metadata": {},
   "outputs": [
    {
     "data": {
      "image/png": "[encoded data removed]",
      "text/plain": [
       "<Figure size 576x432 with 1 Axes>"
      ]
     },
     "metadata": {},
     "output_type": "display_data"
    }
   ],
   "source": [
    "# Se crea un boxplot para visualizar los principales estadísticos \n",
    "# establecemos el tamaño de la figura\n",
    "plt.figure(figsize=(8, 6))\n",
    "\n",
    "# utilizando el método boxplot visualizamos la mediana, cambiamos el color del boxplot\n",
    "sns.violinplot(x='education', \n",
    "            y= 'flights_booked',\n",
    "            data=df_vuelos_educacion, \n",
    "            palette='flare')\n",
    "\n",
    "# Etiquetas y título\n",
    "plt.xlabel('Nivel educativo', fontsize=10)\n",
    "plt.ylabel('Cantidad de vuelos reservados', fontsize=10)\n",
    "plt.title('Visualización de los principales descriptivos para el número total de vuelos reservados durante cada mes', fontsize=15);"
   ]
  },
  {
   "cell_type": "code",
   "execution_count": 6,
   "metadata": {},
   "outputs": [],
   "source": [
    "media = df_vuelos_educacion.groupby('education')['flights_booked'].mean().round(2)\n",
    "mediana = df_vuelos_educacion.groupby('education')['flights_booked'].median().round(2)\n",
    "moda = df_vuelos_educacion.groupby('education')['flights_booked'].agg(pd.Series.mode).round(2)\n",
    "varianza = df_vuelos_educacion.groupby('education')['flights_booked'].var().round(2)\n",
    "desviacion_std = df_vuelos_educacion.groupby('education')['flights_booked'].std().round(2)\n",
    "percentil25 = df_vuelos_educacion.groupby('education')['flights_booked'].apply(lambda x: np.percentile(x, 25))\n",
    "percentil75 = df_vuelos_educacion.groupby('education')['flights_booked'].apply(lambda x: np.percentile(x, 75))"
   ]
  },
  {
   "cell_type": "code",
   "execution_count": 7,
   "metadata": {},
   "outputs": [
    {
     "name": "stdout",
     "output_type": "stream",
     "text": [
      "La media de vuelos reservados segun nivel educativo es:\n"
     ]
    },
    {
     "data": {
      "text/plain": [
       "education\n",
       "Bachelor                7.85\n",
       "College                 7.91\n",
       "Doctor                  7.89\n",
       "High School or Below    7.81\n",
       "Master                  7.83\n",
       "Name: flights_booked, dtype: float64"
      ]
     },
     "metadata": {},
     "output_type": "display_data"
    },
    {
     "name": "stdout",
     "output_type": "stream",
     "text": [
      "------------------------------------------------------\n",
      "La mediana de vuelos reservados segun nivel educativo es:\n"
     ]
    },
    {
     "data": {
      "text/plain": [
       "education\n",
       "Bachelor                7.0\n",
       "College                 8.0\n",
       "Doctor                  7.0\n",
       "High School or Below    7.0\n",
       "Master                  7.0\n",
       "Name: flights_booked, dtype: float64"
      ]
     },
     "metadata": {},
     "output_type": "display_data"
    },
    {
     "name": "stdout",
     "output_type": "stream",
     "text": [
      "------------------------------------------------------\n",
      "La moda de vuelos reservados segun nivel educativo es:\n"
     ]
    },
    {
     "data": {
      "text/plain": [
       "education\n",
       "Bachelor                3\n",
       "College                 3\n",
       "Doctor                  3\n",
       "High School or Below    3\n",
       "Master                  3\n",
       "Name: flights_booked, dtype: int64"
      ]
     },
     "metadata": {},
     "output_type": "display_data"
    },
    {
     "name": "stdout",
     "output_type": "stream",
     "text": [
      "------------------------------------------------------\n",
      "La varianza de vuelos reservados segun nivel educativo es:\n"
     ]
    },
    {
     "data": {
      "text/plain": [
       "education\n",
       "Bachelor                22.09\n",
       "College                 22.04\n",
       "Doctor                  22.39\n",
       "High School or Below    22.12\n",
       "Master                  21.63\n",
       "Name: flights_booked, dtype: float64"
      ]
     },
     "metadata": {},
     "output_type": "display_data"
    },
    {
     "name": "stdout",
     "output_type": "stream",
     "text": [
      "------------------------------------------------------\n",
      "La desviacion estándar de vuelos reservados segun nivel educativo es:\n"
     ]
    },
    {
     "data": {
      "text/plain": [
       "education\n",
       "Bachelor                4.70\n",
       "College                 4.70\n",
       "Doctor                  4.73\n",
       "High School or Below    4.70\n",
       "Master                  4.65\n",
       "Name: flights_booked, dtype: float64"
      ]
     },
     "metadata": {},
     "output_type": "display_data"
    },
    {
     "name": "stdout",
     "output_type": "stream",
     "text": [
      "------------------------------------------------------\n",
      "El percentil 25 de vuelos reservados segun nivel educativo es:}\n"
     ]
    },
    {
     "data": {
      "text/plain": [
       "education\n",
       "Bachelor                4.0\n",
       "College                 4.0\n",
       "Doctor                  4.0\n",
       "High School or Below    4.0\n",
       "Master                  4.0\n",
       "Name: flights_booked, dtype: float64"
      ]
     },
     "metadata": {},
     "output_type": "display_data"
    },
    {
     "name": "stdout",
     "output_type": "stream",
     "text": [
      "------------------------------------------------------\n",
      "El percentil 75 de vuelos reservados segun nivel educativo es:\n"
     ]
    },
    {
     "data": {
      "text/plain": [
       "education\n",
       "Bachelor                11.0\n",
       "College                 11.0\n",
       "Doctor                  11.0\n",
       "High School or Below    11.0\n",
       "Master                  11.0\n",
       "Name: flights_booked, dtype: float64"
      ]
     },
     "metadata": {},
     "output_type": "display_data"
    },
    {
     "name": "stdout",
     "output_type": "stream",
     "text": [
      "------------------------------------------------------\n"
     ]
    }
   ],
   "source": [
    "print(\"La media de vuelos reservados segun nivel educativo es:\")\n",
    "display(media)\n",
    "print(\"------------------------------------------------------\")\n",
    "print(\"La mediana de vuelos reservados segun nivel educativo es:\")\n",
    "display(mediana)\n",
    "print(\"------------------------------------------------------\")\n",
    "print(\"La moda de vuelos reservados segun nivel educativo es:\")\n",
    "display(moda)\n",
    "print(\"------------------------------------------------------\")\n",
    "print(\"La varianza de vuelos reservados segun nivel educativo es:\")\n",
    "display(varianza)\n",
    "print(\"------------------------------------------------------\")\n",
    "print(\"La desviacion estándar de vuelos reservados segun nivel educativo es:\")\n",
    "display(desviacion_std)\n",
    "print(\"------------------------------------------------------\")\n",
    "print(\"El percentil 25 de vuelos reservados segun nivel educativo es:}\")\n",
    "display(percentil25)\n",
    "print(\"------------------------------------------------------\")\n",
    "print(\"El percentil 75 de vuelos reservados segun nivel educativo es:\")\n",
    "display(percentil75)\n",
    "print(\"------------------------------------------------------\")"
   ]
  },
  {
   "cell_type": "markdown",
   "metadata": {},
   "source": [
    "3. **Prueba Estadística**:\n",
    "Realiza una prueba de A/B testing para determinar si existe una diferencia significativa en el número de vuelos reservados entre los diferentes niveles educativos."
   ]
  },
  {
   "cell_type": "code",
   "execution_count": 8,
   "metadata": {},
   "outputs": [
    {
     "name": "stderr",
     "output_type": "stream",
     "text": [
      "/tmp/ipykernel_23905/1262421570.py:1: SettingWithCopyWarning: \n",
      "A value is trying to be set on a copy of a slice from a DataFrame.\n",
      "Try using .loc[row_indexer,col_indexer] = value instead\n",
      "\n",
      "See the caveats in the documentation: https://pandas.pydata.org/pandas-docs/stable/user_guide/indexing.html#returning-a-view-versus-a-copy\n",
      "  df_vuelos_educacion['nivel_educativo'] = np.where((df['education'] =='High School or Below') | (df['education'] =='College'), 'bajo', 'alto')\n"
     ]
    },
    {
     "data": {
      "text/html": [
       "<div>\n",
       "<style scoped>\n",
       "    .dataframe tbody tr th:only-of-type {\n",
       "        vertical-align: middle;\n",
       "    }\n",
       "\n",
       "    .dataframe tbody tr th {\n",
       "        vertical-align: top;\n",
       "    }\n",
       "\n",
       "    .dataframe thead th {\n",
       "        text-align: right;\n",
       "    }\n",
       "</style>\n",
       "<table border=\"1\" class=\"dataframe\">\n",
       "  <thead>\n",
       "    <tr style=\"text-align: right;\">\n",
       "      <th></th>\n",
       "      <th>education</th>\n",
       "      <th>flights_booked</th>\n",
       "      <th>nivel_educativo</th>\n",
       "    </tr>\n",
       "  </thead>\n",
       "  <tbody>\n",
       "    <tr>\n",
       "      <th>0</th>\n",
       "      <td>Bachelor</td>\n",
       "      <td>3</td>\n",
       "      <td>alto</td>\n",
       "    </tr>\n",
       "    <tr>\n",
       "      <th>1</th>\n",
       "      <td>College</td>\n",
       "      <td>10</td>\n",
       "      <td>bajo</td>\n",
       "    </tr>\n",
       "    <tr>\n",
       "      <th>2</th>\n",
       "      <td>College</td>\n",
       "      <td>6</td>\n",
       "      <td>bajo</td>\n",
       "    </tr>\n",
       "    <tr>\n",
       "      <th>3</th>\n",
       "      <td>Bachelor</td>\n",
       "      <td>0</td>\n",
       "      <td>alto</td>\n",
       "    </tr>\n",
       "    <tr>\n",
       "      <th>4</th>\n",
       "      <td>Bachelor</td>\n",
       "      <td>6</td>\n",
       "      <td>alto</td>\n",
       "    </tr>\n",
       "    <tr>\n",
       "      <th>...</th>\n",
       "      <td>...</td>\n",
       "      <td>...</td>\n",
       "      <td>...</td>\n",
       "    </tr>\n",
       "    <tr>\n",
       "      <th>176914</th>\n",
       "      <td>College</td>\n",
       "      <td>11</td>\n",
       "      <td>bajo</td>\n",
       "    </tr>\n",
       "    <tr>\n",
       "      <th>176915</th>\n",
       "      <td>Doctor</td>\n",
       "      <td>15</td>\n",
       "      <td>alto</td>\n",
       "    </tr>\n",
       "    <tr>\n",
       "      <th>176916</th>\n",
       "      <td>Bachelor</td>\n",
       "      <td>11</td>\n",
       "      <td>alto</td>\n",
       "    </tr>\n",
       "    <tr>\n",
       "      <th>176917</th>\n",
       "      <td>College</td>\n",
       "      <td>1</td>\n",
       "      <td>bajo</td>\n",
       "    </tr>\n",
       "    <tr>\n",
       "      <th>176918</th>\n",
       "      <td>Bachelor</td>\n",
       "      <td>3</td>\n",
       "      <td>alto</td>\n",
       "    </tr>\n",
       "  </tbody>\n",
       "</table>\n",
       "<p>176919 rows × 3 columns</p>\n",
       "</div>"
      ],
      "text/plain": [
       "       education  flights_booked nivel_educativo\n",
       "0       Bachelor               3            alto\n",
       "1        College              10            bajo\n",
       "2        College               6            bajo\n",
       "3       Bachelor               0            alto\n",
       "4       Bachelor               6            alto\n",
       "...          ...             ...             ...\n",
       "176914   College              11            bajo\n",
       "176915    Doctor              15            alto\n",
       "176916  Bachelor              11            alto\n",
       "176917   College               1            bajo\n",
       "176918  Bachelor               3            alto\n",
       "\n",
       "[176919 rows x 3 columns]"
      ]
     },
     "execution_count": 8,
     "metadata": {},
     "output_type": "execute_result"
    }
   ],
   "source": [
    "df_vuelos_educacion['nivel_educativo'] = np.where((df['education'] =='High School or Below') | (df['education'] =='College'), 'bajo', 'alto')\n",
    "df_vuelos_educacion"
   ]
  },
  {
   "cell_type": "code",
   "execution_count": 9,
   "metadata": {},
   "outputs": [
    {
     "data": {
      "text/html": [
       "<div>\n",
       "<style scoped>\n",
       "    .dataframe tbody tr th:only-of-type {\n",
       "        vertical-align: middle;\n",
       "    }\n",
       "\n",
       "    .dataframe tbody tr th {\n",
       "        vertical-align: top;\n",
       "    }\n",
       "\n",
       "    .dataframe thead th {\n",
       "        text-align: right;\n",
       "    }\n",
       "</style>\n",
       "<table border=\"1\" class=\"dataframe\">\n",
       "  <thead>\n",
       "    <tr style=\"text-align: right;\">\n",
       "      <th></th>\n",
       "      <th>nivel_educativo</th>\n",
       "      <th>flights_booked</th>\n",
       "    </tr>\n",
       "  </thead>\n",
       "  <tbody>\n",
       "    <tr>\n",
       "      <th>0</th>\n",
       "      <td>alto</td>\n",
       "      <td>7.854678</td>\n",
       "    </tr>\n",
       "    <tr>\n",
       "      <th>1</th>\n",
       "      <td>bajo</td>\n",
       "      <td>7.896628</td>\n",
       "    </tr>\n",
       "  </tbody>\n",
       "</table>\n",
       "</div>"
      ],
      "text/plain": [
       "  nivel_educativo  flights_booked\n",
       "0            alto        7.854678\n",
       "1            bajo        7.896628"
      ]
     },
     "execution_count": 9,
     "metadata": {},
     "output_type": "execute_result"
    }
   ],
   "source": [
    "df_media = df_vuelos_educacion.groupby('nivel_educativo').mean().reset_index()\n",
    "df_media"
   ]
  },
  {
   "cell_type": "code",
   "execution_count": 10,
   "metadata": {},
   "outputs": [
    {
     "data": {
      "image/png": "[encoded data removed]",
      "text/plain": [
       "<Figure size 576x432 with 1 Axes>"
      ]
     },
     "metadata": {},
     "output_type": "display_data"
    }
   ],
   "source": [
    "# Se crea un countplot para visualizar la diferencia de las medias de vuelos reservados entre diferentes niveles educativos\n",
    "\n",
    "# establecemos el tamaño de la figura\n",
    "plt.figure(figsize=(8, 6))\n",
    "\n",
    "sns.countplot(x = \"nivel_educativo\", data = df_media, palette='flare');\n",
    "\n",
    "# Etiquetas y título\n",
    "plt.xlabel('Nivel educativo', fontsize=10)\n",
    "plt.ylabel('Media de vuelos reservados', fontsize=10)\n",
    "plt.title('Media de vuelos reservados segun nivel educativo', fontsize=15);"
   ]
  },
  {
   "cell_type": "markdown",
   "metadata": {},
   "source": [
    "Para realiza la prueba A/B se usarán las medias de las cantidades de vuelos reservados por nivel educativo y para ello hay que evaluar primero que los datos siguen una distribución normal y tienen Homogeneidad de varianzas.\n",
    "\n",
    "#### Normalidad\n",
    "**Hipótesis Nula (H0):** Los datos provienen de una distribución normal.  \n",
    "**Hipótesis Alternativa (H1):** Los datos no provienen de una distribución normal."
   ]
  },
  {
   "cell_type": "code",
   "execution_count": 11,
   "metadata": {},
   "outputs": [
    {
     "data": {
      "image/png": "[encoded data removed]",
      "text/plain": [
       "<Figure size 576x432 with 1 Axes>"
      ]
     },
     "metadata": {},
     "output_type": "display_data"
    }
   ],
   "source": [
    "# Se crea un histplot para visualizar la distribución de lso datos de vuelos reservados \n",
    "# establecemos el tamaño de la figura\n",
    "plt.figure(figsize=(8, 6))\n",
    "\n",
    "# utilizando el método boxplot visualizamos la mediana, cambiamos el color del boxplot\n",
    "sns.histplot(data=df_vuelos_educacion, \n",
    "             x='flights_booked', \n",
    "             palette='flare');\n",
    "\n",
    "# Etiquetas y título\n",
    "plt.xlabel('Vuelos reservados', fontsize=10)\n",
    "plt.ylabel('Frecuencia', fontsize=10)\n",
    "plt.title('Distribución de los datos de vuelos reservados', fontsize=15);"
   ]
  },
  {
   "cell_type": "code",
   "execution_count": 12,
   "metadata": {},
   "outputs": [
    {
     "name": "stdout",
     "output_type": "stream",
     "text": [
      "Los datos no se ajustan a una distribución normal (p-value = 0.0 )\n"
     ]
    },
    {
     "name": "stderr",
     "output_type": "stream",
     "text": [
      "/home/karvala/anaconda3/lib/python3.9/site-packages/scipy/stats/morestats.py:1760: UserWarning: p-value may not be accurate for N > 5000.\n",
      "  warnings.warn(\"p-value may not be accurate for N > 5000.\")\n"
     ]
    }
   ],
   "source": [
    "# Realizar una prueba de normalidad (usando la prueba de Shapiro-Wilk)\n",
    "p_value = shapiro(df_vuelos_educacion['flights_booked']).pvalue\n",
    "\n",
    "alpha = 0.05\n",
    "if p_value > alpha:\n",
    "    print(\"Los datos se ajustan a una distribución normal (p-value =\", p_value, \")\")\n",
    "else:\n",
    "    print(\"Los datos no se ajustan a una distribución normal (p-value =\", p_value, \")\")"
   ]
  },
  {
   "cell_type": "markdown",
   "metadata": {},
   "source": [
    "#### Homogeneidad de varianzas"
   ]
  },
  {
   "cell_type": "code",
   "execution_count": 13,
   "metadata": {},
   "outputs": [],
   "source": [
    "def homogeneidad (dataframe, columna, columna_metrica):\n",
    "    \n",
    "    \"\"\"\n",
    "    Evalúa la homogeneidad de las varianzas entre grupos para una métrica específica en un DataFrame dado.\n",
    "\n",
    "    Parámetros:\n",
    "    - dataframe (DataFrame): El DataFrame que contiene los datos.\n",
    "    - columna (str): El nombre de la columna que se utilizará para dividir los datos en grupos.\n",
    "    - columna_metrica (str): El nombre de la columna que se utilizará para evaluar la homogeneidad de las varianzas.\n",
    "\n",
    "    Returns:\n",
    "    No devuelve nada directamente, pero imprime en la consola si las varianzas son homogéneas o no entre los grupos.\n",
    "    Se utiliza la prueba de Levene para evaluar la homogeneidad de las varianzas. Si el valor p resultante es mayor que 0.05,\n",
    "    se concluye que las varianzas son homogéneas; de lo contrario, se concluye que las varianzas no son homogéneas.\n",
    "    \"\"\"\n",
    "    \n",
    "    # lo primero que tenemos que hacer es crear tantos conjuntos de datos para cada una de las categorías que tenemos, Control Campaign y Test Campaign\n",
    "    valores_evaluar = []\n",
    "    \n",
    "    for valor in dataframe[columna].unique():\n",
    "        valores_evaluar.append(dataframe[dataframe[columna]== valor][columna_metrica])\n",
    "\n",
    "    _, p_value = levene(*valores_evaluar)\n",
    "    if p_value > 0.05:\n",
    "        print(f\"Para la métrica {columna_metrica} las varianzas son homogéneas entre grupos.\")\n",
    "    else:\n",
    "        print(f\"Para la métrica {columna_metrica}, las varianzas no son homogéneas entre grupos.\")"
   ]
  },
  {
   "cell_type": "code",
   "execution_count": 14,
   "metadata": {},
   "outputs": [
    {
     "name": "stdout",
     "output_type": "stream",
     "text": [
      "Para la métrica flights_booked las varianzas son homogéneas entre grupos.\n"
     ]
    }
   ],
   "source": [
    "homogeneidad(df_vuelos_educacion ,'nivel_educativo', 'flights_booked')"
   ]
  },
  {
   "cell_type": "markdown",
   "metadata": {},
   "source": [
    "Los datos no cumplen una distribución normal, por lo tanto nos decantaremos por una prueba no paramétrica como  el **Test de Mann Whitney**"
   ]
  },
  {
   "cell_type": "code",
   "execution_count": 15,
   "metadata": {},
   "outputs": [],
   "source": [
    "# vamos a crear una función para calcular este test y ver si hay diferencias entre los grupos de estudio\n",
    "\n",
    "def test_man_whitney(dataframe, metrica, grupo_control, grupo_test, columna_grupos):\n",
    "\n",
    "    \"\"\"\n",
    "    Realiza la prueba de Mann-Whitney U para comparar las medianas de las métricas entre dos grupos en un DataFrame dado.\n",
    "\n",
    "    Parámetros:\n",
    "    - dataframe (DataFrame): El DataFrame que contiene los datos.\n",
    "    - metrica (str): nombre de la columna que representa la métrica a comparar entre los grupos.\n",
    "    - grupo_control (str): El nombre del grupo de control en la columna especificada por columna_grupos.\n",
    "    - grupo_test (str): El nombre del grupo de test en la columna especificada por columna_grupos.\n",
    "    - columna_grupos (str): El nombre de la columna que contiene la información de los grupos. \n",
    "\n",
    "    Returns \n",
    "    No devuelve nada directamente, pero imprime en la consola si las medianas son diferentes o iguales para cada métrica.\n",
    "    Se utiliza la prueba de Mann-Whitney U para evaluar si hay diferencias significativas entre los grupos.\n",
    "    \"\"\"\n",
    "    # filtramos el DataFrame para quedarnos solo con los datos de control\n",
    "    control = dataframe[dataframe[columna_grupos] == grupo_control]\n",
    "    \n",
    "    # filtramos el DataFrame para quedarnos solo con los datos de control\n",
    "    test = dataframe[dataframe[columna_grupos] == grupo_test]\n",
    "    \n",
    "    # filtrams el conjunto de datos para quedarnos solo con la columna de la metrica que nos interesa\n",
    "    metrica_control = control[metrica]\n",
    "    metrica_test = test[metrica]\n",
    "        \n",
    "    # aplicamos el estadístico\n",
    "    _, p_value = mannwhitneyu(metrica_control, metrica_test)\n",
    "        \n",
    "    if p_value < 0.05:\n",
    "        print(f\"Para la métrica {metrica}, las medias son diferentes.\")\n",
    "    else:\n",
    "        print(f\"Para la métrica {metrica}, las medias son iguales.\")"
   ]
  },
  {
   "cell_type": "code",
   "execution_count": 16,
   "metadata": {},
   "outputs": [
    {
     "name": "stdout",
     "output_type": "stream",
     "text": [
      "Para la métrica flights_booked, las medias son iguales.\n"
     ]
    }
   ],
   "source": [
    "## llamamos a la función\n",
    "test_man_whitney(df_vuelos_educacion, 'flights_booked', 'bajo', 'alto', 'nivel_educativo')"
   ]
  },
  {
   "cell_type": "markdown",
   "metadata": {},
   "source": [
    "Las medias de vuelos reservados son iguales para los niveles educativos bajo y alto y, por lo tanto, no hay diferencias significativas entre los vuelos reservados por nivel educativo. Aunque, se podría hacer un test A/B para los diferentes niveles educativos cada uno por separado, sin agrupar."
   ]
  }
 ],
 "metadata": {
  "kernelspec": {
   "display_name": "base",
   "language": "python",
   "name": "python3"
  },
  "language_info": {
   "codemirror_mode": {
    "name": "ipython",
    "version": 3
   },
   "file_extension": ".py",
   "mimetype": "text/x-python",
   "name": "python",
   "nbconvert_exporter": "python",
   "pygments_lexer": "ipython3",
   "version": "3.9.7"
  }
 },
 "nbformat": 4,
 "nbformat_minor": 2
}
