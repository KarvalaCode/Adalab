{
 "cells": [
  {
   "cell_type": "markdown",
   "metadata": {},
   "source": [
    "# Evaluación Final\n",
    "\n",
    "## Ejercicio\n",
    "\n",
    "A lo largo de esta evaluación tendrás que crear una clase llamada TiendaOnline que cumpla los\n",
    "siguientes requisitos:"
   ]
  },
  {
   "cell_type": "markdown",
   "metadata": {},
   "source": [
    "La clase TiendaOnline debe tener los siguientes **atributos**:\n",
    "\n",
    "        1. inventario (lista de diccionarios): Un atributo para almacenar los productos en el\n",
    "        inventario. Cada producto debe ser representado como un diccionario con las siguientes\n",
    "        claves: 'nombre' , 'precio' , y 'cantidad' . Al principio deberá ser una lista vacía.\n",
    "        Ejemplo de como debería ser:\n",
    "        [{'nombre': 'Camisa', 'precio': 20, 'cantidad': 40},\n",
    "        {'nombre': 'Pantalón', 'precio': 30, 'cantidad': 30}]  \n",
    "\n",
    "        2. clientes (diccionario de diccionarios): Un atributo para llevar un registro de los clientes de la tienda.\n",
    "        Cada cliente debe ser representado como un diccionario con las siguientes claves:\n",
    "        'nombre' y 'email' . Al inicio deberá ser un diccionario vacío. Además, cada cliente\n",
    "        debe tener un historial de compras. Deberá parecerse a:\n",
    "        {'Cliente1': {'email': 'cliente1@email.com', 'compras': []},\n",
    "        'Cliente2': {'email': 'cliente2@email.com', 'compras': []}}  \n",
    "\n",
    "        3. ventas_totales (float): Un atributo para llevar un registro de las ventas totales de la\n",
    "        tienda. Inicializalo con valor 0."
   ]
  },
  {
   "cell_type": "code",
   "execution_count": 1,
   "metadata": {},
   "outputs": [],
   "source": [
    "import re\n",
    "\n",
    "class TiendaOnline:\n",
    "\n",
    "    #constructor\n",
    "    def __init__(self, nombre, inventario = [], clientes = {}, ventas_totales = 0.0):\n",
    "        self.nombre = nombre\n",
    "        self.inventario = inventario\n",
    "        self.clientes = clientes\n",
    "        self.ventas_totales = ventas_totales\n",
    "\n",
    "    # Validar si el producto existe en el invetario. \n",
    "    def producto_existe (self, nombre):\n",
    "        # Crea una lista con 1 diccionario en caso de que el producto ya exista en el inventario.\n",
    "        producto = [producto for producto in self.inventario if producto['nombre'].lower() == nombre.lower()]\n",
    "        \n",
    "        # si el producto existe (se ha creado la lista producto con un elemento), te devuelve un diicionario con el nombre, el precio y la cantidad de producto\n",
    "        if len(producto) >= 1:\n",
    "            return producto[0]\n",
    "        else:\n",
    "            return False    \n",
    "\n",
    "# La clase TiendaOnline debe tener los siguientes métodos:\n",
    "\n",
    "# 1. agregar_producto(self, nombre, precio, cantidad) : Este método agrega un producto al inventario o actualiza su cantidad si ya existe. Debe recibir el nombre, precio y cantidad del producto como parámetros.\n",
    "    # Itera a través del inventario y compara los nombres de los productos con el nombre proporcionado.\n",
    "    # Si el producto ya existe, actualiza la cantidad.\n",
    "    # Si no existe, agrega un nuevo producto al inventario.\n",
    "    \n",
    "    # inventario =  [{'nombre': 'Camisa', 'precio': 20, 'cantidad': 40}, {'nombre': 'Pantalón', 'precio': 30, 'cantidad': 30}]  \n",
    "    \n",
    "    def agregar_producto(self, nombre, precio, cantidad):\n",
    "\n",
    "        producto = self.producto_existe(nombre)\n",
    "        if producto:\n",
    "            indice = self.inventario.index(producto)\n",
    "            self.inventario[indice]['cantidad'] += cantidad\n",
    "\n",
    "            # Al no haber ningún método para actualizar los precios, se ha añadido esa funcionalidad a este método (el método te obliga a intrioducir el precio, aprovechémoslo)\n",
    "            # El método agregar_producto sirve tanto para agregar los productos como para actualizarles el precio y/o la cantidad\n",
    "            # Nos ahorraríamos la necesidad de tener otros métodos para actualizar el precio o la cantidad \n",
    "            \n",
    "            self.inventario[indice]['precio'] = precio\n",
    "\n",
    "            print(f\"La cantidad y el precio de '{nombre}' se ha actualizado correctamente en el inventario:{self.producto_existe(nombre)} \")\n",
    "        \n",
    "        # si el producto no existe (producto = False), se añade al inventario\n",
    "        else:\n",
    "            self.inventario.append({\n",
    "                'nombre': nombre,\n",
    "                'precio': precio,\n",
    "                'cantidad': cantidad}) \n",
    "            \n",
    "            print(f\"El producto '{nombre}' se ha agregado al inventario con éxito: {self.producto_existe(nombre)}\")\n",
    "                    \n",
    "        return self.inventario            \n",
    "\n",
    "    \n",
    "# 2. ver_inventario(self) : Muestra el inventario de productos con sus detalles.\n",
    "    # Utiliza un bucle for para recorrer el inventario.\n",
    "    # Imprime los detalles (nombre, precio, cantidad) de cada producto.\n",
    "    # Debería verse:\n",
    "    # Nombre: Camisa, Precio: $20, Cantidad: 50\n",
    "    # Nombre: Pantalón, Precio: $30, Cantidad: 30\n",
    "    # Nombre: Zapatos, Precio: $50, Cantidad: 40\n",
    "    # Nombre: Camisa, Precio: $20, Cantidad: 50     \n",
    "    \n",
    "    def ver_inventario(self):\n",
    "        for producto in self.inventario:\n",
    "            print(f\"Nombre: {producto['nombre']}, Precio: {producto['precio']}€, Cantidad: {producto['cantidad']}\")\n",
    "        print(f\"\\nEl inventario consta de {len(self.inventario)} productos\")\n",
    "\n",
    "# 3. buscar_producto(self, nombre): Busca un producto en el inventario por nombre y muestra sus detalles si se encuentra. Debe recibir el nombre del producto como parámetro.\n",
    "    # Utiliza un bucle for para recorrer el inventario.\n",
    "    # Compara los nombres de los productos con el nombre proporcionado.\n",
    "    # Si se encuentra el producto, imprime sus detalles.\n",
    "    # Debe mostrar:\n",
    "    # Nombre: Camisa, Precio: $20, Cantidad: 40       \n",
    "\n",
    "    def buscar_producto(self, nombre): \n",
    "        producto = self.producto_existe(nombre)\n",
    "        if producto:\n",
    "            print(f\"Nombre: {producto['nombre']}, Precio: {producto['precio']}€, Cantidad: {producto['cantidad']}\")\n",
    "\n",
    "        else:\n",
    "            print(\"El producto no existe en el inventario.\")    \n",
    "                    \n",
    "        return producto    \n",
    "\n",
    "# 4. actualizar_stock(self, nombre, cantidad) : Actualiza el stock de un producto en el inventario. Debe recibir el nombre del producto y la cantidad a agregar o quitar como parámetros.\n",
    "    # Utiliza un bucle for para recorrer el inventario.\n",
    "    # Busca el producto por nombre.\n",
    "    # Actualiza la cantidad según la entrada del usuario.\n",
    "    # Si el producto no esta en el inventario muestra un mensaje indicándolo.    \n",
    "\n",
    "    def actualizar_stock(self, nombre, cantidad):            \n",
    "        \n",
    "        producto = self.producto_existe(nombre)\n",
    "        \n",
    "        if producto:\n",
    "            indice = self.inventario.index(producto)\n",
    "            self.inventario[indice]['cantidad'] += cantidad\n",
    "            if self.inventario[indice]['cantidad'] <= 0:\n",
    "                self.inventario[indice]['cantidad'] = 0\n",
    "                print(f\"El stock del producto {nombre} se ha agotado\")\n",
    "\n",
    "            print(f\"La cantidad de '{nombre}' se ha actualizado en el inventario.\")\n",
    "\n",
    "            # Devolvemos el producto ya actualizado, por eso volvemos a llamar al método\n",
    "            return self.producto_existe(nombre)\n",
    "        \n",
    "        else:\n",
    "            print(f\"El producto '{nombre}' no existe en el inventario. Introdúzcalo en el inventario primero, por favor\")\n",
    "            return False\n",
    "\n",
    "# 5. eliminar_producto(self, nombre): Elimina un producto del inventario por nombre.\n",
    "    # Debe recibir el nombre del producto como parámetro.\n",
    "    # Utiliza un bucle for para recorrer el inventario.\n",
    "    # Busca el producto por nombre.\n",
    "    # Elimina el producto del inventario si existe.\n",
    "    # Si el producto no esta en el inventario muestra un mensaje indicándolo.         \n",
    "\n",
    "    def eliminar_producto(self, nombre):         \n",
    "        \n",
    "        producto = self.producto_existe(nombre)\n",
    "\n",
    "        if producto:\n",
    "            indice = self.inventario.index(producto)\n",
    "            self.inventario.pop(indice)\n",
    "            print(f\"El producto '{nombre}' se ha eliminado del inventario.\")\n",
    "            return self.inventario\n",
    "        \n",
    "        # si el producto no existe (producto será Fasle), se muestra un mensaje\n",
    "        else:\n",
    "            print(f\"El producto '{nombre}' no existe en el inventario.\") \n",
    "            return False             \n",
    "\n",
    "# 6. calcular_valor_inventario(self): Calcula y muestra el valor total del inventario.\n",
    "    # Utiliza un bucle for para calcular el valor total del inventario.\n",
    "    # Itera a través del inventario y suma el valor de cada producto (precio x cantidad). Es decir,\n",
    "    # calcula el valor total del inventario. Ejemplo:\n",
    "    # # si tenemos 5 camisas que valen 5 euros\n",
    "    # # y 10 calcetines que valen 1 euro\n",
    "    # # este método te tiene que devolver: 35 euros\n",
    "    # valor_camisas = 5 * 5\n",
    "    # valor_calcetines = 10 * 1\n",
    "    # valor_camisas + valor_calcetines = 35        \n",
    "\n",
    "    def calcular_valor_inventario(self):     \n",
    "        \n",
    "        valor_inventario = 0\n",
    "\n",
    "        for producto in self.inventario:\n",
    "            valor_inventario += (producto['precio']*producto['cantidad'])\n",
    "\n",
    "        print(f\"EL valor total del inventario es de {round(valor_inventario, 2)}€\")\n",
    "        return round(valor_inventario,2)\n",
    "\n",
    "# 7. buscar_producto_regex(self, patron): Busca productos en el inventario que coincidan con un patrón de búsqueda en formato regex en el nombre y muestra los resultados. Debe recibir el patrón como parámetro.\n",
    "    # Utiliza un bucle for para recorrer el inventario.\n",
    "    # Utiliza la función más apropiada para buscar coincidencias con el patrón de expresión regular.\n",
    "    # Agrega los productos encontrados a una lista y luego imprime sus detalles.    \n",
    "\n",
    "    def buscar_producto_regex(self, patron):\n",
    "        coincidencias = []\n",
    "\n",
    "        for producto in self.inventario:\n",
    "            resultado = re.findall(patron, producto['nombre'].lower())\n",
    "            if len(resultado) >= 1:\n",
    "                coincidencias.append(producto)\n",
    "                print(f\"Nombre: {producto['nombre']}, Precio: {producto['precio']}€, Cantidad: {producto['cantidad']}\")\n",
    "        print(f\"\\nSe han encontrado {len(coincidencias)} coincidencias\")\n",
    "        return coincidencias    \n",
    "    \n",
    "# 8. realizar_compra(self): Permite a un cliente realizar una compra seleccionando productos del inventario. Debe interactuar con el cliente para seleccionar productos y calcular el costo total de la compra.\n",
    "    # Utiliza un bucle while para permitir al cliente realizar múltiples compras.\n",
    "    # Muestra el inventario y solicita al cliente ingresar el nombre del producto que desea comprar.\n",
    "    # Registra los productos seleccionados en un carrito y actualiza el inventario.\n",
    "    # Calcula el costo total de la compra.\n",
    "\n",
    "    def realizar_compra(self):\n",
    "        seguir_comprando = 's'\n",
    "        carrito = []\n",
    "        importe = 0\n",
    "\n",
    "        while seguir_comprando  == 's':\n",
    "            nombre = input(f\"Ingresa el nombre del producto que quieres comprar? {self.inventario} \").strip()            \n",
    "            \n",
    "            producto = self.actualizar_stock(nombre, -1)\n",
    "            if producto:\n",
    "                importe += producto['precio']\n",
    "                carrito.append(producto)\n",
    "                \n",
    "            else:\n",
    "                print(\"El producto no existe en el inventario o no queda stock\")\n",
    "        \n",
    "            seguir_comprando = input(\"Quieres seguir comprando? s/n\").lower().strip()        \n",
    "\n",
    "            while seguir_comprando != 's' and seguir_comprando != 'n':\n",
    "                seguir_comprando = input('No te hemos entendido. Quieres seguir comprando? s/n').lower().strip()        \n",
    "\n",
    "        print(f\"Los productos comprados son: {carrito}.\\nEl importe total de la compra es de {importe}€\")\n",
    "        return carrito\n",
    "\n",
    "# 9. procesar_pago(self): Procesa el pago de una compra, calcula el cambio y muestra un mensaje de confirmación.\n",
    "    # Utiliza un bloque try...except para manejar excepciones.\n",
    "    # Solicita al cliente ingresar la cantidad total y la cantidad de pago usando un input.\n",
    "    # Calcula el cambio y muestra un mensaje de pago exitoso o un error en caso de monto insuficiente.   \n",
    "\n",
    "    def procesar_pago(self):\n",
    "        try:\n",
    "            pagar = float(input('Ingrese la cantidad a pagar, por favor:').strip())\n",
    "            total = float(input('Ingrese la cantidad total con la que va a pagar, por favor:').strip())\n",
    "            \n",
    "            cambio = total - pagar\n",
    "\n",
    "            if cambio >= 0:\n",
    "                print(f\"Pago realizado con éxito. Su cambio son: {cambio}€\")\n",
    "        \n",
    "            else:\n",
    "                print('No ha introducido dinero suficiente para realizar el pago. Vuelva a procesarlo, por favor')\n",
    "                \n",
    "        except TypeError:    \n",
    "            print('Debe introducir un número (los decimales han de indicarse con un punto). Vuelva a procesar su pago, por favor')\n",
    "\n",
    "        except: \n",
    "            print('Ha habido algún error con su pago. Vuelva a procesarlo de nuevo, por favor')\n",
    "        \n",
    "# 10. agregar_cliente(self, nombre, email): Agrega un nuevo cliente al registro de clientes. Debe recibir el nombre y el correo electrónico del cliente como parámetros.\n",
    "    # Agrega un cliente al diccionario de clientes con su nombre y correo electrónico.           \n",
    "\n",
    "    # clientes = {'Cliente1': {'email': 'cliente1@email.com', 'compras': []},'Cliente2': {'email': 'cliente2@email.com', 'compras': []}}          \n",
    "\n",
    "    def agregar_cliente(self, nombre, email):\n",
    "        if nombre in self.clientes:\n",
    "            print(f\"El cliente '{nombre}' ya existe en la cartera de clientes.\")\n",
    "        else:\n",
    "            self.clientes[nombre] = {\n",
    "                'email' : email,\n",
    "                'compras': []} \n",
    "            print(f\"El cliente '{nombre}' se ha añadido correctamente a la cartera de clientes.\")   \n",
    "        return self.clientes \n",
    "    \n",
    "# 11. ver_clientes(self): Muestra la lista de clientes registrados con sus nombres y correos electrónicos.\n",
    "    # Utiliza un bucle for para recorrer la base de datos de clientes.\n",
    "    # Imprime los detalles de cada cliente (nombre y correo electrónico).    \n",
    "    \n",
    "    def ver_clientes(self):\n",
    "        for cliente, datos in self.clientes.items():\n",
    "            print(f\"Nombre: {cliente} --> Correo electrónico: {datos['email']}.\")\n",
    "        print(f\"\\nLa cartera de clientes consta de {len(self.clientes)} clientes\")\n",
    "\n",
    "# 12. registrar_compra(self, nombre_cliente, carrito): Registra una compra para un cliente, actualiza las ventas totales y agrega la compra al historial del cliente. Debe recibir el nombre del cliente y el carrito de compras como parámetros.\n",
    "    # Busca al cliente en el diccionario de clientes.\n",
    "    # Si el cliente no esta en el diccionario de clientes, muestra que no se puede realizar la acción por que el cliente no está en el diccionario.\n",
    "    # Calcula el total de la compra y registra la compra, incluyendo los productos y el total.\n",
    "    # Ejemplo:\n",
    "        # carrito_cliente1 = {\"Camisa\": {\"precio\": 20, \"cantidad\": 3}}\n",
    "        # tienda.registrar_compra(\"Cliente1\", carrito_cliente1) \n",
    "\n",
    "        # clientes = {'Cliente1': {'email': 'cliente1@email.com', 'compras': [{\"Camisa\": {\"precio\": 20, \"cantidad\": 3}}, {\"Pantalón\": {\"precio\": 15, \"cantidad\": 2}}]},'Cliente2': {'email': 'cliente2@email.com', 'compras': [{'Crema deporte': {'precio': 50, 'cantidad': 3}}, {'Crema facial': {'precio': 65, 'cantidad': 2}}, {'Crema deporte': {'precio': 50, 'cantidad': 3}}, {'Crema facial': {'precio': 65, 'cantidad': 2}}]}.]}}\n",
    "\n",
    "        #producto = {'nombre': 'Camisa', 'precio': 20, 'cantidad': 40}\n",
    "\n",
    "    def registrar_compra(self, nombre_cliente, carrito):\n",
    "        importe = 0\n",
    "        \n",
    "        if nombre_cliente in self.clientes:\n",
    "            for elemento, valores in carrito.items():\n",
    "\n",
    "                importe_elemento = ((valores['cantidad'])*(valores['precio'])) \n",
    "\n",
    "                producto = self.actualizar_stock(elemento, -(valores['cantidad']))\n",
    "                \n",
    "                if producto:\n",
    "                   \n",
    "                    #Actualiza ventas_totales\n",
    "                    self.ventas_totales += importe_elemento\n",
    "                \n",
    "                    #Actualiza importe de la compra\n",
    "                    importe += importe_elemento \n",
    "\n",
    "                    #Actualiza las compras del cliente\n",
    "                    compra_existe = []\n",
    "                    for compra in self.clientes[nombre_cliente]['compras']:\n",
    "                        prod, valor = list(compra.items())[0]\n",
    "                        if elemento.lower() == prod.lower():\n",
    "                            compra_existe.append(prod)\n",
    "\n",
    "                    #Si el elemento (producto comprado en el carrito) está en la lista de compras del cliente, se suma la cantidad\n",
    "                    if len(compra_existe) >= 1:\n",
    "                        for compra in self.clientes[nombre_cliente]['compras']:\n",
    "                            prod, valor = list(compra.items()) [0]\n",
    "                            if elemento.lower() == prod.lower():\n",
    "                                valor['cantidad'] += valores['cantidad']\n",
    "                    else:\n",
    "                        self.clientes[nombre_cliente]['compras'].append({elemento : valores})       \n",
    "\n",
    "                else:\n",
    "                    print(f\"El producto '{elemento}' no existe en el inventario o no hay sufiente stock\")\n",
    "        \n",
    "        else:\n",
    "            print(f\"El cliente '{nombre_cliente}' no existe en la cartera de clientes. Añádalo a la cartera de clientes antes de registrar una compra.\")\n",
    "\n",
    "        print(f\"Se ha actualizado la compra: {carrito}.\\nLas ventas totales quedan en {self.ventas_totales}€.\\nEl cliente '{nombre_cliente}' se ha a actualizado: {self.clientes[nombre_cliente]}.\\nEl importe total de la compra es de {importe}€.\")\n",
    "\n",
    "        return self.clientes\n",
    "\n",
    "# 13. ver_compras_cliente(self, nombre_cliente): Muestra el historial de compras de un cliente. Debe recibir el nombre del cliente como parámetro.\n",
    "    # Busca al cliente en el diccionario de clientes.\n",
    "    # Muestra las compras realizadas por el cliente, incluyendo detalles de productos y totales.\n",
    "\n",
    "    # clientes = {'Cliente1': {'email': 'cliente1@email.com', 'compras': []},'Cliente2': {'email': 'cliente2@email.com', 'compras': []}}\n",
    "    \n",
    "\n",
    "    #'compras': [{'Crema deporte': {'precio': 50, 'cantidad': 3}}, {'Crema facial': {'precio': 65, 'cantidad': 2}}]},\n",
    "\n",
    "    def ver_compras_cliente(self, nombre_cliente):\n",
    "        for cliente, datos in self.clientes.items():\n",
    "            if cliente == nombre_cliente:\n",
    "\n",
    "                gasto_total = 0\n",
    "                \n",
    "                print(f\"Compras '{cliente}':\")\n",
    "                      \n",
    "                for elemento in datos['compras']:\n",
    "                    prod, valor = list(elemento.items())[0]\n",
    "                    importe_prod = valor['precio']*valor['cantidad']\n",
    "                    gasto_total += importe_prod\n",
    "                    print(f\"Producto: {prod}, precio: {valor['precio']}, cantidad: {valor['cantidad']} e importe: {importe_prod}€.\") \n",
    "\n",
    "        print(f\"\\nEl importe total gastado por el cliente: '{nombre_cliente}' en la tienda: '{self.nombre}' es de: {gasto_total}€\")            \n",
    "\n",
    "# 14. calcular_ventas_totales(self) : Muestra las ventas totales de la tienda.\n",
    "    # Suma los totales de todas las compras realizadas y muestra el total de ventas totales en la tienda.\n",
    "\n",
    "    def calcular_ventas_totales(self):\n",
    "        # sería suficiente con devolver las ventas_totales que ya se han ido actualizando en cada compra\n",
    "            #return self.ventas_totales\n",
    "\n",
    "        ventas_total = 0\n",
    "        for cliente, datos in self.clientes.items():\n",
    "            for elemento in datos['compras']:\n",
    "                prod, valor = list(elemento.items())[0]\n",
    "                importe = valor['precio']*valor['cantidad']\n",
    "                ventas_total += importe\n",
    "        print(f\"Las ventas totales de la tienda '{self.nombre}' son: {ventas_total}€\\n\\nVentas totales: {self.ventas_totales}€\")    \n",
    "        return ventas_total\n",
    "\n",
    "# Instrucciones Adicionales:\n",
    "# Debes crear instancias de la clase TiendaOnline y probar cada uno de los métodos para demostrar que funcionan correctamente"
   ]
  },
  {
   "cell_type": "code",
   "execution_count": 2,
   "metadata": {},
   "outputs": [
    {
     "data": {
      "text/plain": [
       "{'nombre': 'Mannali', 'inventario': [], 'clientes': {}, 'ventas_totales': 0.0}"
      ]
     },
     "execution_count": 2,
     "metadata": {},
     "output_type": "execute_result"
    }
   ],
   "source": [
    "# Creamos una tienda (objeto/instancia de clase)\n",
    "tienda1 = TiendaOnline(\"Mannali\")\n",
    "tienda1.__dict__"
   ]
  },
  {
   "cell_type": "code",
   "execution_count": 3,
   "metadata": {},
   "outputs": [
    {
     "name": "stdout",
     "output_type": "stream",
     "text": [
      "El producto 'Crema deporte' se ha agregado al inventario con éxito: {'nombre': 'Crema deporte', 'precio': 46.5, 'cantidad': 15}\n",
      "El producto 'Aceite' se ha agregado al inventario con éxito: {'nombre': 'Aceite', 'precio': 50.75, 'cantidad': 10}\n",
      "El producto 'Crema facial' se ha agregado al inventario con éxito: {'nombre': 'Crema facial', 'precio': 65.25, 'cantidad': 32}\n",
      "El producto 'Crema cuerpo' se ha agregado al inventario con éxito: {'nombre': 'Crema cuerpo', 'precio': 63.99, 'cantidad': 2}\n",
      "El producto 'Flores' se ha agregado al inventario con éxito: {'nombre': 'Flores', 'precio': 105.1, 'cantidad': 38}\n"
     ]
    },
    {
     "data": {
      "text/plain": [
       "[{'nombre': 'Crema deporte', 'precio': 46.5, 'cantidad': 15},\n",
       " {'nombre': 'Aceite', 'precio': 50.75, 'cantidad': 10},\n",
       " {'nombre': 'Crema facial', 'precio': 65.25, 'cantidad': 32},\n",
       " {'nombre': 'Crema cuerpo', 'precio': 63.99, 'cantidad': 2},\n",
       " {'nombre': 'Flores', 'precio': 105.1, 'cantidad': 38}]"
      ]
     },
     "execution_count": 3,
     "metadata": {},
     "output_type": "execute_result"
    }
   ],
   "source": [
    "# 1\n",
    "inventario1 = tienda1.agregar_producto(\"Crema deporte\", 46.5, 15)\n",
    "inventario1 = tienda1.agregar_producto(\"Aceite\", 50.75, 10)\n",
    "inventario1 = tienda1.agregar_producto(\"Crema facial\", 65.25, 32)\n",
    "inventario1 = tienda1.agregar_producto(\"Crema cuerpo\", 63.99, 2)\n",
    "inventario1 = tienda1.agregar_producto(\"Flores\", 105.10, 38)\n",
    "inventario1\n",
    "     "
   ]
  },
  {
   "cell_type": "code",
   "execution_count": 4,
   "metadata": {},
   "outputs": [
    {
     "name": "stdout",
     "output_type": "stream",
     "text": [
      "Nombre: Crema deporte, Precio: 46.5€, Cantidad: 15\n",
      "Nombre: Aceite, Precio: 50.75€, Cantidad: 10\n",
      "Nombre: Crema facial, Precio: 65.25€, Cantidad: 32\n",
      "Nombre: Crema cuerpo, Precio: 63.99€, Cantidad: 2\n",
      "Nombre: Flores, Precio: 105.1€, Cantidad: 38\n",
      "\n",
      "El inventario consta de 5 productos\n"
     ]
    }
   ],
   "source": [
    "# 2\n",
    "tienda1.ver_inventario()"
   ]
  },
  {
   "cell_type": "code",
   "execution_count": 5,
   "metadata": {},
   "outputs": [
    {
     "name": "stdout",
     "output_type": "stream",
     "text": [
      "Nombre: Aceite, Precio: 50.75€, Cantidad: 10\n"
     ]
    },
    {
     "data": {
      "text/plain": [
       "{'nombre': 'Aceite', 'precio': 50.75, 'cantidad': 10}"
      ]
     },
     "execution_count": 5,
     "metadata": {},
     "output_type": "execute_result"
    }
   ],
   "source": [
    "# 3\n",
    "aceite = tienda1.buscar_producto('Aceite')\n",
    "aceite"
   ]
  },
  {
   "cell_type": "code",
   "execution_count": 6,
   "metadata": {},
   "outputs": [
    {
     "name": "stdout",
     "output_type": "stream",
     "text": [
      "El producto 'Flodres' no existe en el inventario. Introdúzcalo en el inventario primero, por favor\n"
     ]
    },
    {
     "data": {
      "text/plain": [
       "False"
      ]
     },
     "execution_count": 6,
     "metadata": {},
     "output_type": "execute_result"
    }
   ],
   "source": [
    "# 4\n",
    "flores = tienda1.actualizar_stock('Flodres', -2)\n",
    "flores"
   ]
  },
  {
   "cell_type": "code",
   "execution_count": 7,
   "metadata": {},
   "outputs": [
    {
     "name": "stdout",
     "output_type": "stream",
     "text": [
      "El producto 'Crema Cuerpo' se ha eliminado del inventario.\n"
     ]
    },
    {
     "data": {
      "text/plain": [
       "[{'nombre': 'Crema deporte', 'precio': 46.5, 'cantidad': 15},\n",
       " {'nombre': 'Aceite', 'precio': 50.75, 'cantidad': 10},\n",
       " {'nombre': 'Crema facial', 'precio': 65.25, 'cantidad': 32},\n",
       " {'nombre': 'Flores', 'precio': 105.1, 'cantidad': 38}]"
      ]
     },
     "execution_count": 7,
     "metadata": {},
     "output_type": "execute_result"
    }
   ],
   "source": [
    "# 5 \n",
    "inventario1 = tienda1.eliminar_producto('Crema Cuerpo')\n",
    "inventario1"
   ]
  },
  {
   "cell_type": "code",
   "execution_count": 8,
   "metadata": {},
   "outputs": [
    {
     "name": "stdout",
     "output_type": "stream",
     "text": [
      "EL valor total del inventario es de 7286.8€\n"
     ]
    },
    {
     "data": {
      "text/plain": [
       "7286.8"
      ]
     },
     "execution_count": 8,
     "metadata": {},
     "output_type": "execute_result"
    }
   ],
   "source": [
    "# 6\n",
    "valor_inventario1 = tienda1.calcular_valor_inventario()\n",
    "valor_inventario1"
   ]
  },
  {
   "cell_type": "code",
   "execution_count": 9,
   "metadata": {},
   "outputs": [
    {
     "name": "stdout",
     "output_type": "stream",
     "text": [
      "Nombre: Crema deporte, Precio: 46.5€, Cantidad: 15\n",
      "Nombre: Crema facial, Precio: 65.25€, Cantidad: 32\n",
      "\n",
      "Se han encontrado 2 coincidencias\n"
     ]
    },
    {
     "data": {
      "text/plain": [
       "[{'nombre': 'Crema deporte', 'precio': 46.5, 'cantidad': 15},\n",
       " {'nombre': 'Crema facial', 'precio': 65.25, 'cantidad': 32}]"
      ]
     },
     "execution_count": 9,
     "metadata": {},
     "output_type": "execute_result"
    }
   ],
   "source": [
    "# 7\n",
    "cremas = tienda1.buscar_producto_regex('crema\\s\\w+')\n",
    "cremas"
   ]
  },
  {
   "cell_type": "code",
   "execution_count": 10,
   "metadata": {},
   "outputs": [
    {
     "name": "stdout",
     "output_type": "stream",
     "text": [
      "La cantidad de 'aceite' se ha actualizado en el inventario.\n",
      "La cantidad de 'flores' se ha actualizado en el inventario.\n",
      "El producto 'sdf' no existe en el inventario. Introdúzcalo en el inventario primero, por favor\n",
      "El producto no existe en el inventario o no queda stock\n",
      "Los productos comprados son: [{'nombre': 'Aceite', 'precio': 50.75, 'cantidad': 9}, {'nombre': 'Flores', 'precio': 105.1, 'cantidad': 37}].\n",
      "El importe total de la compra es de 155.85€\n"
     ]
    },
    {
     "data": {
      "text/plain": [
       "[{'nombre': 'Aceite', 'precio': 50.75, 'cantidad': 9},\n",
       " {'nombre': 'Flores', 'precio': 105.1, 'cantidad': 37}]"
      ]
     },
     "execution_count": 10,
     "metadata": {},
     "output_type": "execute_result"
    }
   ],
   "source": [
    "# 8\n",
    "compra1_x = tienda1.realizar_compra()\n",
    "compra1_x"
   ]
  },
  {
   "cell_type": "code",
   "execution_count": 11,
   "metadata": {},
   "outputs": [
    {
     "name": "stdout",
     "output_type": "stream",
     "text": [
      "Pago realizado con éxito. Su cambio son: 41.0€\n"
     ]
    }
   ],
   "source": [
    "# 9 \n",
    "tienda1.procesar_pago()"
   ]
  },
  {
   "cell_type": "code",
   "execution_count": 12,
   "metadata": {},
   "outputs": [
    {
     "name": "stdout",
     "output_type": "stream",
     "text": [
      "El cliente 'Sara' se ha añadido correctamente a la cartera de clientes \n",
      "El cliente 'Alex' se ha añadido correctamente a la cartera de clientes \n",
      "El cliente 'Kira' se ha añadido correctamente a la cartera de clientes \n"
     ]
    },
    {
     "data": {
      "text/plain": [
       "{'Sara': {'email': 'Sara@Karvala.net', 'compras': []},\n",
       " 'Alex': {'email': 'alexambit@estudifgh.net', 'compras': []},\n",
       " 'Kira': {'email': 'Kira@Karvala.net', 'compras': []}}"
      ]
     },
     "execution_count": 12,
     "metadata": {},
     "output_type": "execute_result"
    }
   ],
   "source": [
    "# 10\n",
    "clientes1 = tienda1.agregar_cliente('Sara', 'Sara@Karvala.net')\n",
    "clientes1 = tienda1.agregar_cliente('Alex', 'alexambit@estudifgh.net')\n",
    "clientes1 = tienda1.agregar_cliente('Kira', 'Kira@Karvala.net')\n",
    "clientes1"
   ]
  },
  {
   "cell_type": "code",
   "execution_count": 13,
   "metadata": {},
   "outputs": [
    {
     "name": "stdout",
     "output_type": "stream",
     "text": [
      "Nombre: Sara --> Correo electrónico: Sara@Karvala.net.\n",
      "Nombre: Alex --> Correo electrónico: alexambit@estudifgh.net.\n",
      "Nombre: Kira --> Correo electrónico: Kira@Karvala.net.\n",
      "\n",
      "La cartera de clientes consta de 3 clientes\n"
     ]
    }
   ],
   "source": [
    "# 11\n",
    "tienda1.ver_clientes()"
   ]
  },
  {
   "cell_type": "code",
   "execution_count": 14,
   "metadata": {},
   "outputs": [
    {
     "name": "stdout",
     "output_type": "stream",
     "text": [
      "La cantidad de 'flores' se ha actualizado en el inventario.\n",
      "La cantidad de 'Crema deporte' se ha actualizado en el inventario.\n",
      "La cantidad de 'Crema facial' se ha actualizado en el inventario.\n",
      "Se ha actualizado la compra: {'flores': {'precio': 50, 'cantidad': 3}, 'Crema deporte': {'precio': 50, 'cantidad': 3}, 'Crema facial': {'precio': 65, 'cantidad': 2}}.\n",
      "Las ventas totales quedan en 430.0€.\n",
      "El cliente 'Sara' se ha a actualizado: {'email': 'Sara@Karvala.net', 'compras': [{'flores': {'precio': 50, 'cantidad': 3}}, {'Crema deporte': {'precio': 50, 'cantidad': 3}}, {'Crema facial': {'precio': 65, 'cantidad': 2}}]}.\n",
      "El importe total de la compra es de 430€.\n"
     ]
    },
    {
     "data": {
      "text/plain": [
       "{'Sara': {'email': 'Sara@Karvala.net',\n",
       "  'compras': [{'flores': {'precio': 50, 'cantidad': 3}},\n",
       "   {'Crema deporte': {'precio': 50, 'cantidad': 3}},\n",
       "   {'Crema facial': {'precio': 65, 'cantidad': 2}}]},\n",
       " 'Alex': {'email': 'alexambit@estudifgh.net', 'compras': []},\n",
       " 'Kira': {'email': 'Kira@Karvala.net', 'compras': []}}"
      ]
     },
     "execution_count": 14,
     "metadata": {},
     "output_type": "execute_result"
    }
   ],
   "source": [
    "# 12 \n",
    "inventario1 = tienda1.registrar_compra('Sara', {'flores': {'precio': 50, 'cantidad': 3}, 'Crema deporte': {'precio': 50, 'cantidad': 3}, 'Crema facial': {'precio': 65, 'cantidad': 2} })\n",
    "inventario1"
   ]
  },
  {
   "cell_type": "code",
   "execution_count": 15,
   "metadata": {},
   "outputs": [
    {
     "name": "stdout",
     "output_type": "stream",
     "text": [
      "Compras 'Sara':\n",
      "Producto: flores, precio: 50, cantidad: 3 e importe: 150€.\n",
      "Producto: Crema deporte, precio: 50, cantidad: 3 e importe: 150€.\n",
      "Producto: Crema facial, precio: 65, cantidad: 2 e importe: 130€.\n",
      "\n",
      "El importe total gastado por el cliente: 'Sara' en la tienda: 'Mannali' es de: 430€\n"
     ]
    }
   ],
   "source": [
    "# 13\n",
    "tienda1.ver_compras_cliente('Sara')"
   ]
  },
  {
   "cell_type": "code",
   "execution_count": 16,
   "metadata": {},
   "outputs": [
    {
     "name": "stdout",
     "output_type": "stream",
     "text": [
      "Las ventas totales de la tienda 'Mannali' son: 430€\n",
      "\n",
      "Ventas totales: 430.0€\n"
     ]
    },
    {
     "data": {
      "text/plain": [
       "430"
      ]
     },
     "execution_count": 16,
     "metadata": {},
     "output_type": "execute_result"
    }
   ],
   "source": [
    "#14\n",
    "ventas1 = tienda1.calcular_ventas_totales()\n",
    "ventas1"
   ]
  }
 ],
 "metadata": {
  "kernelspec": {
   "display_name": "base",
   "language": "python",
   "name": "python3"
  },
  "language_info": {
   "codemirror_mode": {
    "name": "ipython",
    "version": 3
   },
   "file_extension": ".py",
   "mimetype": "text/x-python",
   "name": "python",
   "nbconvert_exporter": "python",
   "pygments_lexer": "ipython3",
   "version": "3.9.7"
  }
 },
 "nbformat": 4,
 "nbformat_minor": 2
}
